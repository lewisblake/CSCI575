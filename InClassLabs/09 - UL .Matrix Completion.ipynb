{
 "cells": [
  {
   "cell_type": "markdown",
   "metadata": {
    "deletable": false,
    "editable": false,
    "nbgrader": {
     "checksum": "4a3398d5d8fe0ca96af3d435f6d38a7a",
     "grade": false,
     "grade_id": "cell-c5f063695988bbdc",
     "locked": true,
     "schema_version": 1,
     "solution": false
    }
   },
   "source": [
    "# Unsupervised Learning - Matrix Completion\n",
    "\n",
    "In this exercise we will:\n",
    "\n",
    "- create some synthetic data in the form of a matrix\n",
    "- delete a portion of the data\n",
    "- use various matrix completion algorithms to fill the incomplete matrix\n",
    "- compare the matrix completion algorithms\n",
    "\n",
    "To get started, we will be using the [fancyimpute](https://github.com/iskandr/fancyimpute) library."
   ]
  },
  {
   "cell_type": "markdown",
   "metadata": {
    "deletable": false,
    "editable": false,
    "nbgrader": {
     "checksum": "6d5a8dfd95d778711e23dda75140e4c5",
     "grade": false,
     "grade_id": "cell-8cf9199a0893ca62",
     "locked": true,
     "schema_version": 1,
     "solution": false
    }
   },
   "source": [
    "To install libraries in Python we use [`pip`](https://pip.pypa.io/en/stable/) to install globally or [`pipenv`](https://github.com/pypa/pipenv) to install locally. Depending on if you are working on this on your computer or on colab, you will want to uncomment a different line in the next cell. As colab is our own server environment, you can install things globally, whereas on your computer you want to install dependencies on a per project basis and so should use `pipenv` instead.\n",
    "\n",
    "In Jupyter notebooks, we can run a command in shell by starting the cell with `!`."
   ]
  },
  {
   "cell_type": "code",
   "execution_count": 1,
   "metadata": {},
   "outputs": [
    {
     "name": "stdout",
     "output_type": "stream",
     "text": [
      "/bin/sh: pipenv: command not found\r\n"
     ]
    }
   ],
   "source": [
    "#!pip install fancyimpute\n",
    "#!pipenv install fancyimpute"
   ]
  },
  {
   "cell_type": "code",
   "execution_count": null,
   "metadata": {
    "deletable": false,
    "editable": false,
    "nbgrader": {
     "checksum": "938981843c1691377c4e39e0d8a8be81",
     "grade": false,
     "grade_id": "cell-7df2defd51fbfab6",
     "locked": true,
     "schema_version": 1,
     "solution": false
    }
   },
   "outputs": [],
   "source": [
    "import numpy as np\n",
    "import pandas as pd\n",
    "import matplotlib\n",
    "import matplotlib.pyplot as plt\n",
    "import sklearn as sk\n",
    "from fancyimpute import SimpleFill, KNN, MatrixFactorization\n",
    "\n",
    "%matplotlib inline\n",
    "plt.style.use(\"ggplot\")\n",
    "\n",
    "np.random.seed(0)"
   ]
  },
  {
   "cell_type": "markdown",
   "metadata": {
    "deletable": false,
    "editable": false,
    "nbgrader": {
     "checksum": "a9cf0f41711cd63a7b3f62cecb188350",
     "grade": false,
     "grade_id": "cell-83853056a4995f40",
     "locked": true,
     "schema_version": 1,
     "solution": false
    }
   },
   "source": [
    "## Synthetic Data\n",
    "First, let us create some synthetic data that we are going to use to test out a variety of matrix completion algorithms. Note that we force the data in $X$ to have a rank equal to five. "
   ]
  },
  {
   "cell_type": "code",
   "execution_count": null,
   "metadata": {
    "deletable": false,
    "editable": false,
    "nbgrader": {
     "checksum": "524d354312608287e3fb49e5b7bfebb4",
     "grade": false,
     "grade_id": "cell-f1c98e1e842941f2",
     "locked": true,
     "schema_version": 1,
     "solution": false
    }
   },
   "outputs": [],
   "source": [
    "# Create the data matrix X\n",
    "n = 30\n",
    "m = 30\n",
    "inner_rank = 5\n",
    "X = np.dot(np.random.randn(n, inner_rank), np.random.randn(inner_rank, m))"
   ]
  },
  {
   "cell_type": "code",
   "execution_count": null,
   "metadata": {
    "deletable": false,
    "editable": false,
    "nbgrader": {
     "checksum": "e0b745be1899196109b78cea18c895fd",
     "grade": false,
     "grade_id": "cell-0ac55c585d91159e",
     "locked": true,
     "schema_version": 1,
     "solution": false
    }
   },
   "outputs": [],
   "source": [
    "# Let's visualize the matrix X\n",
    "plt.figure()\n",
    "plt.imshow(X)\n",
    "plt.grid(False)\n",
    "plt.show()"
   ]
  },
  {
   "cell_type": "markdown",
   "metadata": {
    "deletable": false,
    "editable": false,
    "nbgrader": {
     "checksum": "ed2e16f5ef2b1f800982baa523d80d9d",
     "grade": false,
     "grade_id": "cell-9efcd717d87a7b77",
     "locked": true,
     "schema_version": 1,
     "solution": false
    }
   },
   "source": [
    "## Removing Data From $X$\n",
    "Since we are studying matrix completion algorithms we need to have some missing values! To do this we will randomly remove some data from $X$. \n",
    "\n",
    "Remember... since $X$ can be represented by `inner_rank = 5` linearly independent columns it should be relatively easy for a matrix completion algorithm to reconstruct the missing data."
   ]
  },
  {
   "cell_type": "code",
   "execution_count": null,
   "metadata": {
    "deletable": false,
    "editable": false,
    "nbgrader": {
     "checksum": "c203d03b01c0e03199bf637055de156b",
     "grade": false,
     "grade_id": "cell-8bf1a624f06178d9",
     "locked": true,
     "schema_version": 1,
     "solution": false
    }
   },
   "outputs": [],
   "source": [
    "# Since our values are random from 0 to 1 we can select a cutoff to remove all points less than a value\n",
    "# Doing so is a good enough approximation of removing that percentage of the matrix\n",
    "# You may change the cutoff value and see how your results change\n",
    "cutoff = 0.4\n",
    "missing_mask = np.random.rand(*X.shape) < cutoff\n",
    "X_incomplete = X.copy()\n",
    "# missing entries indicated with NaN\n",
    "X_incomplete[missing_mask] = np.nan"
   ]
  },
  {
   "cell_type": "code",
   "execution_count": null,
   "metadata": {
    "deletable": false,
    "editable": false,
    "nbgrader": {
     "checksum": "d36f11b40af23f9437d34d759a4858a7",
     "grade": false,
     "grade_id": "cell-0f7b57ff4f66c552",
     "locked": true,
     "schema_version": 1,
     "solution": false
    }
   },
   "outputs": [],
   "source": [
    "# Let's visualize the data matrix X_incomplete\n",
    "plt.figure()\n",
    "plt.imshow(X_incomplete)\n",
    "plt.grid(False)\n",
    "plt.show()"
   ]
  },
  {
   "cell_type": "markdown",
   "metadata": {
    "deletable": false,
    "editable": false,
    "nbgrader": {
     "checksum": "510a615e86eeca8fb9a522e6fcab4ddd",
     "grade": false,
     "grade_id": "cell-f2fd67262427b984",
     "locked": true,
     "schema_version": 1,
     "solution": false
    }
   },
   "source": [
    "## Matrix Completion\n",
    "Now, given the incomplete matrix `X_incomplete` we want to try and fill in the missing values. For this we are going to use the https://github.com/iskandr/fancyimpute package in Python.\n",
    "\n",
    "For the first example, I will provide an example implementation where we fill in all the missing values using `SimpleFill`. SimpleFill will complete the matrix using an average metric."
   ]
  },
  {
   "cell_type": "code",
   "execution_count": null,
   "metadata": {
    "deletable": false,
    "editable": false,
    "nbgrader": {
     "checksum": "eb678d1203e56a2a8e7f50a4e8217d2b",
     "grade": false,
     "grade_id": "cell-df9eba94ebec763c",
     "locked": true,
     "schema_version": 1,
     "solution": false
    }
   },
   "outputs": [],
   "source": [
    "meanFill = SimpleFill(\"mean\")\n",
    "X_filled_mean = meanFill.fit_transform(X_incomplete)"
   ]
  },
  {
   "cell_type": "code",
   "execution_count": null,
   "metadata": {
    "deletable": false,
    "editable": false,
    "nbgrader": {
     "checksum": "2fe65e6f8624f9c938de7d87c614303e",
     "grade": false,
     "grade_id": "cell-d4ce509cb9f02ca0",
     "locked": true,
     "schema_version": 1,
     "solution": false
    }
   },
   "outputs": [],
   "source": [
    "f, (ax1, ax2, ax3) = plt.subplots(1, 3, figsize=(14,6))\n",
    "\n",
    "ax1.imshow(X)\n",
    "ax1.set_title(\"Original Matrix\")\n",
    "ax1.grid(False)\n",
    "\n",
    "ax2.imshow(X_filled_mean)\n",
    "ax2.set_title(\"Mean Fill Completed Matrix\")\n",
    "ax2.grid(False)\n",
    "\n",
    "ax3.imshow(X_incomplete)\n",
    "ax3.set_title(\"Incomplete Matrix\")\n",
    "ax3.grid(False)\n",
    "plt.show()"
   ]
  },
  {
   "cell_type": "code",
   "execution_count": null,
   "metadata": {
    "deletable": false,
    "editable": false,
    "nbgrader": {
     "checksum": "f49de9dc1037d6d100de9f4253164776",
     "grade": false,
     "grade_id": "cell-0862443f99453500",
     "locked": true,
     "schema_version": 1,
     "solution": false
    }
   },
   "outputs": [],
   "source": [
    "# To test the performance of our matrix completion algorithm we want to compare\n",
    "# the \"filled-in\" values to the original:\n",
    "def mat_completion_mse(X_filled, X_truth, missing_mask):\n",
    "    \"\"\"Calculates the mean squared error of the filled in values vs. the truth\n",
    "    \n",
    "    Args:\n",
    "        X_filled (np.ndarray): The \"filled-in\" matrix from a matrix completion algorithm\n",
    "        X_truth (np.ndarray): The true filled in matrix\n",
    "        missing_mask (np.ndarray): Boolean array of missing values\n",
    "    \n",
    "    Returns:\n",
    "        float: Mean squares error of the filled values\n",
    "    \"\"\"\n",
    "    mse = ((X_filled[missing_mask] - X[missing_mask]) ** 2).mean()\n",
    "    return mse"
   ]
  },
  {
   "cell_type": "code",
   "execution_count": null,
   "metadata": {
    "deletable": false,
    "editable": false,
    "nbgrader": {
     "checksum": "3aea1e6d0d9f9e75bfde836827f309d7",
     "grade": false,
     "grade_id": "cell-532e359438e8446e",
     "locked": true,
     "schema_version": 1,
     "solution": false
    }
   },
   "outputs": [],
   "source": [
    "meanFill_mse = mat_completion_mse(X_filled_mean, X, missing_mask)\n",
    "print(\"meanFill MSE: %f\" % meanFill_mse)"
   ]
  },
  {
   "cell_type": "markdown",
   "metadata": {
    "deletable": false,
    "editable": false,
    "nbgrader": {
     "checksum": "64f718690dbe20791a806dc6eaa93fa1",
     "grade": false,
     "grade_id": "cell-e28746675948aebb",
     "locked": true,
     "schema_version": 1,
     "solution": false
    }
   },
   "source": [
    "### KNN Completion\n",
    "\n",
    "Next you will use the K-Nearest Neighbors algorithm to fill in the missing values. First, we will need to find the best number of neighbors to use for the KNN algorithm. Write the below function that uses fancyimpute's KNN method to fill the matrix with various values of $k$ and returns the best value.  "
   ]
  },
  {
   "cell_type": "code",
   "execution_count": null,
   "metadata": {
    "deletable": false,
    "nbgrader": {
     "checksum": "074241b1a59fd81af9cc5ee9307437d5",
     "grade": false,
     "grade_id": "cell-bb905ed6b3a9527e",
     "locked": false,
     "schema_version": 1,
     "solution": true
    }
   },
   "outputs": [],
   "source": [
    "# Find the best value for k\n",
    "def find_best_k(k_neighbors, complete_mat, incomplete_mat, missing_mask):\n",
    "    \"\"\"Determines the best k to use for matrix completion with KNN\n",
    "    \n",
    "    Args:\n",
    "        k_neighbors (iterable): The list of k's to try\n",
    "        complete_mat (np.ndarray): The original matrix with complete values\n",
    "        incomplete_mat (np.ndarray): The matrix with missing values\n",
    "        missing_mask (np.ndarray): Boolean array of missing values\n",
    "    \n",
    "    Returns:\n",
    "        integer: the best value of k to use for that particular matrix\n",
    "    \"\"\"\n",
    "    best_k = -1\n",
    "    best_k_mse = np.infty\n",
    "    \n",
    "    for neighbors in k_neighbors:\n",
    "        # YOUR CODE HERE\n",
    "        raise NotImplementedError()\n",
    "    return best_k"
   ]
  },
  {
   "cell_type": "code",
   "execution_count": null,
   "metadata": {
    "deletable": false,
    "editable": false,
    "nbgrader": {
     "checksum": "ad9c248063f705b9aabc4be17c98ef83",
     "grade": false,
     "grade_id": "cell-141e014bb32ec388",
     "locked": true,
     "schema_version": 1,
     "solution": false
    }
   },
   "outputs": [],
   "source": [
    "k_neighbors = [1, 2, 3, 4, 5, 6, 7, 8, 9, 10]\n",
    "best_k = find_best_k(k_neighbors, X, X_incomplete, missing_mask)"
   ]
  },
  {
   "cell_type": "code",
   "execution_count": null,
   "metadata": {
    "deletable": false,
    "editable": false,
    "nbgrader": {
     "checksum": "68c7bc9a45be6a150e4344adf46dd7be",
     "grade": true,
     "grade_id": "cell-45bd8cddabf4443a",
     "locked": true,
     "points": 5,
     "schema_version": 1,
     "solution": false
    }
   },
   "outputs": [],
   "source": [
    "assert best_k == 3"
   ]
  },
  {
   "cell_type": "markdown",
   "metadata": {
    "deletable": false,
    "editable": false,
    "nbgrader": {
     "checksum": "c333570054c96508f9ed13e99df5f930",
     "grade": false,
     "grade_id": "cell-6acf31581c53e8f1",
     "locked": true,
     "schema_version": 1,
     "solution": false
    }
   },
   "source": [
    "Now that we have found the `best_k` to use let's see how well it performed:"
   ]
  },
  {
   "cell_type": "code",
   "execution_count": null,
   "metadata": {
    "deletable": false,
    "nbgrader": {
     "checksum": "4019d4f3d34cb5a9f5ccdfbfb8d329e7",
     "grade": false,
     "grade_id": "cell-7848995ad39c2008",
     "locked": false,
     "schema_version": 1,
     "solution": true
    }
   },
   "outputs": [],
   "source": [
    "# Run KNN with the best_k and store the resulting filled matrix in X_filled_knn\n",
    "\n",
    "# YOUR CODE HERE\n",
    "raise NotImplementedError()\n",
    "\n",
    "knnFill_mse = mat_completion_mse(X_filled_knn, X, missing_mask)\n",
    "print(\"knnFill MSE: %f\" % knnFill_mse)"
   ]
  },
  {
   "cell_type": "code",
   "execution_count": null,
   "metadata": {
    "deletable": false,
    "editable": false,
    "nbgrader": {
     "checksum": "8a7d04fa905a3f56b476615985f35942",
     "grade": true,
     "grade_id": "cell-4bb7cbb3efc7323b",
     "locked": true,
     "points": 5,
     "schema_version": 1,
     "solution": false
    }
   },
   "outputs": [],
   "source": [
    "assert knnFill_mse < meanFill_mse"
   ]
  },
  {
   "cell_type": "code",
   "execution_count": null,
   "metadata": {
    "deletable": false,
    "editable": false,
    "nbgrader": {
     "checksum": "c1ae561cac4fc0de8a1075147635a2e5",
     "grade": false,
     "grade_id": "cell-fdbbc0faa1163a42",
     "locked": true,
     "schema_version": 1,
     "solution": false
    }
   },
   "outputs": [],
   "source": [
    "# This is an implementation of a matrix completion algorithm using alternating minimization.\n",
    "# It is derived from the handout supplied in today's class.\n",
    "\n",
    "class AlternatingMinimization:\n",
    "    def __init__(self,rank):\n",
    "        self.rank = rank\n",
    "        \n",
    "    def fit_transform(self, X_incomplete):\n",
    "        \"\"\"\n",
    "        Fit and transform an incomplete matrix, returning the completed matrix.\n",
    "        \"\"\"\n",
    "        P = np.random.random_sample((n, self.rank))\n",
    "        Q = np.random.random_sample((self.rank, m))\n",
    "        # Fill in all missing values with zeros\n",
    "        X_incomplete_to_zero = np.nan_to_num(X_incomplete)\n",
    "\n",
    "        for i in range(0, 100):\n",
    "            P = X_incomplete_to_zero @ Q.T @ np.linalg.pinv(Q @ Q.T)\n",
    "            Q = np.linalg.pinv(P.T @ P) @ P.T @ X_incomplete_to_zero\n",
    "\n",
    "        X_filled = P @ Q\n",
    "        \n",
    "        return X_filled"
   ]
  },
  {
   "cell_type": "markdown",
   "metadata": {
    "deletable": false,
    "editable": false,
    "nbgrader": {
     "checksum": "d660e2a2c97b4848cccb49f9060d4cee",
     "grade": false,
     "grade_id": "cell-74c1eaa2175da0fd",
     "locked": true,
     "schema_version": 1,
     "solution": false
    }
   },
   "source": [
    "## Visual Comparison of Matrix Completion Algorithms\n",
    "\n",
    "To get a good idea of how these matrix completion algorithms compare we want to create a method that visualizes how well these algorithms actually perform."
   ]
  },
  {
   "cell_type": "markdown",
   "metadata": {
    "deletable": false,
    "editable": false,
    "nbgrader": {
     "checksum": "d3b7a277ead2e5ff138f4c0e9641e42f",
     "grade": false,
     "grade_id": "cell-528e59c4b12cef64",
     "locked": true,
     "schema_version": 1,
     "solution": false
    }
   },
   "source": [
    "#### Creating a Collection of Models\n",
    "Now we create a handful of matrix completion algorithms that we want to visualize:\n",
    " - Mean Fill\n",
    " - K-Nearest Neighbors\n",
    " - Alternating Minimization (derived in class)\n",
    " - MatrixFactorization (an implementaiton using gradient descent)"
   ]
  },
  {
   "cell_type": "code",
   "execution_count": null,
   "metadata": {
    "deletable": false,
    "editable": false,
    "nbgrader": {
     "checksum": "471185bf3fc42816853ccbe2ccc1631f",
     "grade": false,
     "grade_id": "cell-3d5cf624afcdbce9",
     "locked": true,
     "schema_version": 1,
     "solution": false
    }
   },
   "outputs": [],
   "source": [
    "simpleFill = SimpleFill(\"mean\")\n",
    "knnFill = KNN(k=best_k)\n",
    "amFill = AlternatingMinimization(rank=5)\n",
    "mfFill = MatrixFactorization(learning_rate=0.01, rank=5, l2_penalty=0, min_improvement=1e-6)\n",
    "methods = [simpleFill, knnFill, amFill, mfFill]\n",
    "names = [\"SimpleFill\", \"KNN\", \"AltMin\", \"MatFactor\"]"
   ]
  },
  {
   "cell_type": "code",
   "execution_count": null,
   "metadata": {
    "deletable": false,
    "nbgrader": {
     "checksum": "4bfa4de1277fa413ebc9d0f333b2d3f5",
     "grade": false,
     "grade_id": "cell-d2d3aa0fb9bb6dfc",
     "locked": false,
     "schema_version": 1,
     "solution": true
    }
   },
   "outputs": [],
   "source": [
    "def mat_completion_comparison(methods, incomplete_mat, complete_mat, missing_mask):\n",
    "    \"\"\"Using a list of provided matrix completion methods calculate \n",
    "    the completed matrix and the determine the associated \n",
    "    mean-squared-error results.\n",
    "    \n",
    "    Args:\n",
    "        methods (iterable): A list of matrix completion algorithms\n",
    "        incomplete_mat (np.ndarray): The incomplete matrix\n",
    "        complete_mat (np.ndarray): The full matrix\n",
    "        missing_mask (np.ndarray): Boolean array of missing values\n",
    "    \n",
    "    Returns:\n",
    "        filled_mats (iterable): the \"filled-in\" matrices\n",
    "        mses (iterable): the mean square error results\n",
    "    \"\"\"\n",
    "    X_filled_mats = []\n",
    "    mses = []\n",
    "    for method in methods:\n",
    "        # YOUR CODE HERE\n",
    "        raise NotImplementedError()\n",
    "\n",
    "    return X_filled_mats, mses"
   ]
  },
  {
   "cell_type": "code",
   "execution_count": null,
   "metadata": {
    "deletable": false,
    "editable": false,
    "nbgrader": {
     "checksum": "9b2e05806908f7926fd71430ecbee618",
     "grade": true,
     "grade_id": "cell-6da57a5335f4c9a2",
     "locked": true,
     "points": 10,
     "schema_version": 1,
     "solution": false
    }
   },
   "outputs": [],
   "source": [
    "X_filled_mats, mses = mat_completion_comparison(methods, X_incomplete, X, missing_mask)\n",
    "assert len(X_filled_mats) == len(methods)\n",
    "assert len(mses) == len(methods)"
   ]
  },
  {
   "cell_type": "code",
   "execution_count": null,
   "metadata": {
    "deletable": false,
    "editable": false,
    "nbgrader": {
     "checksum": "55bc9c1d0b9cc6ff29e4930d68c12874",
     "grade": false,
     "grade_id": "cell-085ac1f2827084a5",
     "locked": true,
     "schema_version": 1,
     "solution": false
    }
   },
   "outputs": [],
   "source": [
    "plt.figure(figsize = (19,6)) # Change the figure size to your liking\n",
    "\n",
    "for i in range(0, len(methods)):\n",
    "    X_filled = X_filled_mats[i]\n",
    "    mse = mses[i]\n",
    "    ax = plt.subplot(161 + i)\n",
    "    ax.imshow(X_filled)\n",
    "    ax.title.set_text(\"MSE: \" + str(round(mse, 2)))\n",
    "    ax.set_xlabel(names[i])\n",
    "    ax.grid(False)\n",
    "plt.show()\n",
    "\n",
    "ax = plt.subplot(121)\n",
    "ax.imshow(X)\n",
    "ax.set_xlabel(\"Complete\")\n",
    "ax.grid(False)\n",
    "\n",
    "ax = plt.subplot(122)\n",
    "ax.imshow(X_incomplete)\n",
    "ax.set_xlabel(\"Incomplete\")\n",
    "ax.grid(False)\n",
    "    \n",
    "plt.show()"
   ]
  },
  {
   "cell_type": "markdown",
   "metadata": {
    "deletable": false,
    "editable": false,
    "nbgrader": {
     "checksum": "d3df605202578f6ab3f3bb7dfce8e9e7",
     "grade": false,
     "grade_id": "cell-73cc7955e97ceb8e",
     "locked": true,
     "schema_version": 1,
     "solution": false
    }
   },
   "source": [
    "## Feedback"
   ]
  },
  {
   "cell_type": "code",
   "execution_count": null,
   "metadata": {
    "deletable": false,
    "nbgrader": {
     "checksum": "ed936ab53a1391c5e6af8df699a1dbf5",
     "grade": false,
     "grade_id": "feedback",
     "locked": false,
     "schema_version": 1,
     "solution": true
    }
   },
   "outputs": [],
   "source": [
    "def feedback():\n",
    "    \"\"\"Provide feedback on the contents of this exercise\n",
    "    \n",
    "    Returns:\n",
    "        string\n",
    "    \"\"\"\n",
    "    # YOUR CODE HERE\n",
    "    raise NotImplementedError()"
   ]
  },
  {
   "cell_type": "code",
   "execution_count": null,
   "metadata": {
    "deletable": false,
    "editable": false,
    "nbgrader": {
     "checksum": "f39f6185a54850c2f1f9b5b2a17b7543",
     "grade": true,
     "grade_id": "feedback-tests",
     "locked": true,
     "points": 0,
     "schema_version": 1,
     "solution": false
    }
   },
   "outputs": [],
   "source": []
  }
 ],
 "metadata": {
  "kernelspec": {
   "display_name": "Python 3",
   "language": "python",
   "name": "python3"
  },
  "language_info": {
   "codemirror_mode": {
    "name": "ipython",
    "version": 3
   },
   "file_extension": ".py",
   "mimetype": "text/x-python",
   "name": "python",
   "nbconvert_exporter": "python",
   "pygments_lexer": "ipython3",
   "version": "3.7.3"
  }
 },
 "nbformat": 4,
 "nbformat_minor": 2
}
