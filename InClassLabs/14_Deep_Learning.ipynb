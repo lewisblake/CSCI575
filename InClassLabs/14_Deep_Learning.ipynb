{
  "nbformat": 4,
  "nbformat_minor": 0,
  "metadata": {
    "kernelspec": {
      "display_name": "iml-exercises",
      "language": "python",
      "name": "iml-exercises"
    },
    "language_info": {
      "codemirror_mode": {
        "name": "ipython",
        "version": 3
      },
      "file_extension": ".py",
      "mimetype": "text/x-python",
      "name": "python",
      "nbconvert_exporter": "python",
      "pygments_lexer": "ipython3",
      "version": "3.6.5"
    },
    "colab": {
      "name": "14 - Deep Learning.ipynb",
      "provenance": [],
      "collapsed_sections": []
    }
  },
  "cells": [
    {
      "cell_type": "markdown",
      "metadata": {
        "deletable": false,
        "editable": false,
        "nbgrader": {
          "cell_type": "markdown",
          "checksum": "f527c20692dbdf09018e4f5bc32e637a",
          "grade": false,
          "grade_id": "cell-4fb3a6f3d58fd28b",
          "locked": true,
          "schema_version": 3,
          "solution": false
        },
        "id": "reK4Hr3KRCAs",
        "colab_type": "text"
      },
      "source": [
        "# Deep Learning\n",
        "\n",
        "In this exercise, you will use a deep neural network to predict the values of houses based on some provided input data. You will use keras to build the model. Below is a description of how the keras models are set up.\n",
        "\n",
        "**Please read more about the data [here](https://www.cs.toronto.edu/~delve/data/boston/bostonDetail.html).**"
      ]
    },
    {
      "cell_type": "code",
      "metadata": {
        "id": "bHChE4sORYu1",
        "colab_type": "code",
        "colab": {
          "base_uri": "https://localhost:8080/",
          "height": 783
        },
        "outputId": "31cabe10-37c0-4f86-bf86-86d92f64ce10"
      },
      "source": [
        "!pip install --upgrade tensorflow==2.0"
      ],
      "execution_count": 8,
      "outputs": [
        {
          "output_type": "stream",
          "text": [
            "Collecting tensorflow==2.0\n",
            "\u001b[?25l  Downloading https://files.pythonhosted.org/packages/46/0f/7bd55361168bb32796b360ad15a25de6966c9c1beb58a8e30c01c8279862/tensorflow-2.0.0-cp36-cp36m-manylinux2010_x86_64.whl (86.3MB)\n",
            "\u001b[K     |████████████████████████████████| 86.3MB 1.3MB/s \n",
            "\u001b[?25hRequirement already satisfied, skipping upgrade: absl-py>=0.7.0 in /usr/local/lib/python3.6/dist-packages (from tensorflow==2.0) (0.8.1)\n",
            "Requirement already satisfied, skipping upgrade: gast==0.2.2 in /usr/local/lib/python3.6/dist-packages (from tensorflow==2.0) (0.2.2)\n",
            "Collecting tensorboard<2.1.0,>=2.0.0 (from tensorflow==2.0)\n",
            "\u001b[?25l  Downloading https://files.pythonhosted.org/packages/9b/a6/e8ffa4e2ddb216449d34cfcb825ebb38206bee5c4553d69e7bc8bc2c5d64/tensorboard-2.0.0-py3-none-any.whl (3.8MB)\n",
            "\u001b[K     |████████████████████████████████| 3.8MB 30.7MB/s \n",
            "\u001b[?25hCollecting tensorflow-estimator<2.1.0,>=2.0.0 (from tensorflow==2.0)\n",
            "\u001b[?25l  Downloading https://files.pythonhosted.org/packages/fc/08/8b927337b7019c374719145d1dceba21a8bb909b93b1ad6f8fb7d22c1ca1/tensorflow_estimator-2.0.1-py2.py3-none-any.whl (449kB)\n",
            "\u001b[K     |████████████████████████████████| 450kB 47.5MB/s \n",
            "\u001b[?25hRequirement already satisfied, skipping upgrade: google-pasta>=0.1.6 in /usr/local/lib/python3.6/dist-packages (from tensorflow==2.0) (0.1.7)\n",
            "Requirement already satisfied, skipping upgrade: six>=1.10.0 in /usr/local/lib/python3.6/dist-packages (from tensorflow==2.0) (1.12.0)\n",
            "Requirement already satisfied, skipping upgrade: opt-einsum>=2.3.2 in /usr/local/lib/python3.6/dist-packages (from tensorflow==2.0) (3.1.0)\n",
            "Requirement already satisfied, skipping upgrade: grpcio>=1.8.6 in /usr/local/lib/python3.6/dist-packages (from tensorflow==2.0) (1.15.0)\n",
            "Requirement already satisfied, skipping upgrade: termcolor>=1.1.0 in /usr/local/lib/python3.6/dist-packages (from tensorflow==2.0) (1.1.0)\n",
            "Requirement already satisfied, skipping upgrade: wheel>=0.26 in /usr/local/lib/python3.6/dist-packages (from tensorflow==2.0) (0.33.6)\n",
            "Requirement already satisfied, skipping upgrade: wrapt>=1.11.1 in /usr/local/lib/python3.6/dist-packages (from tensorflow==2.0) (1.11.2)\n",
            "Requirement already satisfied, skipping upgrade: protobuf>=3.6.1 in /usr/local/lib/python3.6/dist-packages (from tensorflow==2.0) (3.10.0)\n",
            "Requirement already satisfied, skipping upgrade: astor>=0.6.0 in /usr/local/lib/python3.6/dist-packages (from tensorflow==2.0) (0.8.0)\n",
            "Requirement already satisfied, skipping upgrade: numpy<2.0,>=1.16.0 in /usr/local/lib/python3.6/dist-packages (from tensorflow==2.0) (1.16.5)\n",
            "Requirement already satisfied, skipping upgrade: keras-applications>=1.0.8 in /usr/local/lib/python3.6/dist-packages (from tensorflow==2.0) (1.0.8)\n",
            "Requirement already satisfied, skipping upgrade: keras-preprocessing>=1.0.5 in /usr/local/lib/python3.6/dist-packages (from tensorflow==2.0) (1.1.0)\n",
            "Requirement already satisfied, skipping upgrade: setuptools>=41.0.0 in /usr/local/lib/python3.6/dist-packages (from tensorboard<2.1.0,>=2.0.0->tensorflow==2.0) (41.4.0)\n",
            "Requirement already satisfied, skipping upgrade: markdown>=2.6.8 in /usr/local/lib/python3.6/dist-packages (from tensorboard<2.1.0,>=2.0.0->tensorflow==2.0) (3.1.1)\n",
            "Requirement already satisfied, skipping upgrade: werkzeug>=0.11.15 in /usr/local/lib/python3.6/dist-packages (from tensorboard<2.1.0,>=2.0.0->tensorflow==2.0) (0.16.0)\n",
            "Requirement already satisfied, skipping upgrade: h5py in /usr/local/lib/python3.6/dist-packages (from keras-applications>=1.0.8->tensorflow==2.0) (2.8.0)\n",
            "Installing collected packages: tensorboard, tensorflow-estimator, tensorflow\n",
            "  Found existing installation: tensorboard 1.15.0\n",
            "    Uninstalling tensorboard-1.15.0:\n",
            "      Successfully uninstalled tensorboard-1.15.0\n",
            "  Found existing installation: tensorflow-estimator 1.15.1\n",
            "    Uninstalling tensorflow-estimator-1.15.1:\n",
            "      Successfully uninstalled tensorflow-estimator-1.15.1\n",
            "  Found existing installation: tensorflow 1.15.0\n",
            "    Uninstalling tensorflow-1.15.0:\n",
            "      Successfully uninstalled tensorflow-1.15.0\n",
            "Successfully installed tensorboard-2.0.0 tensorflow-2.0.0 tensorflow-estimator-2.0.1\n"
          ],
          "name": "stdout"
        },
        {
          "output_type": "display_data",
          "data": {
            "application/vnd.colab-display-data+json": {
              "pip_warning": {
                "packages": [
                  "tensorboard",
                  "tensorflow",
                  "tensorflow_core",
                  "tensorflow_estimator"
                ]
              }
            }
          },
          "metadata": {
            "tags": []
          }
        }
      ]
    },
    {
      "cell_type": "code",
      "metadata": {
        "deletable": false,
        "editable": false,
        "nbgrader": {
          "cell_type": "code",
          "checksum": "ef47d117b189426d9696a133223cf30e",
          "grade": false,
          "grade_id": "cell-d07727b5ced87bf2",
          "locked": true,
          "schema_version": 3,
          "solution": false
        },
        "id": "wBQ7X-KgRCA2",
        "colab_type": "code",
        "colab": {}
      },
      "source": [
        "import tensorflow as tf\n",
        "import tensorflow.keras as keras\n",
        "import numpy as np\n",
        "from tensorflow.keras.layers import Dense, Dropout\n",
        "\n",
        "np.random.seed(0)"
      ],
      "execution_count": 0,
      "outputs": []
    },
    {
      "cell_type": "code",
      "metadata": {
        "deletable": false,
        "editable": false,
        "nbgrader": {
          "cell_type": "code",
          "checksum": "be8a6b97685143e5088bddb4ed595b03",
          "grade": false,
          "grade_id": "cell-9b0245844d72bf80",
          "locked": true,
          "schema_version": 3,
          "solution": false
        },
        "id": "meOrkp2oRCBL",
        "colab_type": "code",
        "colab": {}
      },
      "source": [
        "(x_train, y_train), (x_test, y_test) = keras.datasets.boston_housing.load_data()"
      ],
      "execution_count": 0,
      "outputs": []
    },
    {
      "cell_type": "code",
      "metadata": {
        "deletable": false,
        "editable": false,
        "nbgrader": {
          "cell_type": "code",
          "checksum": "3527a9c335ebfaef9a7e5705a051f3e7",
          "grade": false,
          "grade_id": "cell-e2de7844f2c7f49e",
          "locked": true,
          "schema_version": 3,
          "solution": false
        },
        "id": "CsggeIl9RCBT",
        "colab_type": "code",
        "colab": {
          "base_uri": "https://localhost:8080/",
          "height": 34
        },
        "outputId": "54b7f61f-23ba-47bc-e2aa-ebd5a6f54bdb"
      },
      "source": [
        "x_train.shape"
      ],
      "execution_count": 4,
      "outputs": [
        {
          "output_type": "execute_result",
          "data": {
            "text/plain": [
              "(404, 13)"
            ]
          },
          "metadata": {
            "tags": []
          },
          "execution_count": 4
        }
      ]
    },
    {
      "cell_type": "code",
      "metadata": {
        "deletable": false,
        "editable": false,
        "nbgrader": {
          "cell_type": "code",
          "checksum": "77b73fcd17ac138c678b9c355259bb7f",
          "grade": false,
          "grade_id": "cell-33b45d559f48738f",
          "locked": true,
          "schema_version": 3,
          "solution": false
        },
        "id": "DK90U1LrRCBb",
        "colab_type": "code",
        "colab": {
          "base_uri": "https://localhost:8080/",
          "height": 34
        },
        "outputId": "0bbb57d4-e3e2-4d9c-fb1c-b420c8c31216"
      },
      "source": [
        "y_train.shape"
      ],
      "execution_count": 5,
      "outputs": [
        {
          "output_type": "execute_result",
          "data": {
            "text/plain": [
              "(404,)"
            ]
          },
          "metadata": {
            "tags": []
          },
          "execution_count": 5
        }
      ]
    },
    {
      "cell_type": "code",
      "metadata": {
        "deletable": false,
        "editable": false,
        "nbgrader": {
          "cell_type": "code",
          "checksum": "f8d293a6e2d86c0ca74af9b20b395d2a",
          "grade": false,
          "grade_id": "cell-831e0268417ab95a",
          "locked": true,
          "schema_version": 3,
          "solution": false
        },
        "id": "d6txKO6PRCBl",
        "colab_type": "code",
        "colab": {
          "base_uri": "https://localhost:8080/",
          "height": 34
        },
        "outputId": "006a0a97-587b-47b7-8423-a4419da5d81a"
      },
      "source": [
        "y_train.mean(), y_train.std()"
      ],
      "execution_count": 6,
      "outputs": [
        {
          "output_type": "execute_result",
          "data": {
            "text/plain": [
              "(22.395049504950492, 9.199035423364862)"
            ]
          },
          "metadata": {
            "tags": []
          },
          "execution_count": 6
        }
      ]
    },
    {
      "cell_type": "markdown",
      "metadata": {
        "deletable": false,
        "editable": false,
        "nbgrader": {
          "cell_type": "markdown",
          "checksum": "1cfe40e25a87ec7e2cdf0202dac8b0b2",
          "grade": false,
          "grade_id": "cell-2f0fe3b3a560d952",
          "locked": true,
          "schema_version": 3,
          "solution": false
        },
        "id": "6aWkeSbrRCBu",
        "colab_type": "text"
      },
      "source": [
        "The keras model consists of multiple parts:\n",
        "\n",
        "1. Construct the model layers, neurons per layer, activation function\n",
        "1. Determine the loss function, metrics and optimization method\n",
        "1. Fit the model to some data\n",
        "1. Evaluate the model using the same metric\n",
        "\n",
        "Some relevant documentation:\n",
        " - [initializers](https://keras.io/initializers/)\n",
        " - [loss functions](https://www.tensorflow.org/api_docs/python/tf/keras/losses)\n",
        " - [regularizations](https://keras.io/regularizers/)\n",
        " - [optimizers](https://keras.io/optimizers/)\n",
        " - [metrics](https://www.tensorflow.org/api_docs/python/tf/keras/metrics)\n"
      ]
    },
    {
      "cell_type": "markdown",
      "metadata": {
        "deletable": false,
        "editable": false,
        "nbgrader": {
          "cell_type": "markdown",
          "checksum": "7eb8e2d505fdb7217ee120767a37b664",
          "grade": false,
          "grade_id": "cell-cae21934fa064b47",
          "locked": true,
          "schema_version": 3,
          "solution": false
        },
        "id": "0PwwkdrTRCBw",
        "colab_type": "text"
      },
      "source": [
        "First, to construct a model, use the [Sequential](https://keras.io/getting-started/sequential-model-guide/) object. You can pass multiple layers to the sequential object. For this next step, we will only be using the [Dense](https://keras.io/layers/core/#dense) layers."
      ]
    },
    {
      "cell_type": "code",
      "metadata": {
        "deletable": false,
        "nbgrader": {
          "cell_type": "code",
          "checksum": "07d9d8f464bd4c06748eb06728cbe1f6",
          "grade": false,
          "grade_id": "cell-51879de7032d8823",
          "locked": false,
          "schema_version": 3,
          "solution": true
        },
        "id": "fihvjTvgRCBz",
        "colab_type": "code",
        "colab": {}
      },
      "source": [
        "# Create 3 hidden layers and an output layer with 10 neurons each and set them to the variable layers\n",
        "# Use any activation you like such as \"relu\" or \"tanh\", you can alternate for each layer\n",
        "# For your first run, try using the linear activation and then see if modifying the activations improved the result.\n",
        "# Optional - give each layer a name and see how that shows up in the summary.\n",
        "# YOUR CODE HERE\n",
        "#from keras.layers import Activation\n",
        "layers = [\n",
        "    Dense(10, input_shape=(13,), activation='relu'),\n",
        "    #Activation('relu'),\n",
        "    Dense(10, activation = 'relu'),\n",
        "    #Activation('relu'),\n",
        "    Dense(10, activation = 'relu'),\n",
        "    #Activation('relu'),\n",
        "    Dense(1, activation = \"softmax\"),\n",
        "    #Activation('softmax'),\n",
        "]\n",
        "\n",
        "model = keras.Sequential(layers)"
      ],
      "execution_count": 0,
      "outputs": []
    },
    {
      "cell_type": "code",
      "metadata": {
        "deletable": false,
        "editable": false,
        "nbgrader": {
          "cell_type": "code",
          "checksum": "db1c61f484257c5ae4960b237e5270a5",
          "grade": true,
          "grade_id": "cell-ee74eff075f222ed",
          "locked": true,
          "points": 5,
          "schema_version": 3,
          "solution": false
        },
        "id": "j1GdSqwVRCB7",
        "colab_type": "code",
        "colab": {}
      },
      "source": [
        "assert len(layers) == 4\n",
        "for i,layer in enumerate(layers):\n",
        "    assert isinstance(layers[i], keras.layers.Dense) \n",
        "    assert layer.weights[1].shape == [10,10,10,1][i]"
      ],
      "execution_count": 0,
      "outputs": []
    },
    {
      "cell_type": "code",
      "metadata": {
        "deletable": false,
        "nbgrader": {
          "cell_type": "code",
          "checksum": "c7843f3304997606d0ce0aa05bcfa12e",
          "grade": false,
          "grade_id": "cell-9c5dcca57115d02a",
          "locked": false,
          "schema_version": 3,
          "solution": true
        },
        "id": "9fmsGTegRCCC",
        "colab_type": "code",
        "colab": {}
      },
      "source": [
        "# Set up the model to do the following:\n",
        "# - use stochastic gradient descent to fit the model\n",
        "# - use mean absolute error as its loss function\n",
        "# - use mean absolute error as one of its metrics\n",
        "# - use mean squared error as one of its metrics\n",
        "# YOUR CODE HERE\n",
        "sgd = keras.optimizers.SGD(lr=0.01, decay=1e-6, momentum=0.9, nesterov=True)\n",
        "model.compile(loss='mean_absolute_error', optimizer='sgd', metrics = ['mean_absolute_error', 'mean_squared_error'])"
      ],
      "execution_count": 0,
      "outputs": []
    },
    {
      "cell_type": "code",
      "metadata": {
        "id": "WJVWZerJV-Em",
        "colab_type": "code",
        "colab": {}
      },
      "source": [
        ""
      ],
      "execution_count": 0,
      "outputs": []
    },
    {
      "cell_type": "code",
      "metadata": {
        "deletable": false,
        "editable": false,
        "nbgrader": {
          "cell_type": "code",
          "checksum": "25fa9e41e8dd253b09e578b10c49d8dd",
          "grade": true,
          "grade_id": "cell-0746e29c34118826",
          "locked": true,
          "points": 5,
          "schema_version": 3,
          "solution": false
        },
        "id": "FrFbCTXrRCCJ",
        "colab_type": "code",
        "colab": {
          "base_uri": "https://localhost:8080/",
          "height": 199
        },
        "outputId": "20da3a44-ccfc-412a-ce63-d6610df26e6e"
      },
      "source": [
        "assert isinstance(model.optimizer, keras.optimizers.SGD)\n",
        "assert model.loss in [\"mae\", \"mean_absolute_error\"]\n",
        "assert \"mae\" in model.metrics or \"mean_absolute_error\" in model.metrics"
      ],
      "execution_count": 56,
      "outputs": [
        {
          "output_type": "error",
          "ename": "AssertionError",
          "evalue": "ignored",
          "traceback": [
            "\u001b[0;31m---------------------------------------------------------------------------\u001b[0m",
            "\u001b[0;31mAssertionError\u001b[0m                            Traceback (most recent call last)",
            "\u001b[0;32m<ipython-input-56-7f54c4b0d3e5>\u001b[0m in \u001b[0;36m<module>\u001b[0;34m()\u001b[0m\n\u001b[1;32m      1\u001b[0m \u001b[0;32massert\u001b[0m \u001b[0misinstance\u001b[0m\u001b[0;34m(\u001b[0m\u001b[0mmodel\u001b[0m\u001b[0;34m.\u001b[0m\u001b[0moptimizer\u001b[0m\u001b[0;34m,\u001b[0m \u001b[0mkeras\u001b[0m\u001b[0;34m.\u001b[0m\u001b[0moptimizers\u001b[0m\u001b[0;34m.\u001b[0m\u001b[0mSGD\u001b[0m\u001b[0;34m)\u001b[0m\u001b[0;34m\u001b[0m\u001b[0;34m\u001b[0m\u001b[0m\n\u001b[1;32m      2\u001b[0m \u001b[0;32massert\u001b[0m \u001b[0mmodel\u001b[0m\u001b[0;34m.\u001b[0m\u001b[0mloss\u001b[0m \u001b[0;32min\u001b[0m \u001b[0;34m[\u001b[0m\u001b[0;34m\"mae\"\u001b[0m\u001b[0;34m,\u001b[0m \u001b[0;34m\"mean_absolute_error\"\u001b[0m\u001b[0;34m]\u001b[0m\u001b[0;34m\u001b[0m\u001b[0;34m\u001b[0m\u001b[0m\n\u001b[0;32m----> 3\u001b[0;31m \u001b[0;32massert\u001b[0m \u001b[0;34m\"mae\"\u001b[0m \u001b[0;32min\u001b[0m \u001b[0mmodel\u001b[0m\u001b[0;34m.\u001b[0m\u001b[0mmetrics\u001b[0m \u001b[0;32mor\u001b[0m \u001b[0;34m\"mean_absolute_error\"\u001b[0m \u001b[0;32min\u001b[0m \u001b[0mmodel\u001b[0m\u001b[0;34m.\u001b[0m\u001b[0mmetrics\u001b[0m\u001b[0;34m\u001b[0m\u001b[0;34m\u001b[0m\u001b[0m\n\u001b[0m",
            "\u001b[0;31mAssertionError\u001b[0m: "
          ]
        }
      ]
    },
    {
      "cell_type": "code",
      "metadata": {
        "deletable": false,
        "editable": false,
        "nbgrader": {
          "cell_type": "code",
          "checksum": "dc613baef143a2dfc90e3ff7222be5e6",
          "grade": false,
          "grade_id": "cell-d8bbd77fa779d371",
          "locked": true,
          "schema_version": 3,
          "solution": false
        },
        "id": "Zk6KMFYvRCCQ",
        "colab_type": "code",
        "colab": {
          "base_uri": "https://localhost:8080/",
          "height": 1000
        },
        "outputId": "9342d591-d9f1-41d0-c966-515dcdc4d639"
      },
      "source": [
        "# Now fit the model\n",
        "model.fit(x_train, y_train, epochs=50)"
      ],
      "execution_count": 57,
      "outputs": [
        {
          "output_type": "stream",
          "text": [
            "Train on 404 samples\n",
            "Epoch 1/50\n",
            "404/404 [==============================] - 0s 908us/sample - loss: 21.3950 - mean_absolute_error: 21.3951 - mean_squared_error: 542.3704\n",
            "Epoch 2/50\n",
            "404/404 [==============================] - 0s 76us/sample - loss: 21.3950 - mean_absolute_error: 21.3951 - mean_squared_error: 542.3704\n",
            "Epoch 3/50\n",
            "404/404 [==============================] - 0s 65us/sample - loss: 21.3950 - mean_absolute_error: 21.3951 - mean_squared_error: 542.3704\n",
            "Epoch 4/50\n",
            "404/404 [==============================] - 0s 64us/sample - loss: 21.3950 - mean_absolute_error: 21.3950 - mean_squared_error: 542.3704\n",
            "Epoch 5/50\n",
            "404/404 [==============================] - 0s 66us/sample - loss: 21.3950 - mean_absolute_error: 21.3950 - mean_squared_error: 542.3704\n",
            "Epoch 6/50\n",
            "404/404 [==============================] - 0s 78us/sample - loss: 21.3950 - mean_absolute_error: 21.3950 - mean_squared_error: 542.3704\n",
            "Epoch 7/50\n",
            "404/404 [==============================] - 0s 60us/sample - loss: 21.3950 - mean_absolute_error: 21.3950 - mean_squared_error: 542.3704\n",
            "Epoch 8/50\n",
            "404/404 [==============================] - 0s 68us/sample - loss: 21.3950 - mean_absolute_error: 21.3951 - mean_squared_error: 542.3704\n",
            "Epoch 9/50\n",
            "404/404 [==============================] - 0s 65us/sample - loss: 21.3950 - mean_absolute_error: 21.3950 - mean_squared_error: 542.3704\n",
            "Epoch 10/50\n",
            "404/404 [==============================] - 0s 73us/sample - loss: 21.3950 - mean_absolute_error: 21.3951 - mean_squared_error: 542.3704\n",
            "Epoch 11/50\n",
            "404/404 [==============================] - 0s 68us/sample - loss: 21.3950 - mean_absolute_error: 21.3950 - mean_squared_error: 542.3704\n",
            "Epoch 12/50\n",
            "404/404 [==============================] - 0s 62us/sample - loss: 21.3950 - mean_absolute_error: 21.3951 - mean_squared_error: 542.3704\n",
            "Epoch 13/50\n",
            "404/404 [==============================] - 0s 79us/sample - loss: 21.3950 - mean_absolute_error: 21.3950 - mean_squared_error: 542.3704\n",
            "Epoch 14/50\n",
            "404/404 [==============================] - 0s 74us/sample - loss: 21.3950 - mean_absolute_error: 21.3950 - mean_squared_error: 542.3704\n",
            "Epoch 15/50\n",
            "404/404 [==============================] - 0s 74us/sample - loss: 21.3951 - mean_absolute_error: 21.3951 - mean_squared_error: 542.3704\n",
            "Epoch 16/50\n",
            "404/404 [==============================] - 0s 93us/sample - loss: 21.3950 - mean_absolute_error: 21.3951 - mean_squared_error: 542.3704\n",
            "Epoch 17/50\n",
            "404/404 [==============================] - 0s 85us/sample - loss: 21.3950 - mean_absolute_error: 21.3950 - mean_squared_error: 542.3704\n",
            "Epoch 18/50\n",
            "404/404 [==============================] - 0s 67us/sample - loss: 21.3950 - mean_absolute_error: 21.3951 - mean_squared_error: 542.3704\n",
            "Epoch 19/50\n",
            "404/404 [==============================] - 0s 62us/sample - loss: 21.3950 - mean_absolute_error: 21.3950 - mean_squared_error: 542.3704\n",
            "Epoch 20/50\n",
            "404/404 [==============================] - 0s 76us/sample - loss: 21.3950 - mean_absolute_error: 21.3950 - mean_squared_error: 542.3704\n",
            "Epoch 21/50\n",
            "404/404 [==============================] - 0s 72us/sample - loss: 21.3950 - mean_absolute_error: 21.3951 - mean_squared_error: 542.3704\n",
            "Epoch 22/50\n",
            "404/404 [==============================] - 0s 121us/sample - loss: 21.3951 - mean_absolute_error: 21.3951 - mean_squared_error: 542.3704\n",
            "Epoch 23/50\n",
            "404/404 [==============================] - 0s 80us/sample - loss: 21.3950 - mean_absolute_error: 21.3950 - mean_squared_error: 542.3704\n",
            "Epoch 24/50\n",
            "404/404 [==============================] - 0s 67us/sample - loss: 21.3950 - mean_absolute_error: 21.3950 - mean_squared_error: 542.3704\n",
            "Epoch 25/50\n",
            "404/404 [==============================] - 0s 66us/sample - loss: 21.3950 - mean_absolute_error: 21.3950 - mean_squared_error: 542.3704\n",
            "Epoch 26/50\n",
            "404/404 [==============================] - 0s 68us/sample - loss: 21.3951 - mean_absolute_error: 21.3951 - mean_squared_error: 542.3704\n",
            "Epoch 27/50\n",
            "404/404 [==============================] - 0s 78us/sample - loss: 21.3950 - mean_absolute_error: 21.3951 - mean_squared_error: 542.3704\n",
            "Epoch 28/50\n",
            "404/404 [==============================] - 0s 75us/sample - loss: 21.3950 - mean_absolute_error: 21.3951 - mean_squared_error: 542.3704\n",
            "Epoch 29/50\n",
            "404/404 [==============================] - 0s 67us/sample - loss: 21.3950 - mean_absolute_error: 21.3950 - mean_squared_error: 542.3704\n",
            "Epoch 30/50\n",
            "404/404 [==============================] - 0s 64us/sample - loss: 21.3950 - mean_absolute_error: 21.3950 - mean_squared_error: 542.3704\n",
            "Epoch 31/50\n",
            "404/404 [==============================] - 0s 57us/sample - loss: 21.3950 - mean_absolute_error: 21.3951 - mean_squared_error: 542.3704\n",
            "Epoch 32/50\n",
            "404/404 [==============================] - 0s 63us/sample - loss: 21.3950 - mean_absolute_error: 21.3950 - mean_squared_error: 542.3704\n",
            "Epoch 33/50\n",
            "404/404 [==============================] - 0s 61us/sample - loss: 21.3950 - mean_absolute_error: 21.3950 - mean_squared_error: 542.3704\n",
            "Epoch 34/50\n",
            "404/404 [==============================] - 0s 71us/sample - loss: 21.3950 - mean_absolute_error: 21.3950 - mean_squared_error: 542.3704\n",
            "Epoch 35/50\n",
            "404/404 [==============================] - 0s 88us/sample - loss: 21.3950 - mean_absolute_error: 21.3950 - mean_squared_error: 542.3704\n",
            "Epoch 36/50\n",
            "404/404 [==============================] - 0s 68us/sample - loss: 21.3950 - mean_absolute_error: 21.3951 - mean_squared_error: 542.3704\n",
            "Epoch 37/50\n",
            "404/404 [==============================] - 0s 65us/sample - loss: 21.3950 - mean_absolute_error: 21.3950 - mean_squared_error: 542.3704\n",
            "Epoch 38/50\n",
            "404/404 [==============================] - 0s 79us/sample - loss: 21.3950 - mean_absolute_error: 21.3950 - mean_squared_error: 542.3704\n",
            "Epoch 39/50\n",
            "404/404 [==============================] - 0s 66us/sample - loss: 21.3950 - mean_absolute_error: 21.3950 - mean_squared_error: 542.3704\n",
            "Epoch 40/50\n",
            "404/404 [==============================] - 0s 70us/sample - loss: 21.3950 - mean_absolute_error: 21.3950 - mean_squared_error: 542.3704\n",
            "Epoch 41/50\n",
            "404/404 [==============================] - 0s 62us/sample - loss: 21.3950 - mean_absolute_error: 21.3951 - mean_squared_error: 542.3704\n",
            "Epoch 42/50\n",
            "404/404 [==============================] - 0s 77us/sample - loss: 21.3950 - mean_absolute_error: 21.3950 - mean_squared_error: 542.3704\n",
            "Epoch 43/50\n",
            "404/404 [==============================] - 0s 68us/sample - loss: 21.3950 - mean_absolute_error: 21.3951 - mean_squared_error: 542.3704\n",
            "Epoch 44/50\n",
            "404/404 [==============================] - 0s 68us/sample - loss: 21.3950 - mean_absolute_error: 21.3950 - mean_squared_error: 542.3704\n",
            "Epoch 45/50\n",
            "404/404 [==============================] - 0s 78us/sample - loss: 21.3950 - mean_absolute_error: 21.3950 - mean_squared_error: 542.3704\n",
            "Epoch 46/50\n",
            "404/404 [==============================] - 0s 65us/sample - loss: 21.3950 - mean_absolute_error: 21.3950 - mean_squared_error: 542.3704\n",
            "Epoch 47/50\n",
            "404/404 [==============================] - 0s 72us/sample - loss: 21.3950 - mean_absolute_error: 21.3950 - mean_squared_error: 542.3704\n",
            "Epoch 48/50\n",
            "404/404 [==============================] - 0s 64us/sample - loss: 21.3951 - mean_absolute_error: 21.3950 - mean_squared_error: 542.3704\n",
            "Epoch 49/50\n",
            "404/404 [==============================] - 0s 80us/sample - loss: 21.3950 - mean_absolute_error: 21.3951 - mean_squared_error: 542.3704\n",
            "Epoch 50/50\n",
            "404/404 [==============================] - 0s 78us/sample - loss: 21.3950 - mean_absolute_error: 21.3951 - mean_squared_error: 542.3704\n"
          ],
          "name": "stdout"
        },
        {
          "output_type": "execute_result",
          "data": {
            "text/plain": [
              "<tensorflow.python.keras.callbacks.History at 0x7ff32fe89cf8>"
            ]
          },
          "metadata": {
            "tags": []
          },
          "execution_count": 57
        }
      ]
    },
    {
      "cell_type": "code",
      "metadata": {
        "deletable": false,
        "editable": false,
        "nbgrader": {
          "cell_type": "code",
          "checksum": "74fa1860f6726e35a3bb2b9c83af16ce",
          "grade": false,
          "grade_id": "cell-49344214a4fd3051",
          "locked": true,
          "schema_version": 3,
          "solution": false
        },
        "id": "4jDM1L0jRCCZ",
        "colab_type": "code",
        "colab": {
          "base_uri": "https://localhost:8080/",
          "height": 295
        },
        "outputId": "9b2c2f15-5211-4a0f-af8e-b6b4d7a3e9a6"
      },
      "source": [
        "model.summary()"
      ],
      "execution_count": 58,
      "outputs": [
        {
          "output_type": "stream",
          "text": [
            "Model: \"sequential_4\"\n",
            "_________________________________________________________________\n",
            "Layer (type)                 Output Shape              Param #   \n",
            "=================================================================\n",
            "dense_24 (Dense)             (None, 10)                140       \n",
            "_________________________________________________________________\n",
            "dense_25 (Dense)             (None, 10)                110       \n",
            "_________________________________________________________________\n",
            "dense_26 (Dense)             (None, 10)                110       \n",
            "_________________________________________________________________\n",
            "dense_27 (Dense)             (None, 1)                 11        \n",
            "=================================================================\n",
            "Total params: 371\n",
            "Trainable params: 371\n",
            "Non-trainable params: 0\n",
            "_________________________________________________________________\n"
          ],
          "name": "stdout"
        }
      ]
    },
    {
      "cell_type": "code",
      "metadata": {
        "deletable": false,
        "editable": false,
        "nbgrader": {
          "cell_type": "code",
          "checksum": "5979703b794f01a2821f23e974076f93",
          "grade": false,
          "grade_id": "cell-d280c00c6cabc586",
          "locked": true,
          "schema_version": 3,
          "solution": false
        },
        "id": "dHnqhf3fRCCf",
        "colab_type": "code",
        "colab": {
          "base_uri": "https://localhost:8080/",
          "height": 72
        },
        "outputId": "1ec194af-c065-4b55-f53e-2bcacd43b43b"
      },
      "source": [
        "# Here we can evaluate how our model does based on the test data\n",
        "model.evaluate(x_test, y_test)"
      ],
      "execution_count": 59,
      "outputs": [
        {
          "output_type": "stream",
          "text": [
            "\r102/1 [====================================================================================================================================================================================================================================================================================================================================================================================================================================================================================================================================================================================================================================================================================================================================================================================================================================================================================================================================================================================================================================================================================================================================================================================================================================================================================================================================================================================================================================================================================================================================================================================================================================================================================================================================================================================================================================================================================================================================================================================================================================================================================================================================================================================================================================================================================================================================================================================================================================================================================================================================================================================================================================================================================================================================================================================================================================================================================================================================================================================================================================================================================================================================================================================] - 0s 2ms/sample - loss: 25.8475 - mean_absolute_error: 22.0784 - mean_squared_error: 570.7010\n"
          ],
          "name": "stdout"
        },
        {
          "output_type": "execute_result",
          "data": {
            "text/plain": [
              "[22.078431858735925, 22.078432, 570.701]"
            ]
          },
          "metadata": {
            "tags": []
          },
          "execution_count": 59
        }
      ]
    },
    {
      "cell_type": "markdown",
      "metadata": {
        "deletable": false,
        "editable": false,
        "nbgrader": {
          "cell_type": "markdown",
          "checksum": "bbf1560afd7512cba3aa96d70fd96ab0",
          "grade": false,
          "grade_id": "cell-f88eeeebe2137b4d",
          "locked": true,
          "schema_version": 3,
          "solution": false
        },
        "id": "5FJaQLdhRCCk",
        "colab_type": "text"
      },
      "source": [
        "Now let's try another optimizer instead of stochastic gradient descent. [Adam](https://keras.io/optimizers/#adam) is the recommended default for training neural networks since it usually performs quite well. In the next cell, compile the model with adam instead of sgd and use the same loss and metrics. After compiling, fit the data for as many epochs as you think it takes to see the value start to converge."
      ]
    },
    {
      "cell_type": "code",
      "metadata": {
        "deletable": false,
        "nbgrader": {
          "cell_type": "code",
          "checksum": "f42a483db0decace40861c20d3971e73",
          "grade": false,
          "grade_id": "cell-bee688f3d919be61",
          "locked": false,
          "schema_version": 3,
          "solution": true
        },
        "id": "f49dIn53RCCm",
        "colab_type": "code",
        "colab": {}
      },
      "source": [
        "# Compile the model using adam\n",
        "model.compile(loss='mean_absolute_error', optimizer='Adam', metrics = ['mean_absolute_error', 'mean_squared_error'])"
      ],
      "execution_count": 0,
      "outputs": []
    },
    {
      "cell_type": "code",
      "metadata": {
        "id": "SWRJ8ZcERCCr",
        "colab_type": "code",
        "colab": {
          "base_uri": "https://localhost:8080/",
          "height": 295
        },
        "outputId": "18deea82-fb97-4269-aab7-92b7582102c6"
      },
      "source": [
        "model.summary()"
      ],
      "execution_count": 61,
      "outputs": [
        {
          "output_type": "stream",
          "text": [
            "Model: \"sequential_4\"\n",
            "_________________________________________________________________\n",
            "Layer (type)                 Output Shape              Param #   \n",
            "=================================================================\n",
            "dense_24 (Dense)             (None, 10)                140       \n",
            "_________________________________________________________________\n",
            "dense_25 (Dense)             (None, 10)                110       \n",
            "_________________________________________________________________\n",
            "dense_26 (Dense)             (None, 10)                110       \n",
            "_________________________________________________________________\n",
            "dense_27 (Dense)             (None, 1)                 11        \n",
            "=================================================================\n",
            "Total params: 371\n",
            "Trainable params: 371\n",
            "Non-trainable params: 0\n",
            "_________________________________________________________________\n"
          ],
          "name": "stdout"
        }
      ]
    },
    {
      "cell_type": "code",
      "metadata": {
        "deletable": false,
        "editable": false,
        "nbgrader": {
          "cell_type": "code",
          "checksum": "bfea89f456ba664ef82c6ad9db0e6ea3",
          "grade": true,
          "grade_id": "cell-fe8cd91b8b780964",
          "locked": true,
          "points": 5,
          "schema_version": 3,
          "solution": false
        },
        "id": "FkocVry8RCCy",
        "colab_type": "code",
        "colab": {
          "base_uri": "https://localhost:8080/",
          "height": 199
        },
        "outputId": "871a96db-b584-47a8-82dd-4328dbf6b3bc"
      },
      "source": [
        "assert isinstance(model.optimizer, keras.optimizers.Adam)\n",
        "assert model.loss in [\"mae\", \"mean_absolute_error\"]\n",
        "assert \"mae\" in model.metrics or \"mean_absolute_error\" in model.metrics"
      ],
      "execution_count": 62,
      "outputs": [
        {
          "output_type": "error",
          "ename": "AssertionError",
          "evalue": "ignored",
          "traceback": [
            "\u001b[0;31m---------------------------------------------------------------------------\u001b[0m",
            "\u001b[0;31mAssertionError\u001b[0m                            Traceback (most recent call last)",
            "\u001b[0;32m<ipython-input-62-c7e862517747>\u001b[0m in \u001b[0;36m<module>\u001b[0;34m()\u001b[0m\n\u001b[1;32m      1\u001b[0m \u001b[0;32massert\u001b[0m \u001b[0misinstance\u001b[0m\u001b[0;34m(\u001b[0m\u001b[0mmodel\u001b[0m\u001b[0;34m.\u001b[0m\u001b[0moptimizer\u001b[0m\u001b[0;34m,\u001b[0m \u001b[0mkeras\u001b[0m\u001b[0;34m.\u001b[0m\u001b[0moptimizers\u001b[0m\u001b[0;34m.\u001b[0m\u001b[0mAdam\u001b[0m\u001b[0;34m)\u001b[0m\u001b[0;34m\u001b[0m\u001b[0;34m\u001b[0m\u001b[0m\n\u001b[1;32m      2\u001b[0m \u001b[0;32massert\u001b[0m \u001b[0mmodel\u001b[0m\u001b[0;34m.\u001b[0m\u001b[0mloss\u001b[0m \u001b[0;32min\u001b[0m \u001b[0;34m[\u001b[0m\u001b[0;34m\"mae\"\u001b[0m\u001b[0;34m,\u001b[0m \u001b[0;34m\"mean_absolute_error\"\u001b[0m\u001b[0;34m]\u001b[0m\u001b[0;34m\u001b[0m\u001b[0;34m\u001b[0m\u001b[0m\n\u001b[0;32m----> 3\u001b[0;31m \u001b[0;32massert\u001b[0m \u001b[0;34m\"mae\"\u001b[0m \u001b[0;32min\u001b[0m \u001b[0mmodel\u001b[0m\u001b[0;34m.\u001b[0m\u001b[0mmetrics\u001b[0m \u001b[0;32mor\u001b[0m \u001b[0;34m\"mean_absolute_error\"\u001b[0m \u001b[0;32min\u001b[0m \u001b[0mmodel\u001b[0m\u001b[0;34m.\u001b[0m\u001b[0mmetrics\u001b[0m\u001b[0;34m\u001b[0m\u001b[0;34m\u001b[0m\u001b[0m\n\u001b[0m",
            "\u001b[0;31mAssertionError\u001b[0m: "
          ]
        }
      ]
    },
    {
      "cell_type": "code",
      "metadata": {
        "deletable": false,
        "editable": false,
        "nbgrader": {
          "cell_type": "code",
          "checksum": "7c0fd9f800dd0097d1fc6f8f231066ff",
          "grade": false,
          "grade_id": "cell-d5b63d6e873e152e",
          "locked": true,
          "schema_version": 3,
          "solution": false
        },
        "id": "LJx8skDHRCC3",
        "colab_type": "code",
        "colab": {
          "base_uri": "https://localhost:8080/",
          "height": 72
        },
        "outputId": "2ebb1c24-3c62-4da9-a33b-c179b8ce8c75"
      },
      "source": [
        "model.evaluate(x_test, y_test)"
      ],
      "execution_count": 63,
      "outputs": [
        {
          "output_type": "stream",
          "text": [
            "\r102/1 [====================================================================================================================================================================================================================================================================================================================================================================================================================================================================================================================================================================================================================================================================================================================================================================================================================================================================================================================================================================================================================================================================================================================================================================================================================================================================================================================================================================================================================================================================================================================================================================================================================================================================================================================================================================================================================================================================================================================================================================================================================================================================================================================================================================================================================================================================================================================================================================================================================================================================================================================================================================================================================================================================================================================================================================================================================================================================================================================================================================================================================================================================================================================================================================================] - 0s 1ms/sample - loss: 25.8475 - mean_absolute_error: 22.0784 - mean_squared_error: 570.7010\n"
          ],
          "name": "stdout"
        },
        {
          "output_type": "execute_result",
          "data": {
            "text/plain": [
              "[22.078431858735925, 22.078432, 570.701]"
            ]
          },
          "metadata": {
            "tags": []
          },
          "execution_count": 63
        }
      ]
    },
    {
      "cell_type": "markdown",
      "metadata": {
        "deletable": false,
        "editable": false,
        "nbgrader": {
          "cell_type": "markdown",
          "checksum": "5ad5cb2f66611cb66544923bb1daef30",
          "grade": false,
          "grade_id": "cell-9ce06e7b86737575",
          "locked": true,
          "schema_version": 3,
          "solution": false
        },
        "id": "nXP4atchRCC_",
        "colab_type": "text"
      },
      "source": [
        "Now recreate the model with dropout layers. Add 2 dropout layers, each after the first or second layer respectively. Select a low value of dropout that results in a good score."
      ]
    },
    {
      "cell_type": "code",
      "metadata": {
        "deletable": false,
        "nbgrader": {
          "cell_type": "code",
          "checksum": "85466d06b24948ef13db699d6942298a",
          "grade": false,
          "grade_id": "cell-d5040e44398f8dc9",
          "locked": false,
          "schema_version": 3,
          "solution": true
        },
        "id": "6wWmskiNRCDB",
        "colab_type": "code",
        "colab": {}
      },
      "source": [
        "# YOUR CODE HERE\n",
        "layers = [\n",
        "    Dense(10, input_shape=(13,), activation='relu'),\n",
        "    Dropout(0.1, input_shape=(10,) ),\n",
        "    Dense(10, activation = 'relu'),\n",
        "    Dropout(0.1, input_shape=(10,) ),\n",
        "    Dense(10, activation = 'relu'),\n",
        "    Dense(1),\n",
        "]\n",
        "model = keras.Sequential(layers)"
      ],
      "execution_count": 0,
      "outputs": []
    },
    {
      "cell_type": "code",
      "metadata": {
        "deletable": false,
        "editable": false,
        "nbgrader": {
          "cell_type": "code",
          "checksum": "721a17ce3e9c60bb177460e91fb5dbf9",
          "grade": true,
          "grade_id": "cell-b6c7e6e2ddc6742a",
          "locked": true,
          "points": 5,
          "schema_version": 3,
          "solution": false
        },
        "id": "0AdvDVAvRCDF",
        "colab_type": "code",
        "colab": {}
      },
      "source": [
        "assert len(layers) == 6\n",
        "assert isinstance(layers[1], Dropout)\n",
        "assert isinstance(layers[3], Dropout)\n",
        "for i,layer in enumerate(layers):\n",
        "    if i not in [1,3]:\n",
        "        assert isinstance(layers[i], keras.layers.Dense) \n",
        "        assert layer.weights[1].shape == [10,0,10,0,10,1][i]"
      ],
      "execution_count": 0,
      "outputs": []
    },
    {
      "cell_type": "code",
      "metadata": {
        "deletable": false,
        "editable": false,
        "nbgrader": {
          "cell_type": "code",
          "checksum": "f9966c8415ea47dd929702ca4e9e962d",
          "grade": false,
          "grade_id": "cell-6179f8d29fe18a67",
          "locked": true,
          "schema_version": 3,
          "solution": false
        },
        "id": "r3kwhRnVRCDL",
        "colab_type": "code",
        "colab": {
          "base_uri": "https://localhost:8080/",
          "height": 364
        },
        "outputId": "5fe3f81c-d3a7-4585-ae89-6a9d4febed0b"
      },
      "source": [
        "model.compile(optimizer='adam', loss='mae', metrics=['mae', \"mse\"])\n",
        "model.fit(x_train, y_train, epochs=500, verbose=0)\n",
        "model.summary()"
      ],
      "execution_count": 119,
      "outputs": [
        {
          "output_type": "stream",
          "text": [
            "Model: \"sequential_19\"\n",
            "_________________________________________________________________\n",
            "Layer (type)                 Output Shape              Param #   \n",
            "=================================================================\n",
            "dense_69 (Dense)             (None, 10)                140       \n",
            "_________________________________________________________________\n",
            "dropout_30 (Dropout)         (None, 10)                0         \n",
            "_________________________________________________________________\n",
            "dense_70 (Dense)             (None, 10)                110       \n",
            "_________________________________________________________________\n",
            "dropout_31 (Dropout)         (None, 10)                0         \n",
            "_________________________________________________________________\n",
            "dense_71 (Dense)             (None, 10)                110       \n",
            "_________________________________________________________________\n",
            "dense_72 (Dense)             (None, 1)                 11        \n",
            "=================================================================\n",
            "Total params: 371\n",
            "Trainable params: 371\n",
            "Non-trainable params: 0\n",
            "_________________________________________________________________\n"
          ],
          "name": "stdout"
        }
      ]
    },
    {
      "cell_type": "code",
      "metadata": {
        "deletable": false,
        "editable": false,
        "nbgrader": {
          "cell_type": "code",
          "checksum": "fb0913cba0c0963d9bbea2016ac4f5b3",
          "grade": false,
          "grade_id": "cell-9ed3ec168ee4a1e5",
          "locked": true,
          "schema_version": 3,
          "solution": false
        },
        "id": "UB6wDL_xRCDR",
        "colab_type": "code",
        "colab": {
          "base_uri": "https://localhost:8080/",
          "height": 72
        },
        "outputId": "539c1485-a13d-4a10-b1d1-fe3e8fb8a9c4"
      },
      "source": [
        "model.evaluate(x_test, y_test)"
      ],
      "execution_count": 120,
      "outputs": [
        {
          "output_type": "stream",
          "text": [
            "\r102/1 [====================================================================================================================================================================================================================================================================================================================================================================================================================================================================================================================================================================================================================================================================================================================================================================================================================================================================================================================================================================================================================================================================================================================================================================================================================================================================================================================================================================================================================================================================================================================================================================================================================================================================================================================================================================================================================================================================================================================================================================================================================================================================================================================================================================================================================================================================================================================================================================================================================================================================================================================================================================================================================================================================================================================================================================================================================================================================================================================================================================================================================================================================================================================================================================================] - 0s 953us/sample - loss: 5.8745 - mae: 4.7767 - mse: 43.2561\n"
          ],
          "name": "stdout"
        },
        {
          "output_type": "execute_result",
          "data": {
            "text/plain": [
              "[4.776651990179922, 4.776652, 43.256145]"
            ]
          },
          "metadata": {
            "tags": []
          },
          "execution_count": 120
        }
      ]
    },
    {
      "cell_type": "markdown",
      "metadata": {
        "deletable": false,
        "editable": false,
        "nbgrader": {
          "cell_type": "markdown",
          "checksum": "92cd81b54e6431d104554eef1db546f4",
          "grade": false,
          "grade_id": "cell-06909b3cd0248748",
          "locked": true,
          "schema_version": 3,
          "solution": false
        },
        "id": "W0CuUDN7RCDW",
        "colab_type": "text"
      },
      "source": [
        "Select a dropout rate that gets an okay score."
      ]
    },
    {
      "cell_type": "code",
      "metadata": {
        "deletable": false,
        "editable": false,
        "nbgrader": {
          "cell_type": "code",
          "checksum": "481af2c92de02457e006cf2856c16c17",
          "grade": true,
          "grade_id": "cell-538bede4947fe364",
          "locked": true,
          "points": 0,
          "schema_version": 3,
          "solution": false
        },
        "id": "o3Xjr-FBRCDY",
        "colab_type": "code",
        "colab": {
          "base_uri": "https://localhost:8080/",
          "height": 54
        },
        "outputId": "b0c5d40a-ce8c-442f-9fab-bcab3037d622"
      },
      "source": [
        "assert model.evaluate(x_test, y_test)[0] < 7"
      ],
      "execution_count": 121,
      "outputs": [
        {
          "output_type": "stream",
          "text": [
            "\r102/1 [====================================================================================================================================================================================================================================================================================================================================================================================================================================================================================================================================================================================================================================================================================================================================================================================================================================================================================================================================================================================================================================================================================================================================================================================================================================================================================================================================================================================================================================================================================================================================================================================================================================================================================================================================================================================================================================================================================================================================================================================================================================================================================================================================================================================================================================================================================================================================================================================================================================================================================================================================================================================================================================================================================================================================================================================================================================================================================================================================================================================================================================================================================================================================================================================] - 0s 61us/sample - loss: 5.8745 - mae: 4.7767 - mse: 43.2561\n"
          ],
          "name": "stdout"
        }
      ]
    },
    {
      "cell_type": "markdown",
      "metadata": {
        "deletable": false,
        "editable": false,
        "nbgrader": {
          "cell_type": "markdown",
          "checksum": "23648526b4581cb6ea5df76b63c45274",
          "grade": false,
          "grade_id": "cell-bdd8daf85b096db9",
          "locked": true,
          "schema_version": 3,
          "solution": false
        },
        "id": "ggpEAMFMRCDf",
        "colab_type": "text"
      },
      "source": [
        "## Feedback"
      ]
    },
    {
      "cell_type": "code",
      "metadata": {
        "deletable": false,
        "nbgrader": {
          "cell_type": "code",
          "checksum": "ed936ab53a1391c5e6af8df699a1dbf5",
          "grade": false,
          "grade_id": "feedback",
          "locked": false,
          "schema_version": 3,
          "solution": true
        },
        "id": "vmDdkysrRCDh",
        "colab_type": "code",
        "colab": {}
      },
      "source": [
        "def feedback():\n",
        "    \"\"\"Provide feedback on the contents of this exercise\n",
        "    \n",
        "    Returns:\n",
        "        string\n",
        "    \"\"\"\n",
        "    # YOUR CODE HERE\n",
        "    return \"This was good, however checking that the code we write on Collab passes all the assert statements would be appreciated.\""
      ],
      "execution_count": 0,
      "outputs": []
    },
    {
      "cell_type": "code",
      "metadata": {
        "deletable": false,
        "editable": false,
        "nbgrader": {
          "cell_type": "code",
          "checksum": "f39f6185a54850c2f1f9b5b2a17b7543",
          "grade": true,
          "grade_id": "feedback-tests",
          "locked": true,
          "points": 0,
          "schema_version": 3,
          "solution": false
        },
        "id": "qN6HVhW2RCDr",
        "colab_type": "code",
        "colab": {}
      },
      "source": [
        ""
      ],
      "execution_count": 0,
      "outputs": []
    }
  ]
}