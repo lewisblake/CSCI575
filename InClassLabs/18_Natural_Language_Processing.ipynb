{
  "nbformat": 4,
  "nbformat_minor": 0,
  "metadata": {
    "kernelspec": {
      "display_name": "iml-exercises",
      "language": "python",
      "name": "iml-exercises"
    },
    "language_info": {
      "codemirror_mode": {
        "name": "ipython",
        "version": 3
      },
      "file_extension": ".py",
      "mimetype": "text/x-python",
      "name": "python",
      "nbconvert_exporter": "python",
      "pygments_lexer": "ipython3",
      "version": "3.6.5"
    },
    "colab": {
      "name": "18 - Natural Language Processing.ipynb",
      "provenance": [],
      "collapsed_sections": []
    }
  },
  "cells": [
    {
      "cell_type": "markdown",
      "metadata": {
        "deletable": false,
        "editable": false,
        "nbgrader": {
          "cell_type": "markdown",
          "checksum": "019fc99a17a5172c9536f14e715a3d53",
          "grade": false,
          "grade_id": "cell-0d4717fe7700aa92",
          "locked": true,
          "schema_version": 3,
          "solution": false
        },
        "id": "rMLQ4m9Bmcpg",
        "colab_type": "text"
      },
      "source": [
        "# Natural Language Processing\n",
        "\n",
        "In this exercise we will calculate a variety of feature extraction methods on a news article dataset and use various classifiers to predict the article's category.\n",
        "\n",
        "We will first use classical methods for feature extraction with Naive Bayes, followed by more recent methods of using word embeddings with a simple Linear SVM model."
      ]
    },
    {
      "cell_type": "code",
      "metadata": {
        "deletable": false,
        "editable": false,
        "nbgrader": {
          "cell_type": "code",
          "checksum": "ad29b177dd5a0376cd85ba9e39209fec",
          "grade": false,
          "grade_id": "cell-7ff8992190e52386",
          "locked": true,
          "schema_version": 3,
          "solution": false
        },
        "id": "AvmQsaJ0mcpm",
        "colab_type": "code",
        "colab": {
          "base_uri": "https://localhost:8080/",
          "height": 367
        },
        "outputId": "ec0845be-b190-4e51-fe76-55c89af4121a"
      },
      "source": [
        "# # Uncomment the below line to install\n",
        "! pip install spacy\n",
        "! python -m spacy download en_core_web_md"
      ],
      "execution_count": 1,
      "outputs": [
        {
          "output_type": "stream",
          "text": [
            "Requirement already satisfied: spacy in /usr/local/lib/python3.6/dist-packages (2.1.9)\n",
            "Requirement already satisfied: blis<0.3.0,>=0.2.2 in /usr/local/lib/python3.6/dist-packages (from spacy) (0.2.4)\n",
            "Requirement already satisfied: plac<1.0.0,>=0.9.6 in /usr/local/lib/python3.6/dist-packages (from spacy) (0.9.6)\n",
            "Requirement already satisfied: cymem<2.1.0,>=2.0.2 in /usr/local/lib/python3.6/dist-packages (from spacy) (2.0.2)\n",
            "Requirement already satisfied: preshed<2.1.0,>=2.0.1 in /usr/local/lib/python3.6/dist-packages (from spacy) (2.0.1)\n",
            "Requirement already satisfied: requests<3.0.0,>=2.13.0 in /usr/local/lib/python3.6/dist-packages (from spacy) (2.21.0)\n",
            "Requirement already satisfied: wasabi<1.1.0,>=0.2.0 in /usr/local/lib/python3.6/dist-packages (from spacy) (0.3.0)\n",
            "Requirement already satisfied: thinc<7.1.0,>=7.0.8 in /usr/local/lib/python3.6/dist-packages (from spacy) (7.0.8)\n",
            "Requirement already satisfied: numpy>=1.15.0 in /usr/local/lib/python3.6/dist-packages (from spacy) (1.17.3)\n",
            "Requirement already satisfied: murmurhash<1.1.0,>=0.28.0 in /usr/local/lib/python3.6/dist-packages (from spacy) (1.0.2)\n",
            "Requirement already satisfied: srsly<1.1.0,>=0.0.6 in /usr/local/lib/python3.6/dist-packages (from spacy) (0.2.0)\n",
            "Requirement already satisfied: urllib3<1.25,>=1.21.1 in /usr/local/lib/python3.6/dist-packages (from requests<3.0.0,>=2.13.0->spacy) (1.24.3)\n",
            "Requirement already satisfied: chardet<3.1.0,>=3.0.2 in /usr/local/lib/python3.6/dist-packages (from requests<3.0.0,>=2.13.0->spacy) (3.0.4)\n",
            "Requirement already satisfied: certifi>=2017.4.17 in /usr/local/lib/python3.6/dist-packages (from requests<3.0.0,>=2.13.0->spacy) (2019.9.11)\n",
            "Requirement already satisfied: idna<2.9,>=2.5 in /usr/local/lib/python3.6/dist-packages (from requests<3.0.0,>=2.13.0->spacy) (2.8)\n",
            "Requirement already satisfied: tqdm<5.0.0,>=4.10.0 in /usr/local/lib/python3.6/dist-packages (from thinc<7.1.0,>=7.0.8->spacy) (4.28.1)\n",
            "Requirement already satisfied: en_core_web_md==2.1.0 from https://github.com/explosion/spacy-models/releases/download/en_core_web_md-2.1.0/en_core_web_md-2.1.0.tar.gz#egg=en_core_web_md==2.1.0 in /usr/local/lib/python3.6/dist-packages (2.1.0)\n",
            "\u001b[38;5;2m✔ Download and installation successful\u001b[0m\n",
            "You can now load the model via spacy.load('en_core_web_md')\n"
          ],
          "name": "stdout"
        }
      ]
    },
    {
      "cell_type": "code",
      "metadata": {
        "deletable": false,
        "editable": false,
        "nbgrader": {
          "cell_type": "code",
          "checksum": "56a4068f8a3db8d2189569cde657aa44",
          "grade": false,
          "grade_id": "cell-839fb7e9db39b4dd",
          "locked": true,
          "schema_version": 3,
          "solution": false
        },
        "id": "34PyV8vxmcp0",
        "colab_type": "code",
        "colab": {}
      },
      "source": [
        "import sklearn\n",
        "from sklearn.datasets import fetch_20newsgroups\n",
        "from sklearn.model_selection import train_test_split\n",
        "from sklearn.feature_extraction.text import CountVectorizer, TfidfTransformer, HashingVectorizer\n",
        "from sklearn.naive_bayes import MultinomialNB, GaussianNB\n",
        "from sklearn.metrics import classification_report, f1_score, accuracy_score\n",
        "from sklearn.svm import LinearSVC\n",
        "import numpy as np\n",
        "import spacy"
      ],
      "execution_count": 0,
      "outputs": []
    },
    {
      "cell_type": "code",
      "metadata": {
        "deletable": false,
        "editable": false,
        "nbgrader": {
          "cell_type": "code",
          "checksum": "50df3022d50dc10fd18cd71acf03c2f5",
          "grade": false,
          "grade_id": "cell-32547bf8b3c17d81",
          "locked": true,
          "schema_version": 3,
          "solution": false
        },
        "id": "O1uotD8Lmcp-",
        "colab_type": "code",
        "colab": {}
      },
      "source": [
        "data = fetch_20newsgroups(subset=\"all\")"
      ],
      "execution_count": 0,
      "outputs": []
    },
    {
      "cell_type": "code",
      "metadata": {
        "deletable": false,
        "editable": false,
        "nbgrader": {
          "cell_type": "code",
          "checksum": "1ee06fb20e81b0a6aeece342974b39bb",
          "grade": false,
          "grade_id": "cell-222fb692deae0d18",
          "locked": true,
          "schema_version": 3,
          "solution": false
        },
        "id": "MDPTmVzTmcqF",
        "colab_type": "code",
        "colab": {
          "base_uri": "https://localhost:8080/",
          "height": 1000
        },
        "outputId": "dd69c335-68e6-4dad-b40b-077358bcc784"
      },
      "source": [
        "print(data.DESCR)"
      ],
      "execution_count": 4,
      "outputs": [
        {
          "output_type": "stream",
          "text": [
            ".. _20newsgroups_dataset:\n",
            "\n",
            "The 20 newsgroups text dataset\n",
            "------------------------------\n",
            "\n",
            "The 20 newsgroups dataset comprises around 18000 newsgroups posts on\n",
            "20 topics split in two subsets: one for training (or development)\n",
            "and the other one for testing (or for performance evaluation). The split\n",
            "between the train and test set is based upon a messages posted before\n",
            "and after a specific date.\n",
            "\n",
            "This module contains two loaders. The first one,\n",
            ":func:`sklearn.datasets.fetch_20newsgroups`,\n",
            "returns a list of the raw texts that can be fed to text feature\n",
            "extractors such as :class:`sklearn.feature_extraction.text.CountVectorizer`\n",
            "with custom parameters so as to extract feature vectors.\n",
            "The second one, :func:`sklearn.datasets.fetch_20newsgroups_vectorized`,\n",
            "returns ready-to-use features, i.e., it is not necessary to use a feature\n",
            "extractor.\n",
            "\n",
            "**Data Set Characteristics:**\n",
            "\n",
            "    =================   ==========\n",
            "    Classes                     20\n",
            "    Samples total            18846\n",
            "    Dimensionality               1\n",
            "    Features                  text\n",
            "    =================   ==========\n",
            "\n",
            "Usage\n",
            "~~~~~\n",
            "\n",
            "The :func:`sklearn.datasets.fetch_20newsgroups` function is a data\n",
            "fetching / caching functions that downloads the data archive from\n",
            "the original `20 newsgroups website`_, extracts the archive contents\n",
            "in the ``~/scikit_learn_data/20news_home`` folder and calls the\n",
            ":func:`sklearn.datasets.load_files` on either the training or\n",
            "testing set folder, or both of them::\n",
            "\n",
            "  >>> from sklearn.datasets import fetch_20newsgroups\n",
            "  >>> newsgroups_train = fetch_20newsgroups(subset='train')\n",
            "\n",
            "  >>> from pprint import pprint\n",
            "  >>> pprint(list(newsgroups_train.target_names))\n",
            "  ['alt.atheism',\n",
            "   'comp.graphics',\n",
            "   'comp.os.ms-windows.misc',\n",
            "   'comp.sys.ibm.pc.hardware',\n",
            "   'comp.sys.mac.hardware',\n",
            "   'comp.windows.x',\n",
            "   'misc.forsale',\n",
            "   'rec.autos',\n",
            "   'rec.motorcycles',\n",
            "   'rec.sport.baseball',\n",
            "   'rec.sport.hockey',\n",
            "   'sci.crypt',\n",
            "   'sci.electronics',\n",
            "   'sci.med',\n",
            "   'sci.space',\n",
            "   'soc.religion.christian',\n",
            "   'talk.politics.guns',\n",
            "   'talk.politics.mideast',\n",
            "   'talk.politics.misc',\n",
            "   'talk.religion.misc']\n",
            "\n",
            "The real data lies in the ``filenames`` and ``target`` attributes. The target\n",
            "attribute is the integer index of the category::\n",
            "\n",
            "  >>> newsgroups_train.filenames.shape\n",
            "  (11314,)\n",
            "  >>> newsgroups_train.target.shape\n",
            "  (11314,)\n",
            "  >>> newsgroups_train.target[:10]\n",
            "  array([ 7,  4,  4,  1, 14, 16, 13,  3,  2,  4])\n",
            "\n",
            "It is possible to load only a sub-selection of the categories by passing the\n",
            "list of the categories to load to the\n",
            ":func:`sklearn.datasets.fetch_20newsgroups` function::\n",
            "\n",
            "  >>> cats = ['alt.atheism', 'sci.space']\n",
            "  >>> newsgroups_train = fetch_20newsgroups(subset='train', categories=cats)\n",
            "\n",
            "  >>> list(newsgroups_train.target_names)\n",
            "  ['alt.atheism', 'sci.space']\n",
            "  >>> newsgroups_train.filenames.shape\n",
            "  (1073,)\n",
            "  >>> newsgroups_train.target.shape\n",
            "  (1073,)\n",
            "  >>> newsgroups_train.target[:10]\n",
            "  array([0, 1, 1, 1, 0, 1, 1, 0, 0, 0])\n",
            "\n",
            "Converting text to vectors\n",
            "~~~~~~~~~~~~~~~~~~~~~~~~~~\n",
            "\n",
            "In order to feed predictive or clustering models with the text data,\n",
            "one first need to turn the text into vectors of numerical values suitable\n",
            "for statistical analysis. This can be achieved with the utilities of the\n",
            "``sklearn.feature_extraction.text`` as demonstrated in the following\n",
            "example that extract `TF-IDF`_ vectors of unigram tokens\n",
            "from a subset of 20news::\n",
            "\n",
            "  >>> from sklearn.feature_extraction.text import TfidfVectorizer\n",
            "  >>> categories = ['alt.atheism', 'talk.religion.misc',\n",
            "  ...               'comp.graphics', 'sci.space']\n",
            "  >>> newsgroups_train = fetch_20newsgroups(subset='train',\n",
            "  ...                                       categories=categories)\n",
            "  >>> vectorizer = TfidfVectorizer()\n",
            "  >>> vectors = vectorizer.fit_transform(newsgroups_train.data)\n",
            "  >>> vectors.shape\n",
            "  (2034, 34118)\n",
            "\n",
            "The extracted TF-IDF vectors are very sparse, with an average of 159 non-zero\n",
            "components by sample in a more than 30000-dimensional space\n",
            "(less than .5% non-zero features)::\n",
            "\n",
            "  >>> vectors.nnz / float(vectors.shape[0])       # doctest: +ELLIPSIS\n",
            "  159.01327...\n",
            "\n",
            ":func:`sklearn.datasets.fetch_20newsgroups_vectorized` is a function which \n",
            "returns ready-to-use token counts features instead of file names.\n",
            "\n",
            ".. _`20 newsgroups website`: http://people.csail.mit.edu/jrennie/20Newsgroups/\n",
            ".. _`TF-IDF`: https://en.wikipedia.org/wiki/Tf-idf\n",
            "\n",
            "\n",
            "Filtering text for more realistic training\n",
            "~~~~~~~~~~~~~~~~~~~~~~~~~~~~~~~~~~~~~~~~~~\n",
            "\n",
            "It is easy for a classifier to overfit on particular things that appear in the\n",
            "20 Newsgroups data, such as newsgroup headers. Many classifiers achieve very\n",
            "high F-scores, but their results would not generalize to other documents that\n",
            "aren't from this window of time.\n",
            "\n",
            "For example, let's look at the results of a multinomial Naive Bayes classifier,\n",
            "which is fast to train and achieves a decent F-score::\n",
            "\n",
            "  >>> from sklearn.naive_bayes import MultinomialNB\n",
            "  >>> from sklearn import metrics\n",
            "  >>> newsgroups_test = fetch_20newsgroups(subset='test',\n",
            "  ...                                      categories=categories)\n",
            "  >>> vectors_test = vectorizer.transform(newsgroups_test.data)\n",
            "  >>> clf = MultinomialNB(alpha=.01)\n",
            "  >>> clf.fit(vectors, newsgroups_train.target)\n",
            "  MultinomialNB(alpha=0.01, class_prior=None, fit_prior=True)\n",
            "\n",
            "  >>> pred = clf.predict(vectors_test)\n",
            "  >>> metrics.f1_score(newsgroups_test.target, pred, average='macro')  # doctest: +ELLIPSIS\n",
            "  0.88213...\n",
            "\n",
            "(The example :ref:`sphx_glr_auto_examples_text_plot_document_classification_20newsgroups.py` shuffles\n",
            "the training and test data, instead of segmenting by time, and in that case\n",
            "multinomial Naive Bayes gets a much higher F-score of 0.88. Are you suspicious\n",
            "yet of what's going on inside this classifier?)\n",
            "\n",
            "Let's take a look at what the most informative features are:\n",
            "\n",
            "  >>> import numpy as np\n",
            "  >>> def show_top10(classifier, vectorizer, categories):\n",
            "  ...     feature_names = np.asarray(vectorizer.get_feature_names())\n",
            "  ...     for i, category in enumerate(categories):\n",
            "  ...         top10 = np.argsort(classifier.coef_[i])[-10:]\n",
            "  ...         print(\"%s: %s\" % (category, \" \".join(feature_names[top10])))\n",
            "  ...\n",
            "  >>> show_top10(clf, vectorizer, newsgroups_train.target_names)\n",
            "  alt.atheism: edu it and in you that is of to the\n",
            "  comp.graphics: edu in graphics it is for and of to the\n",
            "  sci.space: edu it that is in and space to of the\n",
            "  talk.religion.misc: not it you in is that and to of the\n",
            "\n",
            "\n",
            "You can now see many things that these features have overfit to:\n",
            "\n",
            "- Almost every group is distinguished by whether headers such as\n",
            "  ``NNTP-Posting-Host:`` and ``Distribution:`` appear more or less often.\n",
            "- Another significant feature involves whether the sender is affiliated with\n",
            "  a university, as indicated either by their headers or their signature.\n",
            "- The word \"article\" is a significant feature, based on how often people quote\n",
            "  previous posts like this: \"In article [article ID], [name] <[e-mail address]>\n",
            "  wrote:\"\n",
            "- Other features match the names and e-mail addresses of particular people who\n",
            "  were posting at the time.\n",
            "\n",
            "With such an abundance of clues that distinguish newsgroups, the classifiers\n",
            "barely have to identify topics from text at all, and they all perform at the\n",
            "same high level.\n",
            "\n",
            "For this reason, the functions that load 20 Newsgroups data provide a\n",
            "parameter called **remove**, telling it what kinds of information to strip out\n",
            "of each file. **remove** should be a tuple containing any subset of\n",
            "``('headers', 'footers', 'quotes')``, telling it to remove headers, signature\n",
            "blocks, and quotation blocks respectively.\n",
            "\n",
            "  >>> newsgroups_test = fetch_20newsgroups(subset='test',\n",
            "  ...                                      remove=('headers', 'footers', 'quotes'),\n",
            "  ...                                      categories=categories)\n",
            "  >>> vectors_test = vectorizer.transform(newsgroups_test.data)\n",
            "  >>> pred = clf.predict(vectors_test)\n",
            "  >>> metrics.f1_score(pred, newsgroups_test.target, average='macro')  # doctest: +ELLIPSIS\n",
            "  0.77310...\n",
            "\n",
            "This classifier lost over a lot of its F-score, just because we removed\n",
            "metadata that has little to do with topic classification.\n",
            "It loses even more if we also strip this metadata from the training data:\n",
            "\n",
            "  >>> newsgroups_train = fetch_20newsgroups(subset='train',\n",
            "  ...                                       remove=('headers', 'footers', 'quotes'),\n",
            "  ...                                       categories=categories)\n",
            "  >>> vectors = vectorizer.fit_transform(newsgroups_train.data)\n",
            "  >>> clf = MultinomialNB(alpha=.01)\n",
            "  >>> clf.fit(vectors, newsgroups_train.target)\n",
            "  MultinomialNB(alpha=0.01, class_prior=None, fit_prior=True)\n",
            "\n",
            "  >>> vectors_test = vectorizer.transform(newsgroups_test.data)\n",
            "  >>> pred = clf.predict(vectors_test)\n",
            "  >>> metrics.f1_score(newsgroups_test.target, pred, average='macro')  # doctest: +ELLIPSIS\n",
            "  0.76995...\n",
            "\n",
            "Some other classifiers cope better with this harder version of the task. Try\n",
            "running :ref:`sphx_glr_auto_examples_model_selection_grid_search_text_feature_extraction.py` with and without\n",
            "the ``--filter`` option to compare the results.\n",
            "\n",
            ".. topic:: Recommendation\n",
            "\n",
            "  When evaluating text classifiers on the 20 Newsgroups data, you\n",
            "  should strip newsgroup-related metadata. In scikit-learn, you can do this by\n",
            "  setting ``remove=('headers', 'footers', 'quotes')``. The F-score will be\n",
            "  lower because it is more realistic.\n",
            "\n",
            ".. topic:: Examples\n",
            "\n",
            "   * :ref:`sphx_glr_auto_examples_model_selection_grid_search_text_feature_extraction.py`\n",
            "\n",
            "   * :ref:`sphx_glr_auto_examples_text_plot_document_classification_20newsgroups.py`\n",
            "\n"
          ],
          "name": "stdout"
        }
      ]
    },
    {
      "cell_type": "code",
      "metadata": {
        "deletable": false,
        "editable": false,
        "nbgrader": {
          "cell_type": "code",
          "checksum": "48fa44e3ed13130dd58386fbc41f1801",
          "grade": false,
          "grade_id": "cell-c1f44b15459bea17",
          "locked": true,
          "schema_version": 3,
          "solution": false
        },
        "id": "SG79Cv8wmcqN",
        "colab_type": "code",
        "colab": {
          "base_uri": "https://localhost:8080/",
          "height": 72
        },
        "outputId": "8ebff9cc-487a-4ee6-9534-c8d38c56419a"
      },
      "source": [
        "text = data[\"data\"]\n",
        "target = data[\"target\"]\n",
        "print(\"The following are the 20 topics that an article can belong to:\")\n",
        "print(data[\"target_names\"])"
      ],
      "execution_count": 5,
      "outputs": [
        {
          "output_type": "stream",
          "text": [
            "The following are the 20 topics that an article can belong to:\n",
            "['alt.atheism', 'comp.graphics', 'comp.os.ms-windows.misc', 'comp.sys.ibm.pc.hardware', 'comp.sys.mac.hardware', 'comp.windows.x', 'misc.forsale', 'rec.autos', 'rec.motorcycles', 'rec.sport.baseball', 'rec.sport.hockey', 'sci.crypt', 'sci.electronics', 'sci.med', 'sci.space', 'soc.religion.christian', 'talk.politics.guns', 'talk.politics.mideast', 'talk.politics.misc', 'talk.religion.misc']\n"
          ],
          "name": "stdout"
        }
      ]
    },
    {
      "cell_type": "code",
      "metadata": {
        "deletable": false,
        "editable": false,
        "nbgrader": {
          "cell_type": "code",
          "checksum": "c2d0239fa14b9e082a02968d7c142595",
          "grade": false,
          "grade_id": "cell-3792303ddcf70dbb",
          "locked": true,
          "schema_version": 3,
          "solution": false
        },
        "id": "XNx4-tAQmcqT",
        "colab_type": "code",
        "colab": {}
      },
      "source": [
        "X_train, X_test, y_train, y_test = train_test_split(text, target, random_state=0)"
      ],
      "execution_count": 0,
      "outputs": []
    },
    {
      "cell_type": "code",
      "metadata": {
        "deletable": false,
        "editable": false,
        "nbgrader": {
          "cell_type": "code",
          "checksum": "ac68ffd4d73dff7c10eea2e716b9040a",
          "grade": false,
          "grade_id": "cell-2377d43a03f72b0f",
          "locked": true,
          "schema_version": 3,
          "solution": false
        },
        "id": "TGvJYukkmcqZ",
        "colab_type": "code",
        "colab": {
          "base_uri": "https://localhost:8080/",
          "height": 52
        },
        "outputId": "1484cf8b-9073-4fa6-cf94-6aa6e957f3b4"
      },
      "source": [
        "print(f\"The training dataset contains {len(X_train)} articles.\")\n",
        "print(f\"The test dataset contains {len(X_test)} articles.\")"
      ],
      "execution_count": 7,
      "outputs": [
        {
          "output_type": "stream",
          "text": [
            "The training dataset contains 14134 articles.\n",
            "The test dataset contains 4712 articles.\n"
          ],
          "name": "stdout"
        }
      ]
    },
    {
      "cell_type": "markdown",
      "metadata": {
        "deletable": false,
        "editable": false,
        "nbgrader": {
          "cell_type": "markdown",
          "checksum": "d1991f8c56f04db0dad84fea9274d2f5",
          "grade": false,
          "grade_id": "cell-b2b050fc5a1f96db",
          "locked": true,
          "schema_version": 3,
          "solution": false
        },
        "id": "HVrTMoj5mcqf",
        "colab_type": "text"
      },
      "source": [
        "Scikit learn implements the BoW feature representation using [CountVectorizer](http://scikit-learn.org/stable/modules/generated/sklearn.feature_extraction.text.CountVectorizer.html), and it also has implementations for [TF-IDF](http://scikit-learn.org/stable/modules/generated/sklearn.feature_extraction.text.TfidfVectorizer.html#sklearn.feature_extraction.text.TfidfVectorizer) and [hashed vector](http://scikit-learn.org/stable/modules/generated/sklearn.feature_extraction.text.HashingVectorizer.html#sklearn.feature_extraction.text.HashingVectorizer) representations.\n",
        "\n",
        "Determine the feature representations of our dataset using each of those approaches."
      ]
    },
    {
      "cell_type": "code",
      "metadata": {
        "deletable": false,
        "nbgrader": {
          "cell_type": "code",
          "checksum": "45ef423d08f71eebb73f9e0f431566d2",
          "grade": false,
          "grade_id": "cell-f899f3942f01be93",
          "locked": false,
          "schema_version": 3,
          "solution": true
        },
        "id": "Zr7DePMZmcqh",
        "colab_type": "code",
        "colab": {
          "base_uri": "https://localhost:8080/",
          "height": 52
        },
        "outputId": "277f66a3-7f7f-4cac-9b61-4bebddf5ae7b"
      },
      "source": [
        "%%time\n",
        "# Use English stopwords and produce a BoW representation for the data using up to trigrams\n",
        "# Save the vectorizer as counter and the transformed data as X_train_bow, and X_test_bow\n",
        "# YOUR CODE HERE\n",
        "counter = CountVectorizer(stop_words = \"english\", ngram_range = (1, 3))\n",
        "counter.fit(X_train, y_train)\n",
        "\n",
        "X_train_bow = counter.transform(X_train)\n",
        "X_test_bow = counter.transform(X_test)"
      ],
      "execution_count": 78,
      "outputs": [
        {
          "output_type": "stream",
          "text": [
            "CPU times: user 36.2 s, sys: 1.13 s, total: 37.3 s\n",
            "Wall time: 37.4 s\n"
          ],
          "name": "stdout"
        }
      ]
    },
    {
      "cell_type": "code",
      "metadata": {
        "deletable": false,
        "editable": false,
        "nbgrader": {
          "cell_type": "code",
          "checksum": "54e331ac2a899a8d165562540b4e9c49",
          "grade": true,
          "grade_id": "cell-740433b073b13510",
          "locked": true,
          "points": 5,
          "schema_version": 3,
          "solution": false
        },
        "id": "2nHZTiuNmcqo",
        "colab_type": "code",
        "colab": {}
      },
      "source": [
        "assert counter\n",
        "assert counter.stop_words == \"english\"\n",
        "assert counter.ngram_range == (1,3)\n",
        "assert len(counter.get_feature_names()) == 3034327\n",
        "assert X_train_bow.shape == (14134, 3034327)\n",
        "assert X_test_bow.shape == (4712, 3034327)"
      ],
      "execution_count": 0,
      "outputs": []
    },
    {
      "cell_type": "markdown",
      "metadata": {
        "deletable": false,
        "editable": false,
        "nbgrader": {
          "cell_type": "markdown",
          "checksum": "630143b0c7f771b9c5855dbb5caf411d",
          "grade": false,
          "grade_id": "cell-cd1cb3b0c71eedd9",
          "locked": true,
          "schema_version": 3,
          "solution": false
        },
        "id": "LdbmdY6emcqu",
        "colab_type": "text"
      },
      "source": [
        "Note that sklearn implements a [TfidfVectorizer](http://scikit-learn.org/stable/modules/generated/sklearn.feature_extraction.text.TfidfVectorizer.html) and [TfidfTransformer](http://scikit-learn.org/stable/modules/generated/sklearn.feature_extraction.text.TfidfTransformer.html). The main difference between the two is in the inputs to fitting and transforming. The [Vectorizer's fit/transform](http://scikit-learn.org/stable/modules/generated/sklearn.feature_extraction.text.TfidfVectorizer.html#sklearn.feature_extraction.text.TfidfVectorizer.fit) take an input of text whereas the [transformer's](http://scikit-learn.org/stable/modules/generated/sklearn.feature_extraction.text.TfidfTransformer.html#sklearn.feature_extraction.text.TfidfTransformer.fit) take an input of a BoW vector. Given that we already determined the BoW vectors, it would be more time efficient to use TfidfTransformer."
      ]
    },
    {
      "cell_type": "code",
      "metadata": {
        "deletable": false,
        "nbgrader": {
          "cell_type": "code",
          "checksum": "dee5b8fbe12f0499a87727cd864d345c",
          "grade": false,
          "grade_id": "cell-018bdbbae2613aef",
          "locked": false,
          "schema_version": 3,
          "solution": true
        },
        "id": "4c8O6yaJmcqv",
        "colab_type": "code",
        "colab": {
          "base_uri": "https://localhost:8080/",
          "height": 52
        },
        "outputId": "fd820e19-fcf6-432e-cca0-1de3826a90c6"
      },
      "source": [
        "%%time\n",
        "# Use the BoW representation you just created above to produce a TFIDF representation of the data\n",
        "# Save the transformer to tfidfer and the transformed data as X_train_tfidf, and X_test_tfidf\n",
        "tfidfer = TfidfTransformer()\n",
        "#tfidfer.fit(X_train_bow)\n",
        "X_train_tfidf = tfidfer.fit_transform(X_train_bow)\n",
        "X_test_tfidf = tfidfer.fit_transform(X_test_bow)\n"
      ],
      "execution_count": 80,
      "outputs": [
        {
          "output_type": "stream",
          "text": [
            "CPU times: user 3.46 s, sys: 11.9 ms, total: 3.48 s\n",
            "Wall time: 3.48 s\n"
          ],
          "name": "stdout"
        }
      ]
    },
    {
      "cell_type": "code",
      "metadata": {
        "deletable": false,
        "editable": false,
        "nbgrader": {
          "cell_type": "code",
          "checksum": "ecdb4782c18f141c55bfeefc8dec8c48",
          "grade": true,
          "grade_id": "cell-0e6ce5999cd93389",
          "locked": true,
          "points": 5,
          "schema_version": 3,
          "solution": false
        },
        "id": "ASp32nPBmcq2",
        "colab_type": "code",
        "colab": {}
      },
      "source": [
        "assert tfidfer\n",
        "assert X_train_tfidf.shape  == (14134, 3034327)\n",
        "assert X_test_tfidf.shape  == (4712, 3034327)"
      ],
      "execution_count": 0,
      "outputs": []
    },
    {
      "cell_type": "markdown",
      "metadata": {
        "deletable": false,
        "editable": false,
        "nbgrader": {
          "cell_type": "markdown",
          "checksum": "5f5c54e66ea2ef754e096d6523435c69",
          "grade": false,
          "grade_id": "cell-ed956dd2a828dea8",
          "locked": true,
          "schema_version": 3,
          "solution": false
        },
        "id": "tZuBUlhCmcq7",
        "colab_type": "text"
      },
      "source": [
        "Now use the hashing vectorizer to do the same."
      ]
    },
    {
      "cell_type": "code",
      "metadata": {
        "deletable": false,
        "nbgrader": {
          "cell_type": "code",
          "checksum": "7dcaa4ad0f713ed4155a48876ec8b41b",
          "grade": false,
          "grade_id": "cell-2ad00d9b9df56ed5",
          "locked": false,
          "schema_version": 3,
          "solution": true
        },
        "id": "A6yW5dJkmcq9",
        "colab_type": "code",
        "colab": {
          "base_uri": "https://localhost:8080/",
          "height": 52
        },
        "outputId": "873bf6fc-5c4e-4442-cc14-c34746a9bf84"
      },
      "source": [
        "%%time \n",
        "# Use English stopwords and produce a Hashed vector representation for the data using up to trigrams\n",
        "# Save the vectorizer as hasher and the transformed data as X_train_hash, and X_test_hash\n",
        "# Make sure you set alternate_sign to False so we can use this representation with Multinomial Naive Bayes\n",
        "hasher = HashingVectorizer(stop_words = \"english\", ngram_range = (1,3), alternate_sign = False).fit(X_train, y_train)\n",
        "X_train_hash = hasher.fit_transform(X_train)\n",
        "X_test_hash = hasher.fit_transform(X_test)\n",
        "\n"
      ],
      "execution_count": 85,
      "outputs": [
        {
          "output_type": "stream",
          "text": [
            "CPU times: user 7.07 s, sys: 2.94 ms, total: 7.08 s\n",
            "Wall time: 7.09 s\n"
          ],
          "name": "stdout"
        }
      ]
    },
    {
      "cell_type": "code",
      "metadata": {
        "deletable": false,
        "editable": false,
        "nbgrader": {
          "cell_type": "code",
          "checksum": "5fee5c79f5236e12894fdf52279d3f9a",
          "grade": true,
          "grade_id": "cell-f6a5afb5d4f0a4d9",
          "locked": true,
          "points": 5,
          "schema_version": 3,
          "solution": false
        },
        "id": "k-zO-uhpmcrB",
        "colab_type": "code",
        "colab": {}
      },
      "source": [
        "assert hasher\n",
        "assert hasher.stop_words == \"english\"\n",
        "assert hasher.ngram_range == (1,3)\n",
        "assert X_train_hash.shape == (14134, 1048576)\n",
        "assert X_test_hash.shape == (4712, 1048576)"
      ],
      "execution_count": 0,
      "outputs": []
    },
    {
      "cell_type": "markdown",
      "metadata": {
        "deletable": false,
        "editable": false,
        "nbgrader": {
          "cell_type": "markdown",
          "checksum": "2c7c128b56ddb4e69ecac2078a7fa5a0",
          "grade": false,
          "grade_id": "cell-f81192642c9b9950",
          "locked": true,
          "schema_version": 3,
          "solution": false
        },
        "id": "pnI_2vitmcrG",
        "colab_type": "text"
      },
      "source": [
        "Compare the time it took to run the count vectorizer vs the hashing vectorizer even though they both will iterate through all the words."
      ]
    },
    {
      "cell_type": "markdown",
      "metadata": {
        "deletable": false,
        "editable": false,
        "nbgrader": {
          "cell_type": "markdown",
          "checksum": "e5d5d7774aecfc0c87da6a25ef08d25d",
          "grade": false,
          "grade_id": "cell-279d25a3bcd86cf6",
          "locked": true,
          "schema_version": 3,
          "solution": false
        },
        "id": "V84pu4xMmcrH",
        "colab_type": "text"
      },
      "source": [
        "Now recall [Naive Bayes Classification](http://scikit-learn.org/stable/modules/naive_bayes.html) which we discussed early on in the supervised learning lectures. We will use Naive Bayes classifiers to predict the topic of the articles and compare our feature representations. Use a Multinomial Naive Bayes classifier to predict the topics."
      ]
    },
    {
      "cell_type": "code",
      "metadata": {
        "deletable": false,
        "nbgrader": {
          "cell_type": "code",
          "checksum": "e5257b0ce184bcaec3437d5f17b374a3",
          "grade": false,
          "grade_id": "cell-cdf5ba26c387fd97",
          "locked": false,
          "schema_version": 3,
          "solution": true
        },
        "id": "Xhe96teUmcrK",
        "colab_type": "code",
        "colab": {
          "base_uri": "https://localhost:8080/",
          "height": 1000
        },
        "outputId": "79d2621b-dea4-45ff-8796-f45a65551a57"
      },
      "source": [
        "for feat_name, train_feat, test_feat in zip([\"Bag of Words\", \"TF-IDF\", \"Hashing\"],[X_train_bow, X_train_tfidf, X_train_hash], [X_test_bow, X_test_tfidf, X_test_hash]):\n",
        "    # Create a Multinomial Naive Bayes model saved to `mnb` and fit it to train_feat\n",
        "    # YOUR CODE HERE\n",
        "    mnb = MultinomialNB()\n",
        "    mnb.fit(train_feat, y_train)\n",
        "    y_pred = mnb.predict(test_feat)\n",
        "    print(f\"Results for {feat_name}\")\n",
        "    print(\"-\"*80)\n",
        "    print(classification_report(y_test, y_pred))\n",
        "    print(\"-\"*80)\n"
      ],
      "execution_count": 89,
      "outputs": [
        {
          "output_type": "stream",
          "text": [
            "Results for Bag of Words\n",
            "--------------------------------------------------------------------------------\n",
            "              precision    recall  f1-score   support\n",
            "\n",
            "           0       0.91      0.94      0.92       205\n",
            "           1       0.78      0.87      0.82       245\n",
            "           2       0.92      0.76      0.83       250\n",
            "           3       0.77      0.83      0.80       243\n",
            "           4       0.89      0.85      0.87       255\n",
            "           5       0.84      0.91      0.88       240\n",
            "           6       0.90      0.75      0.82       249\n",
            "           7       0.89      0.90      0.89       219\n",
            "           8       0.96      0.91      0.94       246\n",
            "           9       0.92      0.97      0.94       227\n",
            "          10       0.96      0.98      0.97       287\n",
            "          11       0.88      0.97      0.92       234\n",
            "          12       0.93      0.82      0.87       247\n",
            "          13       0.93      0.92      0.93       250\n",
            "          14       0.90      0.96      0.93       240\n",
            "          15       0.93      0.95      0.94       250\n",
            "          16       0.90      0.98      0.93       211\n",
            "          17       0.94      1.00      0.96       246\n",
            "          18       0.93      0.92      0.93       209\n",
            "          19       0.93      0.72      0.81       159\n",
            "\n",
            "    accuracy                           0.90      4712\n",
            "   macro avg       0.90      0.90      0.90      4712\n",
            "weighted avg       0.90      0.90      0.90      4712\n",
            "\n",
            "--------------------------------------------------------------------------------\n",
            "Results for TF-IDF\n",
            "--------------------------------------------------------------------------------\n",
            "              precision    recall  f1-score   support\n",
            "\n",
            "           0       0.88      0.91      0.89       205\n",
            "           1       0.83      0.81      0.82       245\n",
            "           2       0.85      0.84      0.84       250\n",
            "           3       0.76      0.84      0.80       243\n",
            "           4       0.89      0.83      0.86       255\n",
            "           5       0.88      0.89      0.88       240\n",
            "           6       0.86      0.76      0.81       249\n",
            "           7       0.81      0.88      0.84       219\n",
            "           8       0.93      0.92      0.92       246\n",
            "           9       0.87      0.97      0.91       227\n",
            "          10       0.92      0.97      0.95       287\n",
            "          11       0.87      0.97      0.92       234\n",
            "          12       0.92      0.80      0.85       247\n",
            "          13       0.96      0.88      0.92       250\n",
            "          14       0.87      0.96      0.91       240\n",
            "          15       0.78      0.94      0.85       250\n",
            "          16       0.83      0.98      0.90       211\n",
            "          17       0.95      0.99      0.97       246\n",
            "          18       0.99      0.77      0.86       209\n",
            "          19       0.92      0.41      0.57       159\n",
            "\n",
            "    accuracy                           0.87      4712\n",
            "   macro avg       0.88      0.87      0.86      4712\n",
            "weighted avg       0.88      0.87      0.87      4712\n",
            "\n",
            "--------------------------------------------------------------------------------\n",
            "Results for Hashing\n",
            "--------------------------------------------------------------------------------\n",
            "              precision    recall  f1-score   support\n",
            "\n",
            "           0       0.87      0.87      0.87       205\n",
            "           1       0.78      0.80      0.79       245\n",
            "           2       0.84      0.80      0.82       250\n",
            "           3       0.71      0.82      0.76       243\n",
            "           4       0.91      0.80      0.85       255\n",
            "           5       0.88      0.86      0.87       240\n",
            "           6       0.85      0.78      0.81       249\n",
            "           7       0.82      0.89      0.85       219\n",
            "           8       0.89      0.91      0.90       246\n",
            "           9       0.82      0.96      0.88       227\n",
            "          10       0.93      0.95      0.94       287\n",
            "          11       0.83      0.97      0.90       234\n",
            "          12       0.90      0.77      0.83       247\n",
            "          13       0.95      0.86      0.91       250\n",
            "          14       0.86      0.97      0.91       240\n",
            "          15       0.75      0.94      0.83       250\n",
            "          16       0.79      0.97      0.87       211\n",
            "          17       0.93      0.98      0.95       246\n",
            "          18       0.99      0.69      0.81       209\n",
            "          19       0.98      0.27      0.42       159\n",
            "\n",
            "    accuracy                           0.85      4712\n",
            "   macro avg       0.86      0.84      0.84      4712\n",
            "weighted avg       0.86      0.85      0.85      4712\n",
            "\n",
            "--------------------------------------------------------------------------------\n"
          ],
          "name": "stdout"
        }
      ]
    },
    {
      "cell_type": "code",
      "metadata": {
        "deletable": false,
        "editable": false,
        "nbgrader": {
          "cell_type": "code",
          "checksum": "c6868948856264f42927eef81e550203",
          "grade": true,
          "grade_id": "cell-b545c8d3793a05e7",
          "locked": true,
          "points": 1,
          "schema_version": 3,
          "solution": false
        },
        "id": "vzgtasAcmcrO",
        "colab_type": "code",
        "colab": {}
      },
      "source": [
        "assert isinstance(mnb, MultinomialNB)"
      ],
      "execution_count": 0,
      "outputs": []
    },
    {
      "cell_type": "markdown",
      "metadata": {
        "deletable": false,
        "editable": false,
        "nbgrader": {
          "cell_type": "markdown",
          "checksum": "0e12e32a8bcd208a60db88b25a2f2ab2",
          "grade": false,
          "grade_id": "cell-f1fb206ff47bb7a6",
          "locked": true,
          "schema_version": 3,
          "solution": false
        },
        "id": "u_hkvQxWmcrU",
        "colab_type": "text"
      },
      "source": [
        "## Learned Embeddings\n",
        "\n",
        "We will use [spacy](https://spacy.io/) for more sophisticated NLP. Make sure you downloaded the english model in the commented code at the top of the notebook before proceeding. It may take some time to download.\n",
        "\n",
        "Spacy allows us to parse text and automatically does the following:\n",
        "- tokenization\n",
        "- lemmatization\n",
        "- sentence splitting\n",
        "- entity recognition\n",
        "- token vector representation\n"
      ]
    },
    {
      "cell_type": "code",
      "metadata": {
        "deletable": false,
        "editable": false,
        "nbgrader": {
          "cell_type": "code",
          "checksum": "2c063a433e96171b19c013141d9aed53",
          "grade": false,
          "grade_id": "cell-bdd9ef5d3e965340",
          "locked": true,
          "schema_version": 3,
          "solution": false
        },
        "id": "XS5xwlN5mcrW",
        "colab_type": "code",
        "colab": {
          "base_uri": "https://localhost:8080/",
          "height": 52
        },
        "outputId": "90268ca8-a131-418c-fe6a-756163a15eaa"
      },
      "source": [
        "%%time\n",
        "nlp = spacy.load(\"en_core_web_md\")"
      ],
      "execution_count": 26,
      "outputs": [
        {
          "output_type": "stream",
          "text": [
            "CPU times: user 19.1 s, sys: 830 ms, total: 19.9 s\n",
            "Wall time: 20.1 s\n"
          ],
          "name": "stdout"
        }
      ]
    },
    {
      "cell_type": "code",
      "metadata": {
        "deletable": false,
        "editable": false,
        "nbgrader": {
          "cell_type": "code",
          "checksum": "dde683a4f8f25f1cf4e3cb04bd092989",
          "grade": false,
          "grade_id": "cell-11e9ffbf2f50c6eb",
          "locked": true,
          "schema_version": 3,
          "solution": false
        },
        "id": "cVDGQJjEmcra",
        "colab_type": "code",
        "colab": {}
      },
      "source": [
        "text = \"This is the first sentence in this test string. The quick brown fox jumps over the lazy dog.\"\n",
        "\n",
        "parsed_text = nlp(text)"
      ],
      "execution_count": 0,
      "outputs": []
    },
    {
      "cell_type": "code",
      "metadata": {
        "deletable": false,
        "editable": false,
        "nbgrader": {
          "cell_type": "code",
          "checksum": "11bf7045ed3934b887d3f3c1edd270bf",
          "grade": false,
          "grade_id": "cell-d4194dd187aa95b1",
          "locked": true,
          "schema_version": 3,
          "solution": false
        },
        "id": "HTCtESCsmcre",
        "colab_type": "code",
        "colab": {
          "base_uri": "https://localhost:8080/",
          "height": 1000
        },
        "outputId": "f65fe210-f06a-4591-c4ad-8d06243b25f3"
      },
      "source": [
        "for sent in parsed_text.sents:\n",
        "    print(f\"Analyzing sentence: {sent}\")\n",
        "    print(f\"Lemmatization: {sent.lemma_}\")\n",
        "    for token in sent:\n",
        "        print(f\"Analyzing token: {token}\")\n",
        "        if token.is_sent_start:\n",
        "            print(\"This token is the first one in the sentence\")\n",
        "        if token.is_stop:\n",
        "            print(\"Stop word\")\n",
        "        else:\n",
        "            print(\"Not stop word\")\n",
        "        print(f\"Entity type: {token.ent_type_}\")\n",
        "        print(f\"Part of speech: {token.pos_}\")\n",
        "        print(f\"Lemma: {token.lemma_}\")\n",
        "        print(\"-\"*10)\n",
        "    print(\"-\"*50)"
      ],
      "execution_count": 28,
      "outputs": [
        {
          "output_type": "stream",
          "text": [
            "Analyzing sentence: This is the first sentence in this test string.\n",
            "Lemmatization: this be the first sentence in this test string .\n",
            "Analyzing token: This\n",
            "This token is the first one in the sentence\n",
            "Stop word\n",
            "Entity type: \n",
            "Part of speech: DET\n",
            "Lemma: this\n",
            "----------\n",
            "Analyzing token: is\n",
            "Stop word\n",
            "Entity type: \n",
            "Part of speech: VERB\n",
            "Lemma: be\n",
            "----------\n",
            "Analyzing token: the\n",
            "Stop word\n",
            "Entity type: \n",
            "Part of speech: DET\n",
            "Lemma: the\n",
            "----------\n",
            "Analyzing token: first\n",
            "Stop word\n",
            "Entity type: ORDINAL\n",
            "Part of speech: ADJ\n",
            "Lemma: first\n",
            "----------\n",
            "Analyzing token: sentence\n",
            "Not stop word\n",
            "Entity type: \n",
            "Part of speech: NOUN\n",
            "Lemma: sentence\n",
            "----------\n",
            "Analyzing token: in\n",
            "Stop word\n",
            "Entity type: \n",
            "Part of speech: ADP\n",
            "Lemma: in\n",
            "----------\n",
            "Analyzing token: this\n",
            "Stop word\n",
            "Entity type: \n",
            "Part of speech: DET\n",
            "Lemma: this\n",
            "----------\n",
            "Analyzing token: test\n",
            "Not stop word\n",
            "Entity type: \n",
            "Part of speech: NOUN\n",
            "Lemma: test\n",
            "----------\n",
            "Analyzing token: string\n",
            "Not stop word\n",
            "Entity type: \n",
            "Part of speech: NOUN\n",
            "Lemma: string\n",
            "----------\n",
            "Analyzing token: .\n",
            "Not stop word\n",
            "Entity type: \n",
            "Part of speech: PUNCT\n",
            "Lemma: .\n",
            "----------\n",
            "--------------------------------------------------\n",
            "Analyzing sentence: The quick brown fox jumps over the lazy dog.\n",
            "Lemmatization: the quick brown fox jump over the lazy dog .\n",
            "Analyzing token: The\n",
            "This token is the first one in the sentence\n",
            "Stop word\n",
            "Entity type: \n",
            "Part of speech: DET\n",
            "Lemma: the\n",
            "----------\n",
            "Analyzing token: quick\n",
            "Not stop word\n",
            "Entity type: \n",
            "Part of speech: ADJ\n",
            "Lemma: quick\n",
            "----------\n",
            "Analyzing token: brown\n",
            "Not stop word\n",
            "Entity type: \n",
            "Part of speech: ADJ\n",
            "Lemma: brown\n",
            "----------\n",
            "Analyzing token: fox\n",
            "Not stop word\n",
            "Entity type: \n",
            "Part of speech: NOUN\n",
            "Lemma: fox\n",
            "----------\n",
            "Analyzing token: jumps\n",
            "Not stop word\n",
            "Entity type: \n",
            "Part of speech: VERB\n",
            "Lemma: jump\n",
            "----------\n",
            "Analyzing token: over\n",
            "Stop word\n",
            "Entity type: \n",
            "Part of speech: ADP\n",
            "Lemma: over\n",
            "----------\n",
            "Analyzing token: the\n",
            "Stop word\n",
            "Entity type: \n",
            "Part of speech: DET\n",
            "Lemma: the\n",
            "----------\n",
            "Analyzing token: lazy\n",
            "Not stop word\n",
            "Entity type: \n",
            "Part of speech: ADJ\n",
            "Lemma: lazy\n",
            "----------\n",
            "Analyzing token: dog\n",
            "Not stop word\n",
            "Entity type: \n",
            "Part of speech: NOUN\n",
            "Lemma: dog\n",
            "----------\n",
            "Analyzing token: .\n",
            "Not stop word\n",
            "Entity type: \n",
            "Part of speech: PUNCT\n",
            "Lemma: .\n",
            "----------\n",
            "--------------------------------------------------\n"
          ],
          "name": "stdout"
        }
      ]
    },
    {
      "cell_type": "code",
      "metadata": {
        "deletable": false,
        "nbgrader": {
          "cell_type": "code",
          "checksum": "778289b88c9003cc27f7839543106eb6",
          "grade": false,
          "grade_id": "cell-a1f85ff1f2b6b116",
          "locked": false,
          "schema_version": 3,
          "solution": true
        },
        "id": "YIL36n5Hmcri",
        "colab_type": "code",
        "colab": {}
      },
      "source": [
        "### Come up with a couple sentences to test out and set the text to my_text\n",
        "### You can go to your favorite website or news source and copy a paragraph from there\n",
        "\n",
        "my_text = \"An apple is a sweet, edible fruit produced by an apple tree (Malus domestica). Apple trees are cultivated worldwide and are the most widely grown species in the genus Malus. The tree originated in Central Asia, where its wild ancestor, Malus sieversii, is still found today. Apples have been grown for thousands of years in Asia and Europe and were brought to North America by European colonists. Apples have religious and mythological significance in many cultures, including Norse, Greek and European Christian traditions.\""
      ],
      "execution_count": 0,
      "outputs": []
    },
    {
      "cell_type": "code",
      "metadata": {
        "deletable": false,
        "editable": false,
        "nbgrader": {
          "cell_type": "code",
          "checksum": "aadee940b59935acd80563ce3c6b248e",
          "grade": true,
          "grade_id": "cell-dd4c284f3101e2e6",
          "locked": true,
          "points": 1,
          "schema_version": 3,
          "solution": false
        },
        "id": "3NaAIFHBmcro",
        "colab_type": "code",
        "colab": {}
      },
      "source": [
        "assert len(my_text) > 10\n",
        "assert my_text.count(\".\") > 2"
      ],
      "execution_count": 0,
      "outputs": []
    },
    {
      "cell_type": "code",
      "metadata": {
        "deletable": false,
        "editable": false,
        "nbgrader": {
          "cell_type": "code",
          "checksum": "f6193aa815fad57f5db9423bdb6d8b34",
          "grade": false,
          "grade_id": "cell-fd7fed9c7e3903f4",
          "locked": true,
          "schema_version": 3,
          "solution": false
        },
        "id": "9eaJ8839mcrr",
        "colab_type": "code",
        "colab": {
          "base_uri": "https://localhost:8080/",
          "height": 1000
        },
        "outputId": "a5be61d6-ce21-44fe-ab02-6c3534dea797"
      },
      "source": [
        "parsed = nlp(my_text)\n",
        "for sent in parsed.sents:\n",
        "    print(f\"Analyzing sentence: {sent}\")\n",
        "    print(f\"Lemmatization: {sent.lemma_}\")\n",
        "    for token in sent:\n",
        "        print(f\"Analyzing token: {token}\")\n",
        "        if token.is_sent_start:\n",
        "            print(\"This token is the first one in the sentence\")\n",
        "        if token.is_stop:\n",
        "            print(\"Stop word\")\n",
        "        else:\n",
        "            print(\"Not stop word\")\n",
        "        print(f\"Entity type: {token.ent_type_}\")\n",
        "        print(f\"Part of speech: {token.pos_}\")\n",
        "        print(f\"Lemma: {token.lemma_}\")\n",
        "        print(\"-\"*10)\n",
        "    print(\"-\"*50)"
      ],
      "execution_count": 31,
      "outputs": [
        {
          "output_type": "stream",
          "text": [
            "Analyzing sentence: An apple is a sweet, edible fruit produced by an apple tree (Malus domestica).\n",
            "Lemmatization: an apple be a sweet , edible fruit produce by an apple tree ( Malus domestica ) .\n",
            "Analyzing token: An\n",
            "This token is the first one in the sentence\n",
            "Stop word\n",
            "Entity type: \n",
            "Part of speech: DET\n",
            "Lemma: an\n",
            "----------\n",
            "Analyzing token: apple\n",
            "Not stop word\n",
            "Entity type: \n",
            "Part of speech: NOUN\n",
            "Lemma: apple\n",
            "----------\n",
            "Analyzing token: is\n",
            "Stop word\n",
            "Entity type: \n",
            "Part of speech: VERB\n",
            "Lemma: be\n",
            "----------\n",
            "Analyzing token: a\n",
            "Stop word\n",
            "Entity type: \n",
            "Part of speech: DET\n",
            "Lemma: a\n",
            "----------\n",
            "Analyzing token: sweet\n",
            "Not stop word\n",
            "Entity type: \n",
            "Part of speech: ADJ\n",
            "Lemma: sweet\n",
            "----------\n",
            "Analyzing token: ,\n",
            "Not stop word\n",
            "Entity type: \n",
            "Part of speech: PUNCT\n",
            "Lemma: ,\n",
            "----------\n",
            "Analyzing token: edible\n",
            "Not stop word\n",
            "Entity type: \n",
            "Part of speech: ADJ\n",
            "Lemma: edible\n",
            "----------\n",
            "Analyzing token: fruit\n",
            "Not stop word\n",
            "Entity type: \n",
            "Part of speech: NOUN\n",
            "Lemma: fruit\n",
            "----------\n",
            "Analyzing token: produced\n",
            "Not stop word\n",
            "Entity type: \n",
            "Part of speech: VERB\n",
            "Lemma: produce\n",
            "----------\n",
            "Analyzing token: by\n",
            "Stop word\n",
            "Entity type: \n",
            "Part of speech: ADP\n",
            "Lemma: by\n",
            "----------\n",
            "Analyzing token: an\n",
            "Stop word\n",
            "Entity type: \n",
            "Part of speech: DET\n",
            "Lemma: an\n",
            "----------\n",
            "Analyzing token: apple\n",
            "Not stop word\n",
            "Entity type: \n",
            "Part of speech: NOUN\n",
            "Lemma: apple\n",
            "----------\n",
            "Analyzing token: tree\n",
            "Not stop word\n",
            "Entity type: \n",
            "Part of speech: NOUN\n",
            "Lemma: tree\n",
            "----------\n",
            "Analyzing token: (\n",
            "Not stop word\n",
            "Entity type: \n",
            "Part of speech: PUNCT\n",
            "Lemma: (\n",
            "----------\n",
            "Analyzing token: Malus\n",
            "Not stop word\n",
            "Entity type: \n",
            "Part of speech: PROPN\n",
            "Lemma: Malus\n",
            "----------\n",
            "Analyzing token: domestica\n",
            "Not stop word\n",
            "Entity type: \n",
            "Part of speech: PROPN\n",
            "Lemma: domestica\n",
            "----------\n",
            "Analyzing token: )\n",
            "Not stop word\n",
            "Entity type: \n",
            "Part of speech: PUNCT\n",
            "Lemma: )\n",
            "----------\n",
            "Analyzing token: .\n",
            "Not stop word\n",
            "Entity type: \n",
            "Part of speech: PUNCT\n",
            "Lemma: .\n",
            "----------\n",
            "--------------------------------------------------\n",
            "Analyzing sentence: Apple trees are cultivated worldwide and are the most widely grown species in the genus Malus.\n",
            "Lemmatization: Apple tree be cultivate worldwide and be the most widely grow specie in the genus Malus .\n",
            "Analyzing token: Apple\n",
            "This token is the first one in the sentence\n",
            "Not stop word\n",
            "Entity type: \n",
            "Part of speech: PROPN\n",
            "Lemma: Apple\n",
            "----------\n",
            "Analyzing token: trees\n",
            "Not stop word\n",
            "Entity type: \n",
            "Part of speech: NOUN\n",
            "Lemma: tree\n",
            "----------\n",
            "Analyzing token: are\n",
            "Stop word\n",
            "Entity type: \n",
            "Part of speech: VERB\n",
            "Lemma: be\n",
            "----------\n",
            "Analyzing token: cultivated\n",
            "Not stop word\n",
            "Entity type: \n",
            "Part of speech: VERB\n",
            "Lemma: cultivate\n",
            "----------\n",
            "Analyzing token: worldwide\n",
            "Not stop word\n",
            "Entity type: \n",
            "Part of speech: ADV\n",
            "Lemma: worldwide\n",
            "----------\n",
            "Analyzing token: and\n",
            "Stop word\n",
            "Entity type: \n",
            "Part of speech: CCONJ\n",
            "Lemma: and\n",
            "----------\n",
            "Analyzing token: are\n",
            "Stop word\n",
            "Entity type: \n",
            "Part of speech: VERB\n",
            "Lemma: be\n",
            "----------\n",
            "Analyzing token: the\n",
            "Stop word\n",
            "Entity type: \n",
            "Part of speech: DET\n",
            "Lemma: the\n",
            "----------\n",
            "Analyzing token: most\n",
            "Stop word\n",
            "Entity type: \n",
            "Part of speech: ADV\n",
            "Lemma: most\n",
            "----------\n",
            "Analyzing token: widely\n",
            "Not stop word\n",
            "Entity type: \n",
            "Part of speech: ADV\n",
            "Lemma: widely\n",
            "----------\n",
            "Analyzing token: grown\n",
            "Not stop word\n",
            "Entity type: \n",
            "Part of speech: VERB\n",
            "Lemma: grow\n",
            "----------\n",
            "Analyzing token: species\n",
            "Not stop word\n",
            "Entity type: \n",
            "Part of speech: NOUN\n",
            "Lemma: specie\n",
            "----------\n",
            "Analyzing token: in\n",
            "Stop word\n",
            "Entity type: \n",
            "Part of speech: ADP\n",
            "Lemma: in\n",
            "----------\n",
            "Analyzing token: the\n",
            "Stop word\n",
            "Entity type: \n",
            "Part of speech: DET\n",
            "Lemma: the\n",
            "----------\n",
            "Analyzing token: genus\n",
            "Not stop word\n",
            "Entity type: \n",
            "Part of speech: ADJ\n",
            "Lemma: genus\n",
            "----------\n",
            "Analyzing token: Malus\n",
            "Not stop word\n",
            "Entity type: ORG\n",
            "Part of speech: PROPN\n",
            "Lemma: Malus\n",
            "----------\n",
            "Analyzing token: .\n",
            "Not stop word\n",
            "Entity type: \n",
            "Part of speech: PUNCT\n",
            "Lemma: .\n",
            "----------\n",
            "--------------------------------------------------\n",
            "Analyzing sentence: The tree originated in Central Asia, where its wild ancestor, Malus sieversii, is still found today.\n",
            "Lemmatization: the tree originate in Central Asia , where -PRON- wild ancestor , Malus sieversii , be still find today .\n",
            "Analyzing token: The\n",
            "This token is the first one in the sentence\n",
            "Stop word\n",
            "Entity type: \n",
            "Part of speech: DET\n",
            "Lemma: the\n",
            "----------\n",
            "Analyzing token: tree\n",
            "Not stop word\n",
            "Entity type: \n",
            "Part of speech: NOUN\n",
            "Lemma: tree\n",
            "----------\n",
            "Analyzing token: originated\n",
            "Not stop word\n",
            "Entity type: \n",
            "Part of speech: VERB\n",
            "Lemma: originate\n",
            "----------\n",
            "Analyzing token: in\n",
            "Stop word\n",
            "Entity type: \n",
            "Part of speech: ADP\n",
            "Lemma: in\n",
            "----------\n",
            "Analyzing token: Central\n",
            "Not stop word\n",
            "Entity type: LOC\n",
            "Part of speech: PROPN\n",
            "Lemma: Central\n",
            "----------\n",
            "Analyzing token: Asia\n",
            "Not stop word\n",
            "Entity type: LOC\n",
            "Part of speech: PROPN\n",
            "Lemma: Asia\n",
            "----------\n",
            "Analyzing token: ,\n",
            "Not stop word\n",
            "Entity type: \n",
            "Part of speech: PUNCT\n",
            "Lemma: ,\n",
            "----------\n",
            "Analyzing token: where\n",
            "Stop word\n",
            "Entity type: \n",
            "Part of speech: ADV\n",
            "Lemma: where\n",
            "----------\n",
            "Analyzing token: its\n",
            "Stop word\n",
            "Entity type: \n",
            "Part of speech: DET\n",
            "Lemma: -PRON-\n",
            "----------\n",
            "Analyzing token: wild\n",
            "Not stop word\n",
            "Entity type: \n",
            "Part of speech: ADJ\n",
            "Lemma: wild\n",
            "----------\n",
            "Analyzing token: ancestor\n",
            "Not stop word\n",
            "Entity type: \n",
            "Part of speech: NOUN\n",
            "Lemma: ancestor\n",
            "----------\n",
            "Analyzing token: ,\n",
            "Not stop word\n",
            "Entity type: \n",
            "Part of speech: PUNCT\n",
            "Lemma: ,\n",
            "----------\n",
            "Analyzing token: Malus\n",
            "Not stop word\n",
            "Entity type: \n",
            "Part of speech: PROPN\n",
            "Lemma: Malus\n",
            "----------\n",
            "Analyzing token: sieversii\n",
            "Not stop word\n",
            "Entity type: \n",
            "Part of speech: NOUN\n",
            "Lemma: sieversii\n",
            "----------\n",
            "Analyzing token: ,\n",
            "Not stop word\n",
            "Entity type: \n",
            "Part of speech: PUNCT\n",
            "Lemma: ,\n",
            "----------\n",
            "Analyzing token: is\n",
            "Stop word\n",
            "Entity type: \n",
            "Part of speech: VERB\n",
            "Lemma: be\n",
            "----------\n",
            "Analyzing token: still\n",
            "Stop word\n",
            "Entity type: \n",
            "Part of speech: ADV\n",
            "Lemma: still\n",
            "----------\n",
            "Analyzing token: found\n",
            "Not stop word\n",
            "Entity type: \n",
            "Part of speech: VERB\n",
            "Lemma: find\n",
            "----------\n",
            "Analyzing token: today\n",
            "Not stop word\n",
            "Entity type: DATE\n",
            "Part of speech: NOUN\n",
            "Lemma: today\n",
            "----------\n",
            "Analyzing token: .\n",
            "Not stop word\n",
            "Entity type: \n",
            "Part of speech: PUNCT\n",
            "Lemma: .\n",
            "----------\n",
            "--------------------------------------------------\n",
            "Analyzing sentence: Apples have been grown for thousands of years in Asia and Europe and were brought to North America by European colonists.\n",
            "Lemmatization: apple have be grow for thousand of year in Asia and Europe and be bring to North America by european colonist .\n",
            "Analyzing token: Apples\n",
            "This token is the first one in the sentence\n",
            "Not stop word\n",
            "Entity type: \n",
            "Part of speech: NOUN\n",
            "Lemma: apple\n",
            "----------\n",
            "Analyzing token: have\n",
            "Stop word\n",
            "Entity type: \n",
            "Part of speech: VERB\n",
            "Lemma: have\n",
            "----------\n",
            "Analyzing token: been\n",
            "Stop word\n",
            "Entity type: \n",
            "Part of speech: VERB\n",
            "Lemma: be\n",
            "----------\n",
            "Analyzing token: grown\n",
            "Not stop word\n",
            "Entity type: \n",
            "Part of speech: VERB\n",
            "Lemma: grow\n",
            "----------\n",
            "Analyzing token: for\n",
            "Stop word\n",
            "Entity type: \n",
            "Part of speech: ADP\n",
            "Lemma: for\n",
            "----------\n",
            "Analyzing token: thousands\n",
            "Not stop word\n",
            "Entity type: DATE\n",
            "Part of speech: NOUN\n",
            "Lemma: thousand\n",
            "----------\n",
            "Analyzing token: of\n",
            "Stop word\n",
            "Entity type: DATE\n",
            "Part of speech: ADP\n",
            "Lemma: of\n",
            "----------\n",
            "Analyzing token: years\n",
            "Not stop word\n",
            "Entity type: DATE\n",
            "Part of speech: NOUN\n",
            "Lemma: year\n",
            "----------\n",
            "Analyzing token: in\n",
            "Stop word\n",
            "Entity type: \n",
            "Part of speech: ADP\n",
            "Lemma: in\n",
            "----------\n",
            "Analyzing token: Asia\n",
            "Not stop word\n",
            "Entity type: LOC\n",
            "Part of speech: PROPN\n",
            "Lemma: Asia\n",
            "----------\n",
            "Analyzing token: and\n",
            "Stop word\n",
            "Entity type: \n",
            "Part of speech: CCONJ\n",
            "Lemma: and\n",
            "----------\n",
            "Analyzing token: Europe\n",
            "Not stop word\n",
            "Entity type: LOC\n",
            "Part of speech: PROPN\n",
            "Lemma: Europe\n",
            "----------\n",
            "Analyzing token: and\n",
            "Stop word\n",
            "Entity type: \n",
            "Part of speech: CCONJ\n",
            "Lemma: and\n",
            "----------\n",
            "Analyzing token: were\n",
            "Stop word\n",
            "Entity type: \n",
            "Part of speech: VERB\n",
            "Lemma: be\n",
            "----------\n",
            "Analyzing token: brought\n",
            "Not stop word\n",
            "Entity type: \n",
            "Part of speech: VERB\n",
            "Lemma: bring\n",
            "----------\n",
            "Analyzing token: to\n",
            "Stop word\n",
            "Entity type: \n",
            "Part of speech: ADP\n",
            "Lemma: to\n",
            "----------\n",
            "Analyzing token: North\n",
            "Not stop word\n",
            "Entity type: LOC\n",
            "Part of speech: PROPN\n",
            "Lemma: North\n",
            "----------\n",
            "Analyzing token: America\n",
            "Not stop word\n",
            "Entity type: LOC\n",
            "Part of speech: PROPN\n",
            "Lemma: America\n",
            "----------\n",
            "Analyzing token: by\n",
            "Stop word\n",
            "Entity type: \n",
            "Part of speech: ADP\n",
            "Lemma: by\n",
            "----------\n",
            "Analyzing token: European\n",
            "Not stop word\n",
            "Entity type: NORP\n",
            "Part of speech: ADJ\n",
            "Lemma: european\n",
            "----------\n",
            "Analyzing token: colonists\n",
            "Not stop word\n",
            "Entity type: \n",
            "Part of speech: NOUN\n",
            "Lemma: colonist\n",
            "----------\n",
            "Analyzing token: .\n",
            "Not stop word\n",
            "Entity type: \n",
            "Part of speech: PUNCT\n",
            "Lemma: .\n",
            "----------\n",
            "--------------------------------------------------\n",
            "Analyzing sentence: Apples have religious and mythological significance in many cultures, including Norse, Greek and European Christian traditions.\n",
            "Lemmatization: apple have religious and mythological significance in many culture , include Norse , greek and european christian tradition .\n",
            "Analyzing token: Apples\n",
            "This token is the first one in the sentence\n",
            "Not stop word\n",
            "Entity type: \n",
            "Part of speech: NOUN\n",
            "Lemma: apple\n",
            "----------\n",
            "Analyzing token: have\n",
            "Stop word\n",
            "Entity type: \n",
            "Part of speech: VERB\n",
            "Lemma: have\n",
            "----------\n",
            "Analyzing token: religious\n",
            "Not stop word\n",
            "Entity type: \n",
            "Part of speech: ADJ\n",
            "Lemma: religious\n",
            "----------\n",
            "Analyzing token: and\n",
            "Stop word\n",
            "Entity type: \n",
            "Part of speech: CCONJ\n",
            "Lemma: and\n",
            "----------\n",
            "Analyzing token: mythological\n",
            "Not stop word\n",
            "Entity type: \n",
            "Part of speech: ADJ\n",
            "Lemma: mythological\n",
            "----------\n",
            "Analyzing token: significance\n",
            "Not stop word\n",
            "Entity type: \n",
            "Part of speech: NOUN\n",
            "Lemma: significance\n",
            "----------\n",
            "Analyzing token: in\n",
            "Stop word\n",
            "Entity type: \n",
            "Part of speech: ADP\n",
            "Lemma: in\n",
            "----------\n",
            "Analyzing token: many\n",
            "Stop word\n",
            "Entity type: \n",
            "Part of speech: ADJ\n",
            "Lemma: many\n",
            "----------\n",
            "Analyzing token: cultures\n",
            "Not stop word\n",
            "Entity type: \n",
            "Part of speech: NOUN\n",
            "Lemma: culture\n",
            "----------\n",
            "Analyzing token: ,\n",
            "Not stop word\n",
            "Entity type: \n",
            "Part of speech: PUNCT\n",
            "Lemma: ,\n",
            "----------\n",
            "Analyzing token: including\n",
            "Not stop word\n",
            "Entity type: \n",
            "Part of speech: VERB\n",
            "Lemma: include\n",
            "----------\n",
            "Analyzing token: Norse\n",
            "Not stop word\n",
            "Entity type: NORP\n",
            "Part of speech: PROPN\n",
            "Lemma: Norse\n",
            "----------\n",
            "Analyzing token: ,\n",
            "Not stop word\n",
            "Entity type: \n",
            "Part of speech: PUNCT\n",
            "Lemma: ,\n",
            "----------\n",
            "Analyzing token: Greek\n",
            "Not stop word\n",
            "Entity type: NORP\n",
            "Part of speech: ADJ\n",
            "Lemma: greek\n",
            "----------\n",
            "Analyzing token: and\n",
            "Stop word\n",
            "Entity type: \n",
            "Part of speech: CCONJ\n",
            "Lemma: and\n",
            "----------\n",
            "Analyzing token: European\n",
            "Not stop word\n",
            "Entity type: NORP\n",
            "Part of speech: ADJ\n",
            "Lemma: european\n",
            "----------\n",
            "Analyzing token: Christian\n",
            "Not stop word\n",
            "Entity type: NORP\n",
            "Part of speech: ADJ\n",
            "Lemma: christian\n",
            "----------\n",
            "Analyzing token: traditions\n",
            "Not stop word\n",
            "Entity type: \n",
            "Part of speech: NOUN\n",
            "Lemma: tradition\n",
            "----------\n",
            "Analyzing token: .\n",
            "Not stop word\n",
            "Entity type: \n",
            "Part of speech: PUNCT\n",
            "Lemma: .\n",
            "----------\n",
            "--------------------------------------------------\n"
          ],
          "name": "stdout"
        }
      ]
    },
    {
      "cell_type": "markdown",
      "metadata": {
        "deletable": false,
        "editable": false,
        "nbgrader": {
          "cell_type": "markdown",
          "checksum": "a200a636496b7c4b0a02f61e4ac84a2f",
          "grade": false,
          "grade_id": "cell-1a2a413b9c440b95",
          "locked": true,
          "schema_version": 3,
          "solution": false
        },
        "id": "JHKTSLZ1mcrw",
        "colab_type": "text"
      },
      "source": [
        "If we use the larger spacy models, we get the GloVe representation for some words based on a pre-trained model. The GloVe vectors should be in 300 dimensions."
      ]
    },
    {
      "cell_type": "code",
      "metadata": {
        "deletable": false,
        "editable": false,
        "nbgrader": {
          "cell_type": "code",
          "checksum": "9853f2d7bb9c9bac25000cc1c59d98c9",
          "grade": false,
          "grade_id": "cell-da272ac031f8d791",
          "locked": true,
          "schema_version": 3,
          "solution": false
        },
        "id": "kSq4gepJmcry",
        "colab_type": "code",
        "colab": {
          "base_uri": "https://localhost:8080/",
          "height": 903
        },
        "outputId": "f2318cb2-7145-4aac-903f-1e7ce5c897ae"
      },
      "source": [
        "print(token.vector)\n",
        "token.vector.shape"
      ],
      "execution_count": 32,
      "outputs": [
        {
          "output_type": "stream",
          "text": [
            "[ 0.012001   0.20751   -0.12578   -0.59325    0.12525    0.15975\n",
            "  0.13748   -0.33157   -0.13694    1.7893    -0.47094    0.70434\n",
            "  0.26673   -0.089961  -0.18168    0.067226   0.053347   1.5595\n",
            " -0.2541     0.038413  -0.01409    0.056774   0.023434   0.024042\n",
            "  0.31703    0.19025   -0.37505    0.035603   0.1181     0.012032\n",
            " -0.037566  -0.5046    -0.049261   0.092351   0.11031   -0.073062\n",
            "  0.33994    0.28239    0.13413    0.070128  -0.022099  -0.28103\n",
            "  0.49607   -0.48693   -0.090964  -0.1538    -0.38011   -0.014228\n",
            " -0.19392   -0.11068   -0.014088  -0.17906    0.24509   -0.16878\n",
            " -0.15351   -0.13808    0.02151    0.13699    0.0068061 -0.14915\n",
            " -0.38169    0.12727    0.44007    0.32678   -0.46117    0.068687\n",
            "  0.34747    0.18827   -0.31837    0.4447    -0.2095    -0.26987\n",
            "  0.48945    0.15388    0.05295   -0.049831   0.11207    0.14881\n",
            " -0.37003    0.30777   -0.33865    0.045149  -0.18987    0.26634\n",
            " -0.26401   -0.47556    0.68381   -0.30653    0.24606    0.31611\n",
            " -0.071098   0.030417   0.088119   0.045025   0.20125   -0.21618\n",
            " -0.36371   -0.25948   -0.42398   -0.14305   -0.10208    0.21498\n",
            " -0.21924   -0.17935    0.21546    0.13801    0.24504   -0.2559\n",
            "  0.054815   0.21307    0.2564    -0.25673    0.17961   -0.47638\n",
            " -0.25181   -0.0091498 -0.054362  -0.21007    0.12597   -0.40795\n",
            " -0.021164   0.20585    0.18925   -0.0051896 -0.51394    0.28862\n",
            " -0.077748  -0.27676    0.46567   -0.14225   -0.17879   -0.4357\n",
            " -0.32481    0.15034   -0.058367   0.49652    0.20472    0.019866\n",
            "  0.13326    0.12823   -1.0177     0.29007    0.28995    0.029994\n",
            " -0.10763    0.28665   -0.24387    0.22905   -0.26249   -0.069269\n",
            " -0.17889    0.21936    0.15146    0.04567   -0.050497   0.071482\n",
            " -0.1027    -0.080705   0.30296    0.031302   0.26613   -0.0060951\n",
            "  0.10313   -0.39987   -0.043945  -0.057625   0.08702   -0.098152\n",
            "  0.22835   -0.005211   0.038075   0.01591   -0.20622    0.021853\n",
            "  0.0040426 -0.043063  -0.002294  -0.26097   -0.25802   -0.28158\n",
            " -0.23118   -0.010404  -0.30102   -0.4042     0.014653  -0.10445\n",
            "  0.30377   -0.20957    0.3119     0.068272   0.1008     0.010423\n",
            "  0.54011    0.29865    0.12653    0.013761   0.21738   -0.39521\n",
            "  0.066633   0.50327    0.14913   -0.11554    0.010042   0.095698\n",
            "  0.16607   -0.18808    0.055019   0.026715  -0.3164    -0.046583\n",
            " -0.051591   0.023475  -0.11007    0.085642   0.28394    0.040497\n",
            "  0.071986   0.14157   -0.021199   0.44718    0.20088   -0.12964\n",
            " -0.067183   0.47614    0.13394   -0.17287   -0.37324   -0.17285\n",
            "  0.02683   -0.1316     0.09116   -0.46487    0.1274    -0.090159\n",
            " -0.10552    0.068006  -0.13381    0.17056    0.089509  -0.23133\n",
            " -0.27572    0.061534  -0.051646   0.28377    0.25286   -0.24139\n",
            " -0.19905    0.12049   -0.1011     0.27392    0.27843    0.26449\n",
            " -0.18292   -0.048961   0.19198    0.17192    0.33659   -0.20184\n",
            " -0.34305   -0.24553   -0.15399    0.3945     0.22839   -0.25753\n",
            " -0.25675   -0.37332   -0.23884   -0.048816   0.78323    0.18851\n",
            " -0.26477    0.096566   0.062658  -0.30668   -0.43334    0.10006\n",
            "  0.21136    0.039459  -0.11077    0.24421    0.60942   -0.46646\n",
            "  0.086385  -0.39702   -0.23363    0.021307  -0.10778   -0.2281\n",
            "  0.50803    0.11567    0.16165   -0.066737  -0.29556    0.022612\n",
            " -0.28135    0.0635     0.14019    0.13871   -0.36049   -0.035    ]\n"
          ],
          "name": "stdout"
        },
        {
          "output_type": "execute_result",
          "data": {
            "text/plain": [
              "(300,)"
            ]
          },
          "metadata": {
            "tags": []
          },
          "execution_count": 32
        }
      ]
    },
    {
      "cell_type": "markdown",
      "metadata": {
        "deletable": false,
        "editable": false,
        "nbgrader": {
          "cell_type": "markdown",
          "checksum": "47b0eee7c6be8d8bbc285da281d4f0d8",
          "grade": false,
          "grade_id": "cell-a189f31d66863678",
          "locked": true,
          "schema_version": 3,
          "solution": false
        },
        "id": "WvDnsM7Jmcr1",
        "colab_type": "text"
      },
      "source": [
        "One thing that spaCy allows us to easily do with their vectors is identify the similarity between one word and another. Let's try it out."
      ]
    },
    {
      "cell_type": "code",
      "metadata": {
        "id": "CScHAvY9mcr2",
        "colab_type": "code",
        "colab": {}
      },
      "source": [
        "# Try out different words here and see if the results you get seem reasonable.\n",
        "first_word = \"cat\" \n",
        "second_word = \"dog\""
      ],
      "execution_count": 0,
      "outputs": []
    },
    {
      "cell_type": "code",
      "metadata": {
        "id": "nlYewfh3mcr6",
        "colab_type": "code",
        "colab": {
          "base_uri": "https://localhost:8080/",
          "height": 34
        },
        "outputId": "ee97ff37-8ac8-42fe-f7e3-96b1a0378cd1"
      },
      "source": [
        "print(nlp(first_word).similarity(nlp(second_word)))"
      ],
      "execution_count": 34,
      "outputs": [
        {
          "output_type": "stream",
          "text": [
            "0.8016854705531046\n"
          ],
          "name": "stdout"
        }
      ]
    },
    {
      "cell_type": "markdown",
      "metadata": {
        "deletable": false,
        "editable": false,
        "nbgrader": {
          "cell_type": "markdown",
          "checksum": "3c68c644df1851056a4f8f93cda99494",
          "grade": false,
          "grade_id": "cell-7d1247a2cf60bab3",
          "locked": true,
          "schema_version": 3,
          "solution": false
        },
        "id": "Fb7noyTmmcr-",
        "colab_type": "text"
      },
      "source": [
        "Given that the parsing of text takes some time, we will only consider the first 1000 articles in our data."
      ]
    },
    {
      "cell_type": "code",
      "metadata": {
        "deletable": false,
        "editable": false,
        "nbgrader": {
          "cell_type": "code",
          "checksum": "2d075c5070bd31c803ad35d1e57b88ee",
          "grade": false,
          "grade_id": "cell-65e1d1dbb5567b87",
          "locked": true,
          "schema_version": 3,
          "solution": false
        },
        "id": "B29ig1H9mcsA",
        "colab_type": "code",
        "colab": {}
      },
      "source": [
        "new_X_train, new_X_test, new_y_train, new_y_test = train_test_split(X_train[:1000], y_train[:1000], random_state=0)"
      ],
      "execution_count": 0,
      "outputs": []
    },
    {
      "cell_type": "markdown",
      "metadata": {
        "id": "-6lsg28VmcsF",
        "colab_type": "text"
      },
      "source": [
        "This [tweet](https://twitter.com/_inesmontani/status/1113413036985991170) may be relevant to understanding the most performant ways to use spacy in the future."
      ]
    },
    {
      "cell_type": "code",
      "metadata": {
        "deletable": false,
        "nbgrader": {
          "cell_type": "code",
          "checksum": "79e38d9aca3fab8a8c6796a821c722a6",
          "grade": false,
          "grade_id": "cell-a35e8a4ea5c845f6",
          "locked": false,
          "schema_version": 3,
          "solution": true
        },
        "id": "AM2Gh84TmcsH",
        "colab_type": "code",
        "colab": {
          "base_uri": "https://localhost:8080/",
          "height": 52
        },
        "outputId": "c527ef76-92fe-4bb9-f057-a7961c80c8a6"
      },
      "source": [
        "%%time\n",
        "# Using `nlp` from above, parse every instance of new_X_train\n",
        "# save the document **vectors** to a np.array called X_train_glove\n",
        "# This cell will take a long time to run. \n",
        "# Try changing the number of articles to run this on to just 10 until you pass the asserts\n",
        "# Then change it back to 1000\n",
        "\n",
        "#X_train_glove = np.array(list(nlp.pipe(new_X_train).vector))\n",
        "#X_test_glove = np.array(list(nlp.pipe(new_X_test).vector))\n",
        "\n",
        "X_train_glove = np.array([nlp(text).vector for text in new_X_train])\n",
        "X_test_glove = np.array([nlp(text).vector for text in new_X_test])"
      ],
      "execution_count": 71,
      "outputs": [
        {
          "output_type": "stream",
          "text": [
            "CPU times: user 1min 6s, sys: 435 ms, total: 1min 6s\n",
            "Wall time: 1min 6s\n"
          ],
          "name": "stdout"
        }
      ]
    },
    {
      "cell_type": "code",
      "metadata": {
        "id": "RWDnOtr33DDH",
        "colab_type": "code",
        "colab": {
          "base_uri": "https://localhost:8080/",
          "height": 52
        },
        "outputId": "c8a8181b-903f-49e5-92ff-aa780d4331d9"
      },
      "source": [
        "print(len(new_X_train))\n",
        "print(X_train_glove.shape)"
      ],
      "execution_count": 66,
      "outputs": [
        {
          "output_type": "stream",
          "text": [
            "7\n",
            "(7, 300)\n"
          ],
          "name": "stdout"
        }
      ]
    },
    {
      "cell_type": "code",
      "metadata": {
        "deletable": false,
        "editable": false,
        "nbgrader": {
          "cell_type": "code",
          "checksum": "3cbbe22214eea789813b27bee43dc314",
          "grade": true,
          "grade_id": "cell-8431bb15ebe0914f",
          "locked": true,
          "points": 3,
          "schema_version": 3,
          "solution": false
        },
        "id": "IV3IMlF8mcsL",
        "colab_type": "code",
        "colab": {}
      },
      "source": [
        "assert X_train_glove.shape == (len(new_X_train), 300)\n",
        "assert X_test_glove.shape == (len(new_X_test), 300)"
      ],
      "execution_count": 0,
      "outputs": []
    },
    {
      "cell_type": "code",
      "metadata": {
        "deletable": false,
        "editable": false,
        "nbgrader": {
          "cell_type": "code",
          "checksum": "6d13cff29a75bb3f0b8087af24238c43",
          "grade": false,
          "grade_id": "cell-5b693b9255ee6aea",
          "locked": true,
          "schema_version": 3,
          "solution": false
        },
        "id": "ys4e7Eg6mcsN",
        "colab_type": "code",
        "colab": {
          "base_uri": "https://localhost:8080/",
          "height": 486
        },
        "outputId": "f588df01-0039-4d25-9bd3-529134cdca83"
      },
      "source": [
        "svm = LinearSVC().fit(X_train_glove, new_y_train)\n",
        "y_pred = svm.predict(X_test_glove)\n",
        "print(classification_report(new_y_test, y_pred))"
      ],
      "execution_count": 73,
      "outputs": [
        {
          "output_type": "stream",
          "text": [
            "              precision    recall  f1-score   support\n",
            "\n",
            "           0       0.00      0.00      0.00         7\n",
            "           1       0.50      0.50      0.50        10\n",
            "           2       0.60      0.55      0.57        11\n",
            "           3       0.60      0.50      0.55        12\n",
            "           4       0.50      0.50      0.50        12\n",
            "           5       0.58      0.64      0.61        11\n",
            "           6       0.64      0.90      0.75        10\n",
            "           7       0.77      0.94      0.85        18\n",
            "           8       0.88      0.82      0.85        17\n",
            "           9       0.76      0.76      0.76        17\n",
            "          10       0.64      0.64      0.64        14\n",
            "          11       0.85      0.79      0.81        14\n",
            "          12       0.69      0.47      0.56        19\n",
            "          13       0.80      1.00      0.89        16\n",
            "          14       0.75      0.60      0.67        10\n",
            "          15       0.56      0.77      0.65        13\n",
            "          16       0.85      0.79      0.81        14\n",
            "          17       0.73      0.89      0.80         9\n",
            "          18       0.78      0.64      0.70        11\n",
            "          19       0.20      0.20      0.20         5\n",
            "\n",
            "    accuracy                           0.68       250\n",
            "   macro avg       0.63      0.64      0.63       250\n",
            "weighted avg       0.68      0.68      0.67       250\n",
            "\n"
          ],
          "name": "stdout"
        }
      ]
    },
    {
      "cell_type": "markdown",
      "metadata": {
        "id": "BRvanL19mcsR",
        "colab_type": "text"
      },
      "source": [
        "Note that the results here aren't necessarily a fair comparison since we are only using a small subset of the data for both training and testing."
      ]
    },
    {
      "cell_type": "markdown",
      "metadata": {
        "deletable": false,
        "editable": false,
        "nbgrader": {
          "cell_type": "markdown",
          "checksum": "7e662876feeb742e62383826b6fcb418",
          "grade": false,
          "grade_id": "cell-cbdc66865e98beb5",
          "locked": true,
          "schema_version": 3,
          "solution": false
        },
        "id": "FNA9WC3TmcsS",
        "colab_type": "text"
      },
      "source": [
        "We will not cover LDA in this exercise but if you are interested in topic modeling, you should check out [Gensim](https://radimrehurek.com/gensim/) and its [LDA implementation](https://radimrehurek.com/gensim/models/ldamodel.html)."
      ]
    },
    {
      "cell_type": "markdown",
      "metadata": {
        "deletable": false,
        "editable": false,
        "nbgrader": {
          "cell_type": "markdown",
          "checksum": "483e65acc4062f57f7320d9b4cb0f945",
          "grade": false,
          "grade_id": "cell-75181722913aa756",
          "locked": true,
          "schema_version": 3,
          "solution": false
        },
        "id": "16qSqWcbmcsT",
        "colab_type": "text"
      },
      "source": [
        "## Feedback"
      ]
    },
    {
      "cell_type": "code",
      "metadata": {
        "deletable": false,
        "nbgrader": {
          "cell_type": "code",
          "checksum": "ed936ab53a1391c5e6af8df699a1dbf5",
          "grade": false,
          "grade_id": "feedback",
          "locked": false,
          "schema_version": 3,
          "solution": true
        },
        "id": "ioZIKMKnmcsU",
        "colab_type": "code",
        "colab": {}
      },
      "source": [
        "def feedback():\n",
        "    \"\"\"Provide feedback on the contents of this exercise\n",
        "    \n",
        "    Returns:\n",
        "        string\n",
        "    \"\"\"\n",
        "    # YOUR CODE HERE\n",
        "    return \"This exercise suffered from inconsistent resutls across machines. That is, certain sections of code worked for some of my partners whereas not for me and vice versa. I did appreciate being exposed to some best practices.\""
      ],
      "execution_count": 0,
      "outputs": []
    },
    {
      "cell_type": "code",
      "metadata": {
        "deletable": false,
        "editable": false,
        "nbgrader": {
          "cell_type": "code",
          "checksum": "f39f6185a54850c2f1f9b5b2a17b7543",
          "grade": true,
          "grade_id": "feedback-tests",
          "locked": true,
          "points": 0,
          "schema_version": 3,
          "solution": false
        },
        "id": "m47ifEo8mcsX",
        "colab_type": "code",
        "colab": {}
      },
      "source": [
        ""
      ],
      "execution_count": 0,
      "outputs": []
    }
  ]
}