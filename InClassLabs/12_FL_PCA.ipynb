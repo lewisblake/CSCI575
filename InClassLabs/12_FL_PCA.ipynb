{
 "cells": [
  {
   "cell_type": "markdown",
   "metadata": {
    "colab_type": "text",
    "deletable": false,
    "editable": false,
    "id": "DVoykp4EPABK",
    "nbgrader": {
     "checksum": "1433e1e26fce07aa29842bd43c5223de",
     "grade": false,
     "grade_id": "cell-2eb849ddd339bce1",
     "locked": true,
     "schema_version": 1,
     "solution": false
    }
   },
   "source": [
    "# Feature Learning - PCA\n",
    "\n",
    "In this lecture we'll look at predicting a wine's cultivator from information about the wine. We will use the original data collected about wines and also use PCA to learn a different set of features. Then we will use $k$NN to classify the wines. \n",
    "\n",
    "We will also look at using Kernel PCA with a concentric circles dataset and see how well it can perform in separating the points when visualized."
   ]
  },
  {
   "cell_type": "code",
   "execution_count": 0,
   "metadata": {
    "colab": {},
    "colab_type": "code",
    "deletable": false,
    "editable": false,
    "id": "MtH4cINIPABQ",
    "nbgrader": {
     "checksum": "ce23ad076c31823dea3a20131bbe1e20",
     "grade": false,
     "grade_id": "cell-e0ec0f8f447b542e",
     "locked": true,
     "schema_version": 1,
     "solution": false
    }
   },
   "outputs": [],
   "source": [
    "import numpy as np\n",
    "import matplotlib\n",
    "import matplotlib.pyplot as plt\n",
    "import pandas as pd\n",
    "import sklearn as sk\n",
    "\n",
    "np.random.seed(0)\n",
    "\n",
    "plt.style.use(\"ggplot\")"
   ]
  },
  {
   "cell_type": "code",
   "execution_count": 0,
   "metadata": {
    "colab": {},
    "colab_type": "code",
    "deletable": false,
    "editable": false,
    "id": "Wi6ZHx0nPABh",
    "nbgrader": {
     "checksum": "cca0592f35d02e7bfb1167f695bc4868",
     "grade": false,
     "grade_id": "cell-722a013a2398dd8b",
     "locked": true,
     "schema_version": 1,
     "solution": false
    }
   },
   "outputs": [],
   "source": [
    "from sklearn.datasets import load_wine\n",
    "from sklearn.model_selection import train_test_split, GridSearchCV\n",
    "from sklearn.decomposition import PCA, KernelPCA\n",
    "from sklearn.neighbors import KNeighborsClassifier\n",
    "from sklearn.metrics import accuracy_score\n",
    "from sklearn.datasets import make_circles"
   ]
  },
  {
   "cell_type": "code",
   "execution_count": 0,
   "metadata": {
    "colab": {},
    "colab_type": "code",
    "deletable": false,
    "editable": false,
    "id": "Ml9023cUPABr",
    "nbgrader": {
     "checksum": "6e7e15208109fe171e7c6dc0610f0b85",
     "grade": false,
     "grade_id": "cell-c164e07f6a3938e7",
     "locked": true,
     "schema_version": 1,
     "solution": false
    }
   },
   "outputs": [],
   "source": [
    "wine_data = load_wine()"
   ]
  },
  {
   "cell_type": "code",
   "execution_count": 6,
   "metadata": {
    "colab": {
     "base_uri": "https://localhost:8080/",
     "height": 1000
    },
    "colab_type": "code",
    "deletable": false,
    "editable": false,
    "id": "FI3fEzq0PABy",
    "nbgrader": {
     "checksum": "a5d5b840d10281c33f9f96410eda6e17",
     "grade": false,
     "grade_id": "cell-0bd17e977c414993",
     "locked": true,
     "schema_version": 1,
     "solution": false
    },
    "outputId": "45015522-de72-4638-ac76-3a0e20dccb8c"
   },
   "outputs": [
    {
     "name": "stdout",
     "output_type": "stream",
     "text": [
      ".. _wine_dataset:\n",
      "\n",
      "Wine recognition dataset\n",
      "------------------------\n",
      "\n",
      "**Data Set Characteristics:**\n",
      "\n",
      "    :Number of Instances: 178 (50 in each of three classes)\n",
      "    :Number of Attributes: 13 numeric, predictive attributes and the class\n",
      "    :Attribute Information:\n",
      " \t\t- Alcohol\n",
      " \t\t- Malic acid\n",
      " \t\t- Ash\n",
      "\t\t- Alcalinity of ash  \n",
      " \t\t- Magnesium\n",
      "\t\t- Total phenols\n",
      " \t\t- Flavanoids\n",
      " \t\t- Nonflavanoid phenols\n",
      " \t\t- Proanthocyanins\n",
      "\t\t- Color intensity\n",
      " \t\t- Hue\n",
      " \t\t- OD280/OD315 of diluted wines\n",
      " \t\t- Proline\n",
      "\n",
      "    - class:\n",
      "            - class_0\n",
      "            - class_1\n",
      "            - class_2\n",
      "\t\t\n",
      "    :Summary Statistics:\n",
      "    \n",
      "    ============================= ==== ===== ======= =====\n",
      "                                   Min   Max   Mean     SD\n",
      "    ============================= ==== ===== ======= =====\n",
      "    Alcohol:                      11.0  14.8    13.0   0.8\n",
      "    Malic Acid:                   0.74  5.80    2.34  1.12\n",
      "    Ash:                          1.36  3.23    2.36  0.27\n",
      "    Alcalinity of Ash:            10.6  30.0    19.5   3.3\n",
      "    Magnesium:                    70.0 162.0    99.7  14.3\n",
      "    Total Phenols:                0.98  3.88    2.29  0.63\n",
      "    Flavanoids:                   0.34  5.08    2.03  1.00\n",
      "    Nonflavanoid Phenols:         0.13  0.66    0.36  0.12\n",
      "    Proanthocyanins:              0.41  3.58    1.59  0.57\n",
      "    Colour Intensity:              1.3  13.0     5.1   2.3\n",
      "    Hue:                          0.48  1.71    0.96  0.23\n",
      "    OD280/OD315 of diluted wines: 1.27  4.00    2.61  0.71\n",
      "    Proline:                       278  1680     746   315\n",
      "    ============================= ==== ===== ======= =====\n",
      "\n",
      "    :Missing Attribute Values: None\n",
      "    :Class Distribution: class_0 (59), class_1 (71), class_2 (48)\n",
      "    :Creator: R.A. Fisher\n",
      "    :Donor: Michael Marshall (MARSHALL%PLU@io.arc.nasa.gov)\n",
      "    :Date: July, 1988\n",
      "\n",
      "This is a copy of UCI ML Wine recognition datasets.\n",
      "https://archive.ics.uci.edu/ml/machine-learning-databases/wine/wine.data\n",
      "\n",
      "The data is the results of a chemical analysis of wines grown in the same\n",
      "region in Italy by three different cultivators. There are thirteen different\n",
      "measurements taken for different constituents found in the three types of\n",
      "wine.\n",
      "\n",
      "Original Owners: \n",
      "\n",
      "Forina, M. et al, PARVUS - \n",
      "An Extendible Package for Data Exploration, Classification and Correlation. \n",
      "Institute of Pharmaceutical and Food Analysis and Technologies,\n",
      "Via Brigata Salerno, 16147 Genoa, Italy.\n",
      "\n",
      "Citation:\n",
      "\n",
      "Lichman, M. (2013). UCI Machine Learning Repository\n",
      "[https://archive.ics.uci.edu/ml]. Irvine, CA: University of California,\n",
      "School of Information and Computer Science. \n",
      "\n",
      ".. topic:: References\n",
      "\n",
      "  (1) S. Aeberhard, D. Coomans and O. de Vel, \n",
      "  Comparison of Classifiers in High Dimensional Settings, \n",
      "  Tech. Rep. no. 92-02, (1992), Dept. of Computer Science and Dept. of  \n",
      "  Mathematics and Statistics, James Cook University of North Queensland. \n",
      "  (Also submitted to Technometrics). \n",
      "\n",
      "  The data was used with many others for comparing various \n",
      "  classifiers. The classes are separable, though only RDA \n",
      "  has achieved 100% correct classification. \n",
      "  (RDA : 100%, QDA 99.4%, LDA 98.9%, 1NN 96.1% (z-transformed data)) \n",
      "  (All results using the leave-one-out technique) \n",
      "\n",
      "  (2) S. Aeberhard, D. Coomans and O. de Vel, \n",
      "  \"THE CLASSIFICATION PERFORMANCE OF RDA\" \n",
      "  Tech. Rep. no. 92-01, (1992), Dept. of Computer Science and Dept. of \n",
      "  Mathematics and Statistics, James Cook University of North Queensland. \n",
      "  (Also submitted to Journal of Chemometrics).\n",
      "\n"
     ]
    }
   ],
   "source": [
    "wine_features = pd.DataFrame(wine_data[\"data\"], columns=wine_data[\"feature_names\"])\n",
    "wine_targets = pd.DataFrame(wine_data[\"target\"], columns=[\"class\"])\n",
    "print(wine_data[\"DESCR\"])"
   ]
  },
  {
   "cell_type": "code",
   "execution_count": 7,
   "metadata": {
    "colab": {
     "base_uri": "https://localhost:8080/",
     "height": 226
    },
    "colab_type": "code",
    "deletable": false,
    "editable": false,
    "id": "rTJg1GpEPAB7",
    "nbgrader": {
     "checksum": "0edb962c62d1de77ecb088d32166afd2",
     "grade": false,
     "grade_id": "cell-fa314af975b62de5",
     "locked": true,
     "schema_version": 1,
     "solution": false
    },
    "outputId": "b630d961-6db2-413b-97c3-d40db57c39d1"
   },
   "outputs": [
    {
     "data": {
      "text/html": [
       "<div>\n",
       "<style scoped>\n",
       "    .dataframe tbody tr th:only-of-type {\n",
       "        vertical-align: middle;\n",
       "    }\n",
       "\n",
       "    .dataframe tbody tr th {\n",
       "        vertical-align: top;\n",
       "    }\n",
       "\n",
       "    .dataframe thead th {\n",
       "        text-align: right;\n",
       "    }\n",
       "</style>\n",
       "<table border=\"1\" class=\"dataframe\">\n",
       "  <thead>\n",
       "    <tr style=\"text-align: right;\">\n",
       "      <th></th>\n",
       "      <th>alcohol</th>\n",
       "      <th>malic_acid</th>\n",
       "      <th>ash</th>\n",
       "      <th>alcalinity_of_ash</th>\n",
       "      <th>magnesium</th>\n",
       "      <th>total_phenols</th>\n",
       "      <th>flavanoids</th>\n",
       "      <th>nonflavanoid_phenols</th>\n",
       "      <th>proanthocyanins</th>\n",
       "      <th>color_intensity</th>\n",
       "      <th>hue</th>\n",
       "      <th>od280/od315_of_diluted_wines</th>\n",
       "      <th>proline</th>\n",
       "    </tr>\n",
       "  </thead>\n",
       "  <tbody>\n",
       "    <tr>\n",
       "      <th>0</th>\n",
       "      <td>14.23</td>\n",
       "      <td>1.71</td>\n",
       "      <td>2.43</td>\n",
       "      <td>15.6</td>\n",
       "      <td>127.0</td>\n",
       "      <td>2.80</td>\n",
       "      <td>3.06</td>\n",
       "      <td>0.28</td>\n",
       "      <td>2.29</td>\n",
       "      <td>5.64</td>\n",
       "      <td>1.04</td>\n",
       "      <td>3.92</td>\n",
       "      <td>1065.0</td>\n",
       "    </tr>\n",
       "    <tr>\n",
       "      <th>1</th>\n",
       "      <td>13.20</td>\n",
       "      <td>1.78</td>\n",
       "      <td>2.14</td>\n",
       "      <td>11.2</td>\n",
       "      <td>100.0</td>\n",
       "      <td>2.65</td>\n",
       "      <td>2.76</td>\n",
       "      <td>0.26</td>\n",
       "      <td>1.28</td>\n",
       "      <td>4.38</td>\n",
       "      <td>1.05</td>\n",
       "      <td>3.40</td>\n",
       "      <td>1050.0</td>\n",
       "    </tr>\n",
       "    <tr>\n",
       "      <th>2</th>\n",
       "      <td>13.16</td>\n",
       "      <td>2.36</td>\n",
       "      <td>2.67</td>\n",
       "      <td>18.6</td>\n",
       "      <td>101.0</td>\n",
       "      <td>2.80</td>\n",
       "      <td>3.24</td>\n",
       "      <td>0.30</td>\n",
       "      <td>2.81</td>\n",
       "      <td>5.68</td>\n",
       "      <td>1.03</td>\n",
       "      <td>3.17</td>\n",
       "      <td>1185.0</td>\n",
       "    </tr>\n",
       "    <tr>\n",
       "      <th>3</th>\n",
       "      <td>14.37</td>\n",
       "      <td>1.95</td>\n",
       "      <td>2.50</td>\n",
       "      <td>16.8</td>\n",
       "      <td>113.0</td>\n",
       "      <td>3.85</td>\n",
       "      <td>3.49</td>\n",
       "      <td>0.24</td>\n",
       "      <td>2.18</td>\n",
       "      <td>7.80</td>\n",
       "      <td>0.86</td>\n",
       "      <td>3.45</td>\n",
       "      <td>1480.0</td>\n",
       "    </tr>\n",
       "    <tr>\n",
       "      <th>4</th>\n",
       "      <td>13.24</td>\n",
       "      <td>2.59</td>\n",
       "      <td>2.87</td>\n",
       "      <td>21.0</td>\n",
       "      <td>118.0</td>\n",
       "      <td>2.80</td>\n",
       "      <td>2.69</td>\n",
       "      <td>0.39</td>\n",
       "      <td>1.82</td>\n",
       "      <td>4.32</td>\n",
       "      <td>1.04</td>\n",
       "      <td>2.93</td>\n",
       "      <td>735.0</td>\n",
       "    </tr>\n",
       "  </tbody>\n",
       "</table>\n",
       "</div>"
      ],
      "text/plain": [
       "   alcohol  malic_acid   ash  ...   hue  od280/od315_of_diluted_wines  proline\n",
       "0    14.23        1.71  2.43  ...  1.04                          3.92   1065.0\n",
       "1    13.20        1.78  2.14  ...  1.05                          3.40   1050.0\n",
       "2    13.16        2.36  2.67  ...  1.03                          3.17   1185.0\n",
       "3    14.37        1.95  2.50  ...  0.86                          3.45   1480.0\n",
       "4    13.24        2.59  2.87  ...  1.04                          2.93    735.0\n",
       "\n",
       "[5 rows x 13 columns]"
      ]
     },
     "execution_count": 7,
     "metadata": {
      "tags": []
     },
     "output_type": "execute_result"
    }
   ],
   "source": [
    "wine_features.head()"
   ]
  },
  {
   "cell_type": "code",
   "execution_count": 8,
   "metadata": {
    "colab": {
     "base_uri": "https://localhost:8080/",
     "height": 320
    },
    "colab_type": "code",
    "deletable": false,
    "editable": false,
    "id": "w2DcYSQkPACD",
    "nbgrader": {
     "checksum": "7447342f99fb6c1fd0484086323cd211",
     "grade": false,
     "grade_id": "cell-c46ce657a0e7386e",
     "locked": true,
     "schema_version": 1,
     "solution": false
    },
    "outputId": "e2370a58-21b2-4b78-d539-1e52cf86d367"
   },
   "outputs": [
    {
     "data": {
      "text/html": [
       "<div>\n",
       "<style scoped>\n",
       "    .dataframe tbody tr th:only-of-type {\n",
       "        vertical-align: middle;\n",
       "    }\n",
       "\n",
       "    .dataframe tbody tr th {\n",
       "        vertical-align: top;\n",
       "    }\n",
       "\n",
       "    .dataframe thead th {\n",
       "        text-align: right;\n",
       "    }\n",
       "</style>\n",
       "<table border=\"1\" class=\"dataframe\">\n",
       "  <thead>\n",
       "    <tr style=\"text-align: right;\">\n",
       "      <th></th>\n",
       "      <th>alcohol</th>\n",
       "      <th>malic_acid</th>\n",
       "      <th>ash</th>\n",
       "      <th>alcalinity_of_ash</th>\n",
       "      <th>magnesium</th>\n",
       "      <th>total_phenols</th>\n",
       "      <th>flavanoids</th>\n",
       "      <th>nonflavanoid_phenols</th>\n",
       "      <th>proanthocyanins</th>\n",
       "      <th>color_intensity</th>\n",
       "      <th>hue</th>\n",
       "      <th>od280/od315_of_diluted_wines</th>\n",
       "      <th>proline</th>\n",
       "    </tr>\n",
       "  </thead>\n",
       "  <tbody>\n",
       "    <tr>\n",
       "      <th>count</th>\n",
       "      <td>178.000000</td>\n",
       "      <td>178.000000</td>\n",
       "      <td>178.000000</td>\n",
       "      <td>178.000000</td>\n",
       "      <td>178.000000</td>\n",
       "      <td>178.000000</td>\n",
       "      <td>178.000000</td>\n",
       "      <td>178.000000</td>\n",
       "      <td>178.000000</td>\n",
       "      <td>178.000000</td>\n",
       "      <td>178.000000</td>\n",
       "      <td>178.000000</td>\n",
       "      <td>178.000000</td>\n",
       "    </tr>\n",
       "    <tr>\n",
       "      <th>mean</th>\n",
       "      <td>13.000618</td>\n",
       "      <td>2.336348</td>\n",
       "      <td>2.366517</td>\n",
       "      <td>19.494944</td>\n",
       "      <td>99.741573</td>\n",
       "      <td>2.295112</td>\n",
       "      <td>2.029270</td>\n",
       "      <td>0.361854</td>\n",
       "      <td>1.590899</td>\n",
       "      <td>5.058090</td>\n",
       "      <td>0.957449</td>\n",
       "      <td>2.611685</td>\n",
       "      <td>746.893258</td>\n",
       "    </tr>\n",
       "    <tr>\n",
       "      <th>std</th>\n",
       "      <td>0.811827</td>\n",
       "      <td>1.117146</td>\n",
       "      <td>0.274344</td>\n",
       "      <td>3.339564</td>\n",
       "      <td>14.282484</td>\n",
       "      <td>0.625851</td>\n",
       "      <td>0.998859</td>\n",
       "      <td>0.124453</td>\n",
       "      <td>0.572359</td>\n",
       "      <td>2.318286</td>\n",
       "      <td>0.228572</td>\n",
       "      <td>0.709990</td>\n",
       "      <td>314.907474</td>\n",
       "    </tr>\n",
       "    <tr>\n",
       "      <th>min</th>\n",
       "      <td>11.030000</td>\n",
       "      <td>0.740000</td>\n",
       "      <td>1.360000</td>\n",
       "      <td>10.600000</td>\n",
       "      <td>70.000000</td>\n",
       "      <td>0.980000</td>\n",
       "      <td>0.340000</td>\n",
       "      <td>0.130000</td>\n",
       "      <td>0.410000</td>\n",
       "      <td>1.280000</td>\n",
       "      <td>0.480000</td>\n",
       "      <td>1.270000</td>\n",
       "      <td>278.000000</td>\n",
       "    </tr>\n",
       "    <tr>\n",
       "      <th>25%</th>\n",
       "      <td>12.362500</td>\n",
       "      <td>1.602500</td>\n",
       "      <td>2.210000</td>\n",
       "      <td>17.200000</td>\n",
       "      <td>88.000000</td>\n",
       "      <td>1.742500</td>\n",
       "      <td>1.205000</td>\n",
       "      <td>0.270000</td>\n",
       "      <td>1.250000</td>\n",
       "      <td>3.220000</td>\n",
       "      <td>0.782500</td>\n",
       "      <td>1.937500</td>\n",
       "      <td>500.500000</td>\n",
       "    </tr>\n",
       "    <tr>\n",
       "      <th>50%</th>\n",
       "      <td>13.050000</td>\n",
       "      <td>1.865000</td>\n",
       "      <td>2.360000</td>\n",
       "      <td>19.500000</td>\n",
       "      <td>98.000000</td>\n",
       "      <td>2.355000</td>\n",
       "      <td>2.135000</td>\n",
       "      <td>0.340000</td>\n",
       "      <td>1.555000</td>\n",
       "      <td>4.690000</td>\n",
       "      <td>0.965000</td>\n",
       "      <td>2.780000</td>\n",
       "      <td>673.500000</td>\n",
       "    </tr>\n",
       "    <tr>\n",
       "      <th>75%</th>\n",
       "      <td>13.677500</td>\n",
       "      <td>3.082500</td>\n",
       "      <td>2.557500</td>\n",
       "      <td>21.500000</td>\n",
       "      <td>107.000000</td>\n",
       "      <td>2.800000</td>\n",
       "      <td>2.875000</td>\n",
       "      <td>0.437500</td>\n",
       "      <td>1.950000</td>\n",
       "      <td>6.200000</td>\n",
       "      <td>1.120000</td>\n",
       "      <td>3.170000</td>\n",
       "      <td>985.000000</td>\n",
       "    </tr>\n",
       "    <tr>\n",
       "      <th>max</th>\n",
       "      <td>14.830000</td>\n",
       "      <td>5.800000</td>\n",
       "      <td>3.230000</td>\n",
       "      <td>30.000000</td>\n",
       "      <td>162.000000</td>\n",
       "      <td>3.880000</td>\n",
       "      <td>5.080000</td>\n",
       "      <td>0.660000</td>\n",
       "      <td>3.580000</td>\n",
       "      <td>13.000000</td>\n",
       "      <td>1.710000</td>\n",
       "      <td>4.000000</td>\n",
       "      <td>1680.000000</td>\n",
       "    </tr>\n",
       "  </tbody>\n",
       "</table>\n",
       "</div>"
      ],
      "text/plain": [
       "          alcohol  malic_acid  ...  od280/od315_of_diluted_wines      proline\n",
       "count  178.000000  178.000000  ...                    178.000000   178.000000\n",
       "mean    13.000618    2.336348  ...                      2.611685   746.893258\n",
       "std      0.811827    1.117146  ...                      0.709990   314.907474\n",
       "min     11.030000    0.740000  ...                      1.270000   278.000000\n",
       "25%     12.362500    1.602500  ...                      1.937500   500.500000\n",
       "50%     13.050000    1.865000  ...                      2.780000   673.500000\n",
       "75%     13.677500    3.082500  ...                      3.170000   985.000000\n",
       "max     14.830000    5.800000  ...                      4.000000  1680.000000\n",
       "\n",
       "[8 rows x 13 columns]"
      ]
     },
     "execution_count": 8,
     "metadata": {
      "tags": []
     },
     "output_type": "execute_result"
    }
   ],
   "source": [
    "wine_features.describe()"
   ]
  },
  {
   "cell_type": "code",
   "execution_count": 9,
   "metadata": {
    "colab": {
     "base_uri": "https://localhost:8080/",
     "height": 206
    },
    "colab_type": "code",
    "deletable": false,
    "editable": false,
    "id": "UFIE0YcbPACK",
    "nbgrader": {
     "checksum": "7784e4577251b80a6b74c29e90812eab",
     "grade": false,
     "grade_id": "cell-a7795daf552d66a3",
     "locked": true,
     "schema_version": 1,
     "solution": false
    },
    "outputId": "c7e4e131-a957-4a38-ef1b-25001fe7f400"
   },
   "outputs": [
    {
     "data": {
      "text/html": [
       "<div>\n",
       "<style scoped>\n",
       "    .dataframe tbody tr th:only-of-type {\n",
       "        vertical-align: middle;\n",
       "    }\n",
       "\n",
       "    .dataframe tbody tr th {\n",
       "        vertical-align: top;\n",
       "    }\n",
       "\n",
       "    .dataframe thead th {\n",
       "        text-align: right;\n",
       "    }\n",
       "</style>\n",
       "<table border=\"1\" class=\"dataframe\">\n",
       "  <thead>\n",
       "    <tr style=\"text-align: right;\">\n",
       "      <th></th>\n",
       "      <th>class</th>\n",
       "    </tr>\n",
       "  </thead>\n",
       "  <tbody>\n",
       "    <tr>\n",
       "      <th>0</th>\n",
       "      <td>0</td>\n",
       "    </tr>\n",
       "    <tr>\n",
       "      <th>1</th>\n",
       "      <td>0</td>\n",
       "    </tr>\n",
       "    <tr>\n",
       "      <th>2</th>\n",
       "      <td>0</td>\n",
       "    </tr>\n",
       "    <tr>\n",
       "      <th>3</th>\n",
       "      <td>0</td>\n",
       "    </tr>\n",
       "    <tr>\n",
       "      <th>4</th>\n",
       "      <td>0</td>\n",
       "    </tr>\n",
       "  </tbody>\n",
       "</table>\n",
       "</div>"
      ],
      "text/plain": [
       "   class\n",
       "0      0\n",
       "1      0\n",
       "2      0\n",
       "3      0\n",
       "4      0"
      ]
     },
     "execution_count": 9,
     "metadata": {
      "tags": []
     },
     "output_type": "execute_result"
    }
   ],
   "source": [
    "wine_targets.head()"
   ]
  },
  {
   "cell_type": "code",
   "execution_count": 10,
   "metadata": {
    "colab": {
     "base_uri": "https://localhost:8080/",
     "height": 356
    },
    "colab_type": "code",
    "deletable": false,
    "editable": false,
    "id": "lvGc52bqPACS",
    "nbgrader": {
     "checksum": "5f86fc9a30b21d8d8f91a244ba828a72",
     "grade": false,
     "grade_id": "cell-aaced91ab20065fe",
     "locked": true,
     "schema_version": 1,
     "solution": false
    },
    "outputId": "be755f3c-cc45-4e5c-9091-80505b035196"
   },
   "outputs": [
    {
     "name": "stdout",
     "output_type": "stream",
     "text": [
      "1    71\n",
      "0    59\n",
      "2    48\n",
      "Name: class, dtype: int64\n"
     ]
    },
    {
     "data": {
      "text/plain": [
       "<matplotlib.axes._subplots.AxesSubplot at 0x7f47228c5940>"
      ]
     },
     "execution_count": 10,
     "metadata": {
      "tags": []
     },
     "output_type": "execute_result"
    },
    {
     "data": {
      "image/png": "[encoded data removed]",
      "text/plain": [
       "<Figure size 432x288 with 1 Axes>"
      ]
     },
     "metadata": {
      "tags": []
     },
     "output_type": "display_data"
    }
   ],
   "source": [
    "print(wine_targets[\"class\"].value_counts())\n",
    "wine_targets[\"class\"].value_counts().plot(kind=\"barh\")"
   ]
  },
  {
   "cell_type": "code",
   "execution_count": 0,
   "metadata": {
    "colab": {},
    "colab_type": "code",
    "deletable": false,
    "editable": false,
    "id": "VnA1oA1CPACZ",
    "nbgrader": {
     "checksum": "5dd2a62fa6948c0325c5c535a5cef889",
     "grade": false,
     "grade_id": "cell-8e7d11fb42a903ef",
     "locked": true,
     "schema_version": 1,
     "solution": false
    }
   },
   "outputs": [],
   "source": [
    "X_train, X_test, y_train, y_test = train_test_split(wine_features, wine_targets, test_size=0.2, random_state=0)"
   ]
  },
  {
   "cell_type": "markdown",
   "metadata": {
    "colab_type": "text",
    "deletable": false,
    "editable": false,
    "id": "yh-49BrBPACk",
    "nbgrader": {
     "checksum": "55923434a65e16d43a81ffb601a16cd1",
     "grade": false,
     "grade_id": "cell-6857edd399553b80",
     "locked": true,
     "schema_version": 1,
     "solution": false
    }
   },
   "source": [
    "With the wine data, we will apply [PCA](http://scikit-learn.org/stable/modules/generated/sklearn.decomposition.PCA.html) to 2 components to be able to visualize the data and then run a classifier on the original data as well as PCA and compare their performances."
   ]
  },
  {
   "cell_type": "code",
   "execution_count": 0,
   "metadata": {
    "colab": {},
    "colab_type": "code",
    "deletable": false,
    "id": "Y8amckJGPACn",
    "nbgrader": {
     "checksum": "4d6c147a16bef7b85199753deea221fc",
     "grade": false,
     "grade_id": "cell-b23fa403dd2dddbf",
     "locked": false,
     "schema_version": 1,
     "solution": true
    }
   },
   "outputs": [],
   "source": [
    "# Set pca_tf to the PCA transformer using 2 components (case matters)\n",
    "# Fit and transform X_train and save to X_train_pca\n",
    "# Transform X_test and save to X_test_pca\n",
    "pca_tf =  PCA(n_components = 2).fit(X_train)\n",
    "X_train_pca = pca_tf.transform(X_train)\n",
    "X_test_pca = pca_tf.transform(X_test)"
   ]
  },
  {
   "cell_type": "code",
   "execution_count": 0,
   "metadata": {
    "colab": {},
    "colab_type": "code",
    "deletable": false,
    "editable": false,
    "id": "cZQY4ggKPACy",
    "nbgrader": {
     "checksum": "8737a72501fe7579b136d5adf715047b",
     "grade": true,
     "grade_id": "cell-a74af3b16b14e1f2",
     "locked": true,
     "points": 5,
     "schema_version": 1,
     "solution": false
    }
   },
   "outputs": [],
   "source": [
    "assert pca_tf\n",
    "assert X_train_pca.shape == (142, 2)\n",
    "assert X_test_pca.shape == (36,2)"
   ]
  },
  {
   "cell_type": "markdown",
   "metadata": {
    "colab_type": "text",
    "deletable": false,
    "editable": false,
    "id": "QFbkBX86PAC4",
    "nbgrader": {
     "checksum": "d966153537fc5810eafa4c0231e6092a",
     "grade": false,
     "grade_id": "cell-d375178c277e2d70",
     "locked": true,
     "schema_version": 1,
     "solution": false
    }
   },
   "source": [
    "Since PCA is maximizing the variance in each component, let's take a look at what that means with respect to our data."
   ]
  },
  {
   "cell_type": "code",
   "execution_count": 17,
   "metadata": {
    "colab": {
     "base_uri": "https://localhost:8080/",
     "height": 34
    },
    "colab_type": "code",
    "deletable": false,
    "editable": false,
    "id": "s_QZY8zjPAC6",
    "nbgrader": {
     "checksum": "aa0ceb5660521df45e3c5570aba33513",
     "grade": false,
     "grade_id": "cell-2e5658e788289a67",
     "locked": true,
     "schema_version": 1,
     "solution": false
    },
    "outputId": "bb7acc88-8554-4fdc-8b04-8d83e18f02e6"
   },
   "outputs": [
    {
     "data": {
      "text/plain": [
       "array([0.99786106, 0.00194267])"
      ]
     },
     "execution_count": 17,
     "metadata": {
      "tags": []
     },
     "output_type": "execute_result"
    }
   ],
   "source": [
    "pca_tf.explained_variance_ratio_"
   ]
  },
  {
   "cell_type": "markdown",
   "metadata": {
    "colab_type": "text",
    "deletable": false,
    "editable": false,
    "id": "AhKbmFSgPADB",
    "nbgrader": {
     "checksum": "2894398cab82c72dca1daa7fbdba021f",
     "grade": false,
     "grade_id": "cell-9cd903044f521746",
     "locked": true,
     "schema_version": 1,
     "solution": false
    }
   },
   "source": [
    "What does the explained variance ratio of our components tell us? Try running this again with more components and see what happens."
   ]
  },
  {
   "cell_type": "markdown",
   "metadata": {
    "colab_type": "text",
    "deletable": false,
    "editable": false,
    "id": "x-rHW5O9PADD",
    "nbgrader": {
     "checksum": "db2f125cf130d1a1ed543ded071789f7",
     "grade": false,
     "grade_id": "cell-17fdf13b99bf0078",
     "locked": true,
     "schema_version": 1,
     "solution": false
    }
   },
   "source": [
    "One of the benefits of PCA is it can easily allow us to visualize data that is in more than 3 dimensions. "
   ]
  },
  {
   "cell_type": "code",
   "execution_count": 18,
   "metadata": {
    "colab": {
     "base_uri": "https://localhost:8080/",
     "height": 269
    },
    "colab_type": "code",
    "deletable": false,
    "editable": false,
    "id": "DLBVccx1PADF",
    "nbgrader": {
     "checksum": "7294ed86e465b12619fa707089b67239",
     "grade": false,
     "grade_id": "cell-8df7f3e1cb6f4061",
     "locked": true,
     "schema_version": 1,
     "solution": false
    },
    "outputId": "1bc3ee3a-6bfa-4fb6-e64e-d825b8a723c6"
   },
   "outputs": [
    {
     "data": {
      "image/png": "[encoded data removed]",
      "text/plain": [
       "<Figure size 432x288 with 1 Axes>"
      ]
     },
     "metadata": {
      "tags": []
     },
     "output_type": "display_data"
    }
   ],
   "source": [
    "plt.scatter(X_train_pca[:,0].reshape(-1,1)[y_train == 0], X_train_pca[:,1].reshape(-1,1)[y_train == 0], color=\"r\")\n",
    "plt.scatter(X_train_pca[:,0].reshape(-1,1)[y_train == 1], X_train_pca[:,1].reshape(-1,1)[y_train == 1], color=\"g\")\n",
    "plt.scatter(X_train_pca[:,0].reshape(-1,1)[y_train == 2], X_train_pca[:,1].reshape(-1,1)[y_train == 2], color=\"b\")\n",
    "plt.show()"
   ]
  },
  {
   "cell_type": "code",
   "execution_count": 27,
   "metadata": {
    "colab": {
     "base_uri": "https://localhost:8080/",
     "height": 106
    },
    "colab_type": "code",
    "deletable": false,
    "id": "NDTMkj-IPADK",
    "nbgrader": {
     "checksum": "6638a8ae33373a6754f70b72edebce4f",
     "grade": false,
     "grade_id": "cell-a4adffb912fdf080",
     "locked": false,
     "schema_version": 1,
     "solution": true
    },
    "outputId": "dfb4340d-1e2c-4d65-d802-d05c27d52aac"
   },
   "outputs": [
    {
     "name": "stderr",
     "output_type": "stream",
     "text": [
      "/usr/local/lib/python3.6/dist-packages/ipykernel_launcher.py:1: DataConversionWarning: A column-vector y was passed when a 1d array was expected. Please change the shape of y to (n_samples, ), for example using ravel().\n",
      "  \"\"\"Entry point for launching an IPython kernel.\n",
      "/usr/local/lib/python3.6/dist-packages/ipykernel_launcher.py:2: DataConversionWarning: A column-vector y was passed when a 1d array was expected. Please change the shape of y to (n_samples, ), for example using ravel().\n",
      "  \n"
     ]
    }
   ],
   "source": [
    "# Fit 2 knn classifier models, knn and knn_pca on the X_train and X_train_pca data respectively.\n",
    "# You may use whatever k value you'd like to use or feel free to use a gridsearch and try to test out a few k values\n",
    "knn = KNeighborsClassifier(n_neighbors=3).fit(X_train, y_train)\n",
    "knn_pca = KNeighborsClassifier(n_neighbors=3).fit(X_train_pca, y_train)"
   ]
  },
  {
   "cell_type": "code",
   "execution_count": 0,
   "metadata": {
    "colab": {},
    "colab_type": "code",
    "deletable": false,
    "editable": false,
    "id": "xW1wgSYsPADR",
    "nbgrader": {
     "checksum": "ebfc020b4c65735e6e2434346ec8222c",
     "grade": true,
     "grade_id": "cell-72007eed2cc9d505",
     "locked": true,
     "points": 5,
     "schema_version": 1,
     "solution": false
    }
   },
   "outputs": [],
   "source": [
    "assert knn\n",
    "assert knn_pca"
   ]
  },
  {
   "cell_type": "code",
   "execution_count": 29,
   "metadata": {
    "colab": {
     "base_uri": "https://localhost:8080/",
     "height": 52
    },
    "colab_type": "code",
    "deletable": false,
    "editable": false,
    "id": "KMxJTTnhPADY",
    "nbgrader": {
     "checksum": "0c53adf59d0a28137b5a7d30dd9aa579",
     "grade": false,
     "grade_id": "cell-533521b0be66e5ee",
     "locked": true,
     "schema_version": 1,
     "solution": false
    },
    "outputId": "ae14e453-8dd5-494b-c294-669526651df5"
   },
   "outputs": [
    {
     "name": "stdout",
     "output_type": "stream",
     "text": [
      "The accuracy using kNN is 0.7777777777777778.\n",
      "The accuracy using kNN with PCA is 0.7777777777777778.\n"
     ]
    }
   ],
   "source": [
    "print(f\"The accuracy using kNN is {accuracy_score(y_test, knn.predict(X_test))}.\")\n",
    "print(f\"The accuracy using kNN with PCA is {accuracy_score(y_test, knn_pca.predict(X_test_pca))}.\")"
   ]
  },
  {
   "cell_type": "markdown",
   "metadata": {
    "colab_type": "text",
    "deletable": false,
    "editable": false,
    "id": "1uYGYBJJPADd",
    "nbgrader": {
     "checksum": "aeba7cb4ee2b1b71837d7bd3c95df156",
     "grade": false,
     "grade_id": "cell-89c74f66fc539ac9",
     "locked": true,
     "schema_version": 1,
     "solution": false
    }
   },
   "source": [
    "PCA can help us visualize the data but it can come at a cost when we apply a machine learning model to its components. Often, the results are still worth the reduction in computation time when we have extremely large datasets. And sometimes we may achieve better results with PCA."
   ]
  },
  {
   "cell_type": "markdown",
   "metadata": {
    "colab_type": "text",
    "deletable": false,
    "editable": false,
    "id": "tb9dVGmNPADf",
    "nbgrader": {
     "checksum": "045bcab7db155dd01070479af8340a20",
     "grade": false,
     "grade_id": "cell-ce8cfc5dbdcb23e7",
     "locked": true,
     "schema_version": 1,
     "solution": false
    }
   },
   "source": [
    "## Kernel PCA"
   ]
  },
  {
   "cell_type": "code",
   "execution_count": 0,
   "metadata": {
    "colab": {},
    "colab_type": "code",
    "deletable": false,
    "editable": false,
    "id": "ZxmqxvgBPADi",
    "nbgrader": {
     "checksum": "29bdb9ecd41f55350a41ad88edc15963",
     "grade": false,
     "grade_id": "cell-b74412aa658a7225",
     "locked": true,
     "schema_version": 1,
     "solution": false
    }
   },
   "outputs": [],
   "source": [
    "X, y = make_circles(n_samples=400, factor=.3, noise=.05)\n",
    "reds = y == 0\n",
    "blues = y == 1"
   ]
  },
  {
   "cell_type": "code",
   "execution_count": 31,
   "metadata": {
    "colab": {
     "base_uri": "https://localhost:8080/",
     "height": 286
    },
    "colab_type": "code",
    "deletable": false,
    "editable": false,
    "id": "lTOQKZtXPADo",
    "nbgrader": {
     "checksum": "9840e9d88f7382f2c63631a743ba09c0",
     "grade": false,
     "grade_id": "cell-60b1f7647e2d2417",
     "locked": true,
     "schema_version": 1,
     "solution": false
    },
    "outputId": "a4544dd5-3e87-4867-9654-49fc1d29c5ce"
   },
   "outputs": [
    {
     "data": {
      "image/png": "[encoded data removed]",
      "text/plain": [
       "<Figure size 432x288 with 1 Axes>"
      ]
     },
     "metadata": {
      "tags": []
     },
     "output_type": "display_data"
    }
   ],
   "source": [
    "plt.scatter(X[reds, 0], X[reds, 1], c=\"r\", s=20)\n",
    "plt.scatter(X[blues, 0], X[blues, 1], c=\"b\", s=20)\n",
    "plt.xlabel(\"$x_1$\")\n",
    "plt.ylabel(\"$x_2$\")\n",
    "plt.show()"
   ]
  },
  {
   "cell_type": "code",
   "execution_count": 0,
   "metadata": {
    "colab": {},
    "colab_type": "code",
    "deletable": false,
    "id": "QXRMPDhxPADs",
    "nbgrader": {
     "checksum": "7b09d351e4be6569e91e2e11505e3c3f",
     "grade": false,
     "grade_id": "cell-54e6fb8148eb1bb8",
     "locked": false,
     "schema_version": 1,
     "solution": true
    }
   },
   "outputs": [],
   "source": [
    "# Apply a PCA transformation on X with 2 components\n",
    "# Save the PCA transformer to pca_tf\n",
    "# Save the transformed values of X to X_pca\n",
    "\n",
    "pca_tf = PCA(n_components = 2).fit(X)\n",
    "X_pca = pca_tf.transform(X)"
   ]
  },
  {
   "cell_type": "code",
   "execution_count": 0,
   "metadata": {
    "colab": {},
    "colab_type": "code",
    "deletable": false,
    "editable": false,
    "id": "NnnNC4ihPAD9",
    "nbgrader": {
     "checksum": "67b4be3a91c194a35ec6cec71b242365",
     "grade": true,
     "grade_id": "cell-1b2e59300a5665c9",
     "locked": true,
     "points": 5,
     "schema_version": 1,
     "solution": false
    }
   },
   "outputs": [],
   "source": [
    "assert pca_tf\n",
    "assert X_pca.shape == (400,2)"
   ]
  },
  {
   "cell_type": "code",
   "execution_count": 36,
   "metadata": {
    "colab": {
     "base_uri": "https://localhost:8080/",
     "height": 286
    },
    "colab_type": "code",
    "deletable": false,
    "editable": false,
    "id": "wRkiTOCfPAED",
    "nbgrader": {
     "checksum": "0b96064f0213f43b97c541b09960f038",
     "grade": false,
     "grade_id": "cell-85c88b175acc68ad",
     "locked": true,
     "schema_version": 1,
     "solution": false
    },
    "outputId": "e0c8ce97-93bc-4274-eb1c-500ba3bed5aa"
   },
   "outputs": [
    {
     "data": {
      "image/png": "[encoded data removed]",
      "text/plain": [
       "<Figure size 432x288 with 1 Axes>"
      ]
     },
     "metadata": {
      "tags": []
     },
     "output_type": "display_data"
    }
   ],
   "source": [
    "plt.scatter(X_pca[reds, 0], X_pca[reds, 1], c=\"r\", s=20)\n",
    "plt.scatter(X_pca[blues, 0], X_pca[blues, 1], c=\"b\", s=20)\n",
    "plt.xlabel(\"PC1\")\n",
    "plt.ylabel(\"PC2\")\n",
    "plt.show()"
   ]
  },
  {
   "cell_type": "markdown",
   "metadata": {
    "colab_type": "text",
    "deletable": false,
    "editable": false,
    "id": "GkCuxiX0PAEK",
    "nbgrader": {
     "checksum": "f0f05035e1ba7ed8296dd3174a040878",
     "grade": false,
     "grade_id": "cell-2c4b1a99d7437998",
     "locked": true,
     "schema_version": 1,
     "solution": false
    }
   },
   "source": [
    "We can see that there isn't much value in using traditional PCA. Let's try [kernel PCA](http://scikit-learn.org/stable/modules/generated/sklearn.decomposition.KernelPCA.html#sklearn.decomposition.KernelPCA). We'll use the RBF kernel and try out different values for gamma. Also, set `fit_inverse_transform=True` to make sure we can do the remaining part of the exercise."
   ]
  },
  {
   "cell_type": "code",
   "execution_count": 0,
   "metadata": {
    "colab": {},
    "colab_type": "code",
    "deletable": false,
    "id": "sJ34yaEGPAEM",
    "nbgrader": {
     "checksum": "388b76b8cfe5983be78405c1d73e933c",
     "grade": false,
     "grade_id": "cell-b8ccd7d77bf0d6bd",
     "locked": false,
     "schema_version": 1,
     "solution": true
    }
   },
   "outputs": [],
   "source": [
    "# Apply a Kernel PCA transformation on X with 2 components\n",
    "# Save the Kernel PCA transformer to kpca_tf\n",
    "# Save the transformed values of X to X_pca\n",
    "\n",
    "kpca_tf = KernelPCA(n_components = 2, fit_inverse_transform = True, gamma = 5, kernel = \"rbf\").fit(X)\n",
    "X_kpca = kpca_tf.transform(X)"
   ]
  },
  {
   "cell_type": "code",
   "execution_count": 0,
   "metadata": {
    "colab": {},
    "colab_type": "code",
    "deletable": false,
    "editable": false,
    "id": "0Gx7JBg2PAER",
    "nbgrader": {
     "checksum": "081e3b679d9deda0a60fc158dea73187",
     "grade": true,
     "grade_id": "cell-7c84c81a07e9fb6d",
     "locked": true,
     "points": 5,
     "schema_version": 1,
     "solution": false
    }
   },
   "outputs": [],
   "source": [
    "assert kpca_tf\n",
    "assert X_kpca.shape == (400,2)"
   ]
  },
  {
   "cell_type": "code",
   "execution_count": 63,
   "metadata": {
    "colab": {
     "base_uri": "https://localhost:8080/",
     "height": 286
    },
    "colab_type": "code",
    "deletable": false,
    "editable": false,
    "id": "uOYu8OB2PAEV",
    "nbgrader": {
     "checksum": "6a4e27b73e3ae4b8f43f137e60f3c503",
     "grade": false,
     "grade_id": "cell-97c0792c16cd6f1c",
     "locked": true,
     "schema_version": 1,
     "solution": false
    },
    "outputId": "d31b5bd0-5467-486d-e503-03a30b78a735"
   },
   "outputs": [
    {
     "data": {
      "image/png": "[encoded data removed]",
      "text/plain": [
       "<Figure size 432x288 with 1 Axes>"
      ]
     },
     "metadata": {
      "tags": []
     },
     "output_type": "display_data"
    }
   ],
   "source": [
    "plt.scatter(X_kpca[reds, 0], X_kpca[reds, 1], c=\"r\", s=20)\n",
    "plt.scatter(X_kpca[blues, 0], X_kpca[blues, 1], c=\"b\", s=20)\n",
    "plt.xlabel(\"Kernel PC1\")\n",
    "plt.ylabel(\"Kernel PC2\")\n",
    "plt.show()"
   ]
  },
  {
   "cell_type": "markdown",
   "metadata": {
    "colab_type": "text",
    "deletable": false,
    "editable": false,
    "id": "CJWHWcV9PAEb",
    "nbgrader": {
     "checksum": "d56406681a1f044bd5a2347b4bab8a74",
     "grade": false,
     "grade_id": "cell-09973c8f4b7ff5a6",
     "locked": true,
     "schema_version": 1,
     "solution": false
    }
   },
   "source": [
    "The inverse transformed data should look similar to the original data. What does how similar or different it is from the original tell us?"
   ]
  },
  {
   "cell_type": "code",
   "execution_count": 64,
   "metadata": {
    "colab": {
     "base_uri": "https://localhost:8080/",
     "height": 302
    },
    "colab_type": "code",
    "deletable": false,
    "editable": false,
    "id": "L5QA_w4ePAEd",
    "nbgrader": {
     "checksum": "8a82227074c47a52d43eddcf39724608",
     "grade": false,
     "grade_id": "cell-036286d29fe9969d",
     "locked": true,
     "schema_version": 1,
     "solution": false
    },
    "outputId": "6c0b0cfa-53f1-46cd-b968-3ffad3a0a27c"
   },
   "outputs": [
    {
     "data": {
      "image/png": "[encoded data removed]",
      "text/plain": [
       "<Figure size 432x288 with 1 Axes>"
      ]
     },
     "metadata": {
      "tags": []
     },
     "output_type": "display_data"
    }
   ],
   "source": [
    "X_inverse = kpca_tf.inverse_transform(X_kpca)\n",
    "plt.scatter(X_inverse[reds, 0], X_inverse[reds, 1], c=\"r\", s=20)\n",
    "plt.scatter(X_inverse[blues, 0], X_inverse[blues, 1], c=\"b\", s=20)\n",
    "plt.xlabel(\"Returned $x_1$ \")\n",
    "plt.ylabel(\"Returned $x_2$\")\n",
    "plt.title(\"The inverse transformed original dimensions\")\n",
    "plt.show()"
   ]
  },
  {
   "cell_type": "markdown",
   "metadata": {
    "colab_type": "text",
    "deletable": false,
    "editable": false,
    "id": "66tiUoj5PAEg",
    "nbgrader": {
     "checksum": "bc710d4da2e8a059e3f3233d306246fc",
     "grade": false,
     "grade_id": "cell-b942cad4cb865f2c",
     "locked": true,
     "schema_version": 1,
     "solution": false
    }
   },
   "source": [
    "## Feedback"
   ]
  },
  {
   "cell_type": "code",
   "execution_count": 0,
   "metadata": {
    "colab": {},
    "colab_type": "code",
    "deletable": false,
    "id": "o4LYeOKnPAEk",
    "nbgrader": {
     "checksum": "ed936ab53a1391c5e6af8df699a1dbf5",
     "grade": false,
     "grade_id": "feedback",
     "locked": false,
     "schema_version": 1,
     "solution": true
    }
   },
   "outputs": [],
   "source": [
    "def feedback():\n",
    "    \"\"\"Provide feedback on the contents of this exercise\n",
    "    \n",
    "    Returns:\n",
    "        string\n",
    "    \"\"\"\n",
    "    return \"This was a good exercise!\""
   ]
  },
  {
   "cell_type": "code",
   "execution_count": 60,
   "metadata": {
    "colab": {
     "base_uri": "https://localhost:8080/",
     "height": 54
    },
    "colab_type": "code",
    "deletable": false,
    "editable": false,
    "id": "c6qnfTL6PAEp",
    "nbgrader": {
     "checksum": "f39f6185a54850c2f1f9b5b2a17b7543",
     "grade": true,
     "grade_id": "feedback-tests",
     "locked": true,
     "points": 0,
     "schema_version": 1,
     "solution": false
    },
    "outputId": "a9c46374-7c68-4e5f-9ad4-b4d7c1051af4"
   },
   "outputs": [
    {
     "data": {
      "text/plain": [
       "'Some suggestions as what parameters to pick (e.g. gamma) to see the effects of KPCA would be nice. I tested a few parameters and mine looks quite similiar to the original data.'"
      ]
     },
     "execution_count": 60,
     "metadata": {
      "tags": []
     },
     "output_type": "execute_result"
    }
   ],
   "source": [
    "feedback()"
   ]
  }
 ],
 "metadata": {
  "colab": {
   "collapsed_sections": [],
   "name": "12 - FL - PCA.ipynb",
   "provenance": []
  },
  "kernelspec": {
   "display_name": "Python 3",
   "language": "python",
   "name": "python3"
  },
  "language_info": {
   "codemirror_mode": {
    "name": "ipython",
    "version": 3
   },
   "file_extension": ".py",
   "mimetype": "text/x-python",
   "name": "python",
   "nbconvert_exporter": "python",
   "pygments_lexer": "ipython3",
   "version": "3.7.3"
  }
 },
 "nbformat": 4,
 "nbformat_minor": 1
}
