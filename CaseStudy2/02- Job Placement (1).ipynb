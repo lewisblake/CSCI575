{
 "cells": [
  {
   "cell_type": "markdown",
   "metadata": {
    "deletable": false,
    "editable": false,
    "nbgrader": {
     "checksum": "37f776e4e1c8c3965f5bc354f8a83aef",
     "grade": false,
     "grade_id": "cell-c3b11c5d81596cb7",
     "locked": true,
     "schema_version": 1,
     "solution": false
    }
   },
   "source": [
    " As this is a case study individual assignment, I agree and acknowledge that all code modified in this notebook is my own. I have not and will not collaborate with anyone on this assignment. If I have questions, I will ask the instructor or TAs."
   ]
  },
  {
   "cell_type": "code",
   "execution_count": 178,
   "metadata": {
    "deletable": false,
    "nbgrader": {
     "checksum": "029dbc0bc45912b6ed8a9d4e68876a98",
     "grade": false,
     "grade_id": "cell-7a410150ea339a11",
     "locked": false,
     "schema_version": 1,
     "solution": true
    }
   },
   "outputs": [],
   "source": [
    "# Please provide your name and agreement to the above statement as variables `name` (string) and `agree` (boolean)\n",
    "name = \"Lewis Blake\"\n",
    "agree = True"
   ]
  },
  {
   "cell_type": "code",
   "execution_count": 179,
   "metadata": {
    "deletable": false,
    "editable": false,
    "nbgrader": {
     "checksum": "af5055b179decaf7c280171f297f036c",
     "grade": true,
     "grade_id": "cell-be8f2fd5450b57d8",
     "locked": true,
     "points": 0,
     "schema_version": 1,
     "solution": false
    }
   },
   "outputs": [],
   "source": [
    "conditions = [isinstance(name, str), isinstance(agree, bool), agree]\n",
    "for condition in conditions:\n",
    "    if not condition:\n",
    "        raise ValueError(\"Student has not agreed to work on this assignment alone and without collaboration or has not provided their name\")"
   ]
  },
  {
   "cell_type": "markdown",
   "metadata": {
    "deletable": false,
    "editable": false,
    "nbgrader": {
     "checksum": "b5e720c601965ffd4a490c9ae8f89b32",
     "grade": false,
     "grade_id": "cell-c95444a9726cb6ad",
     "locked": true,
     "schema_version": 1,
     "solution": false
    }
   },
   "source": [
    "# Job Performance Prediction\n",
    "\n",
    "You work for a software startup, Predict All The Things Inc. (PALT), and are approached by the CEO to build an algorithm that can help sift through resumes. PALT just closed a $3 million Series A round of funding and the CEO just landed a deal with a national retailer, SellsALOT, to help them with hiring Sales Associates.\n",
    "\n",
    "They are able to obtain data on all the employees that work as Sales Associates throughout their stores as well as customer satisfaction and sales performance scores.\n",
    "\n",
    "In this case study, you are tasked to build a model to predict job performance to assist HR in selecting applicants to interview.\n",
    "\n",
    "The data was provided to you by the new HR intern, Keegan. This is the email you got from Keegan with the attached data.\n",
    "\n",
    ">Hi!\n",
    ">\n",
    ">I hope you're doing well. I've attached the data we have about all employees. Please ensure this data stays confidential and is not shared with anyone who has not signed the NDA. The columns have all the information we have about our employees and the scoring rating that they've received from our performance monitors. We also have some employees that were fired and I have included those as well.\n",
    ">\n",
    ">I was also able to dig up some more information about our employees that I found on the internet. It took a lot of time but I hope it helps in making the model even better. Can't wait to see this thing in action. Everyone here is very excited about our collaboration with you and we look forward to this making hiring a lot easier for us.\n",
    ">\n",
    ">Thanks,\n",
    ">\n",
    ">Keegan Thiel\n",
    ">\n",
    ">HR Intern\n",
    ">\n",
    ">Human Resources\n",
    ">\n",
    ">SellsALOT\n",
    "\n",
    "\n",
    "Data is available in the `employees.csv` file provided. \n",
    "\n",
    "\n",
    "SellsALOT is an Equal Opportunity Employer which is an employer who agrees not to discriminate against any employee or job applicant because of race, color, religion, national origin, sex, physical or mental disability, or age.\n"
   ]
  },
  {
   "cell_type": "markdown",
   "metadata": {
    "deletable": false,
    "editable": false,
    "nbgrader": {
     "checksum": "afc34f9048ee4213877d45250fd61050",
     "grade": false,
     "grade_id": "cell-f9469a23a33f582b",
     "locked": true,
     "schema_version": 1,
     "solution": false
    }
   },
   "source": [
    "## Data Cleaning\n",
    "\n",
    "First, let's investigate the data that we received from Keegan.\n",
    "\n"
   ]
  },
  {
   "cell_type": "code",
   "execution_count": 180,
   "metadata": {
    "deletable": false,
    "editable": false,
    "nbgrader": {
     "checksum": "98d9733673fc16e64c8a56f4f2283337",
     "grade": false,
     "grade_id": "cell-415e7e827876c782",
     "locked": true,
     "schema_version": 1,
     "solution": false
    }
   },
   "outputs": [],
   "source": [
    "import pandas as pd\n",
    "import matplotlib\n",
    "import numpy as np\n",
    "import sklearn as sk\n",
    "from sklearn.model_selection import train_test_split\n",
    "import datetime\n",
    "from datetime import date"
   ]
  },
  {
   "cell_type": "code",
   "execution_count": 231,
   "metadata": {
    "deletable": false,
    "editable": false,
    "nbgrader": {
     "checksum": "3216fece87fdd26ddb8122784c9ad01e",
     "grade": false,
     "grade_id": "cell-0fb592011f635976",
     "locked": true,
     "schema_version": 1,
     "solution": false
    }
   },
   "outputs": [],
   "source": [
    "df = pd.read_csv(\"employees.csv\")"
   ]
  },
  {
   "cell_type": "code",
   "execution_count": 232,
   "metadata": {
    "deletable": false,
    "editable": false,
    "nbgrader": {
     "checksum": "4d084b93f762407ef1ce1017190e83fd",
     "grade": false,
     "grade_id": "cell-60d13b4672b4b0ab",
     "locked": true,
     "schema_version": 1,
     "solution": false
    }
   },
   "outputs": [
    {
     "data": {
      "text/html": [
       "<div>\n",
       "<style scoped>\n",
       "    .dataframe tbody tr th:only-of-type {\n",
       "        vertical-align: middle;\n",
       "    }\n",
       "\n",
       "    .dataframe tbody tr th {\n",
       "        vertical-align: top;\n",
       "    }\n",
       "\n",
       "    .dataframe thead th {\n",
       "        text-align: right;\n",
       "    }\n",
       "</style>\n",
       "<table border=\"1\" class=\"dataframe\">\n",
       "  <thead>\n",
       "    <tr style=\"text-align: right;\">\n",
       "      <th></th>\n",
       "      <th>First Name</th>\n",
       "      <th>Last Name</th>\n",
       "      <th>Date of Birth</th>\n",
       "      <th>Address</th>\n",
       "      <th>Zipcode</th>\n",
       "      <th>Gender</th>\n",
       "      <th>Race / Ethnicity</th>\n",
       "      <th>English Fluency</th>\n",
       "      <th>Spanish Fluency</th>\n",
       "      <th>Education</th>\n",
       "      <th>...</th>\n",
       "      <th>College GPA</th>\n",
       "      <th>Years of Experience</th>\n",
       "      <th>Years of Volunteering</th>\n",
       "      <th>Myers Briggs Type</th>\n",
       "      <th>Twitter followers</th>\n",
       "      <th>Instagram Followers</th>\n",
       "      <th>Requires Sponsorship</th>\n",
       "      <th>Customer Satisfaction Rating</th>\n",
       "      <th>Sales Rating</th>\n",
       "      <th>Fired</th>\n",
       "    </tr>\n",
       "  </thead>\n",
       "  <tbody>\n",
       "    <tr>\n",
       "      <th>0</th>\n",
       "      <td>Sarah</td>\n",
       "      <td>Chang</td>\n",
       "      <td>1989-12-24</td>\n",
       "      <td>764 Howard Tunnel</td>\n",
       "      <td>30167</td>\n",
       "      <td>Female</td>\n",
       "      <td>Black</td>\n",
       "      <td>Fluent</td>\n",
       "      <td>Basic</td>\n",
       "      <td>High School</td>\n",
       "      <td>...</td>\n",
       "      <td>2.52</td>\n",
       "      <td>8.8</td>\n",
       "      <td>0.0</td>\n",
       "      <td>ISTJ</td>\n",
       "      <td>693</td>\n",
       "      <td>1108</td>\n",
       "      <td>False</td>\n",
       "      <td>2.21</td>\n",
       "      <td>2.07</td>\n",
       "      <td>Current Employee</td>\n",
       "    </tr>\n",
       "    <tr>\n",
       "      <th>1</th>\n",
       "      <td>Daniel</td>\n",
       "      <td>Taylor</td>\n",
       "      <td>1985-03-15</td>\n",
       "      <td>4892 Jessica Turnpike Suite 781</td>\n",
       "      <td>86553</td>\n",
       "      <td>Male</td>\n",
       "      <td>Black</td>\n",
       "      <td>Fluent</td>\n",
       "      <td>Basic</td>\n",
       "      <td>High School</td>\n",
       "      <td>...</td>\n",
       "      <td>3.90</td>\n",
       "      <td>13.7</td>\n",
       "      <td>0.0</td>\n",
       "      <td>ISFJ</td>\n",
       "      <td>507</td>\n",
       "      <td>1259</td>\n",
       "      <td>False</td>\n",
       "      <td>3.37</td>\n",
       "      <td>2.98</td>\n",
       "      <td>Current Employee</td>\n",
       "    </tr>\n",
       "    <tr>\n",
       "      <th>2</th>\n",
       "      <td>Heather</td>\n",
       "      <td>Stewart</td>\n",
       "      <td>1993-09-20</td>\n",
       "      <td>778 Linda Orchard Apt. 609</td>\n",
       "      <td>30167</td>\n",
       "      <td>Female</td>\n",
       "      <td>Black</td>\n",
       "      <td>Proficient</td>\n",
       "      <td>Basic</td>\n",
       "      <td>High School</td>\n",
       "      <td>...</td>\n",
       "      <td>2.63</td>\n",
       "      <td>5.2</td>\n",
       "      <td>0.0</td>\n",
       "      <td>INFP</td>\n",
       "      <td>599</td>\n",
       "      <td>868</td>\n",
       "      <td>False</td>\n",
       "      <td>1.50</td>\n",
       "      <td>1.36</td>\n",
       "      <td>Current Employee</td>\n",
       "    </tr>\n",
       "    <tr>\n",
       "      <th>3</th>\n",
       "      <td>Katherine</td>\n",
       "      <td>Dillon</td>\n",
       "      <td>1986-12-22</td>\n",
       "      <td>139 Linda Crossroad Suite 115</td>\n",
       "      <td>30167</td>\n",
       "      <td>Female</td>\n",
       "      <td>Black</td>\n",
       "      <td>Basic</td>\n",
       "      <td>Basic</td>\n",
       "      <td>High School</td>\n",
       "      <td>...</td>\n",
       "      <td>3.88</td>\n",
       "      <td>12.5</td>\n",
       "      <td>0.0</td>\n",
       "      <td>ISFP</td>\n",
       "      <td>1321</td>\n",
       "      <td>889</td>\n",
       "      <td>True</td>\n",
       "      <td>2.89</td>\n",
       "      <td>2.62</td>\n",
       "      <td>Current Employee</td>\n",
       "    </tr>\n",
       "    <tr>\n",
       "      <th>4</th>\n",
       "      <td>Sheri</td>\n",
       "      <td>Bolton</td>\n",
       "      <td>1991-02-24</td>\n",
       "      <td>1858 Lauren Orchard</td>\n",
       "      <td>60531</td>\n",
       "      <td>Female</td>\n",
       "      <td>Black</td>\n",
       "      <td>Proficient</td>\n",
       "      <td>Proficient</td>\n",
       "      <td>High School</td>\n",
       "      <td>...</td>\n",
       "      <td>3.30</td>\n",
       "      <td>7.0</td>\n",
       "      <td>0.0</td>\n",
       "      <td>ISFJ</td>\n",
       "      <td>414</td>\n",
       "      <td>13760</td>\n",
       "      <td>True</td>\n",
       "      <td>1.94</td>\n",
       "      <td>1.78</td>\n",
       "      <td>Current Employee</td>\n",
       "    </tr>\n",
       "  </tbody>\n",
       "</table>\n",
       "<p>5 rows × 21 columns</p>\n",
       "</div>"
      ],
      "text/plain": [
       "  First Name Last Name Date of Birth                          Address  \\\n",
       "0      Sarah     Chang    1989-12-24                764 Howard Tunnel   \n",
       "1     Daniel    Taylor    1985-03-15  4892 Jessica Turnpike Suite 781   \n",
       "2    Heather   Stewart    1993-09-20       778 Linda Orchard Apt. 609   \n",
       "3  Katherine    Dillon    1986-12-22    139 Linda Crossroad Suite 115   \n",
       "4      Sheri    Bolton    1991-02-24              1858 Lauren Orchard   \n",
       "\n",
       "   Zipcode  Gender Race / Ethnicity English Fluency Spanish Fluency  \\\n",
       "0    30167  Female            Black          Fluent           Basic   \n",
       "1    86553    Male            Black          Fluent           Basic   \n",
       "2    30167  Female            Black      Proficient           Basic   \n",
       "3    30167  Female            Black           Basic           Basic   \n",
       "4    60531  Female            Black      Proficient      Proficient   \n",
       "\n",
       "     Education        ...         College GPA  Years of Experience  \\\n",
       "0  High School        ...                2.52                  8.8   \n",
       "1  High School        ...                3.90                 13.7   \n",
       "2  High School        ...                2.63                  5.2   \n",
       "3  High School        ...                3.88                 12.5   \n",
       "4  High School        ...                3.30                  7.0   \n",
       "\n",
       "   Years of Volunteering  Myers Briggs Type Twitter followers  \\\n",
       "0                    0.0               ISTJ               693   \n",
       "1                    0.0               ISFJ               507   \n",
       "2                    0.0               INFP               599   \n",
       "3                    0.0               ISFP              1321   \n",
       "4                    0.0               ISFJ               414   \n",
       "\n",
       "   Instagram Followers  Requires Sponsorship  Customer Satisfaction Rating  \\\n",
       "0                 1108                 False                          2.21   \n",
       "1                 1259                 False                          3.37   \n",
       "2                  868                 False                          1.50   \n",
       "3                  889                  True                          2.89   \n",
       "4                13760                  True                          1.94   \n",
       "\n",
       "   Sales Rating             Fired  \n",
       "0          2.07  Current Employee  \n",
       "1          2.98  Current Employee  \n",
       "2          1.36  Current Employee  \n",
       "3          2.62  Current Employee  \n",
       "4          1.78  Current Employee  \n",
       "\n",
       "[5 rows x 21 columns]"
      ]
     },
     "execution_count": 232,
     "metadata": {},
     "output_type": "execute_result"
    }
   ],
   "source": [
    "df.head()"
   ]
  },
  {
   "cell_type": "code",
   "execution_count": 233,
   "metadata": {
    "deletable": false,
    "editable": false,
    "nbgrader": {
     "checksum": "b5485d5af838398f9041b721a32d3f6e",
     "grade": false,
     "grade_id": "cell-bf0b10e305c37259",
     "locked": true,
     "schema_version": 1,
     "solution": false
    }
   },
   "outputs": [
    {
     "data": {
      "text/html": [
       "<div>\n",
       "<style scoped>\n",
       "    .dataframe tbody tr th:only-of-type {\n",
       "        vertical-align: middle;\n",
       "    }\n",
       "\n",
       "    .dataframe tbody tr th {\n",
       "        vertical-align: top;\n",
       "    }\n",
       "\n",
       "    .dataframe thead th {\n",
       "        text-align: right;\n",
       "    }\n",
       "</style>\n",
       "<table border=\"1\" class=\"dataframe\">\n",
       "  <thead>\n",
       "    <tr style=\"text-align: right;\">\n",
       "      <th></th>\n",
       "      <th>First Name</th>\n",
       "      <th>Last Name</th>\n",
       "      <th>Date of Birth</th>\n",
       "      <th>Address</th>\n",
       "      <th>Zipcode</th>\n",
       "      <th>Gender</th>\n",
       "      <th>Race / Ethnicity</th>\n",
       "      <th>English Fluency</th>\n",
       "      <th>Spanish Fluency</th>\n",
       "      <th>Education</th>\n",
       "      <th>...</th>\n",
       "      <th>College GPA</th>\n",
       "      <th>Years of Experience</th>\n",
       "      <th>Years of Volunteering</th>\n",
       "      <th>Myers Briggs Type</th>\n",
       "      <th>Twitter followers</th>\n",
       "      <th>Instagram Followers</th>\n",
       "      <th>Requires Sponsorship</th>\n",
       "      <th>Customer Satisfaction Rating</th>\n",
       "      <th>Sales Rating</th>\n",
       "      <th>Fired</th>\n",
       "    </tr>\n",
       "  </thead>\n",
       "  <tbody>\n",
       "    <tr>\n",
       "      <th>count</th>\n",
       "      <td>2000</td>\n",
       "      <td>2000</td>\n",
       "      <td>2000</td>\n",
       "      <td>2000</td>\n",
       "      <td>2000.000000</td>\n",
       "      <td>2000</td>\n",
       "      <td>2000</td>\n",
       "      <td>2000</td>\n",
       "      <td>2000</td>\n",
       "      <td>2000</td>\n",
       "      <td>...</td>\n",
       "      <td>1645.000000</td>\n",
       "      <td>2000.000000</td>\n",
       "      <td>2000.000000</td>\n",
       "      <td>2000</td>\n",
       "      <td>2000.000000</td>\n",
       "      <td>2.000000e+03</td>\n",
       "      <td>2000</td>\n",
       "      <td>2000.000000</td>\n",
       "      <td>2000.00000</td>\n",
       "      <td>2000</td>\n",
       "    </tr>\n",
       "    <tr>\n",
       "      <th>unique</th>\n",
       "      <td>477</td>\n",
       "      <td>696</td>\n",
       "      <td>1701</td>\n",
       "      <td>2000</td>\n",
       "      <td>NaN</td>\n",
       "      <td>2</td>\n",
       "      <td>3</td>\n",
       "      <td>3</td>\n",
       "      <td>3</td>\n",
       "      <td>5</td>\n",
       "      <td>...</td>\n",
       "      <td>NaN</td>\n",
       "      <td>NaN</td>\n",
       "      <td>NaN</td>\n",
       "      <td>16</td>\n",
       "      <td>NaN</td>\n",
       "      <td>NaN</td>\n",
       "      <td>2</td>\n",
       "      <td>NaN</td>\n",
       "      <td>NaN</td>\n",
       "      <td>2</td>\n",
       "    </tr>\n",
       "    <tr>\n",
       "      <th>top</th>\n",
       "      <td>Michael</td>\n",
       "      <td>Smith</td>\n",
       "      <td>1997-06-28</td>\n",
       "      <td>218 Karen Roads</td>\n",
       "      <td>NaN</td>\n",
       "      <td>Female</td>\n",
       "      <td>Black</td>\n",
       "      <td>Fluent</td>\n",
       "      <td>Basic</td>\n",
       "      <td>High School</td>\n",
       "      <td>...</td>\n",
       "      <td>NaN</td>\n",
       "      <td>NaN</td>\n",
       "      <td>NaN</td>\n",
       "      <td>ISFJ</td>\n",
       "      <td>NaN</td>\n",
       "      <td>NaN</td>\n",
       "      <td>False</td>\n",
       "      <td>NaN</td>\n",
       "      <td>NaN</td>\n",
       "      <td>Current Employee</td>\n",
       "    </tr>\n",
       "    <tr>\n",
       "      <th>freq</th>\n",
       "      <td>42</td>\n",
       "      <td>45</td>\n",
       "      <td>4</td>\n",
       "      <td>1</td>\n",
       "      <td>NaN</td>\n",
       "      <td>1201</td>\n",
       "      <td>1000</td>\n",
       "      <td>1183</td>\n",
       "      <td>1795</td>\n",
       "      <td>881</td>\n",
       "      <td>...</td>\n",
       "      <td>NaN</td>\n",
       "      <td>NaN</td>\n",
       "      <td>NaN</td>\n",
       "      <td>218</td>\n",
       "      <td>NaN</td>\n",
       "      <td>NaN</td>\n",
       "      <td>1813</td>\n",
       "      <td>NaN</td>\n",
       "      <td>NaN</td>\n",
       "      <td>1844</td>\n",
       "    </tr>\n",
       "    <tr>\n",
       "      <th>mean</th>\n",
       "      <td>NaN</td>\n",
       "      <td>NaN</td>\n",
       "      <td>NaN</td>\n",
       "      <td>NaN</td>\n",
       "      <td>53300.740500</td>\n",
       "      <td>NaN</td>\n",
       "      <td>NaN</td>\n",
       "      <td>NaN</td>\n",
       "      <td>NaN</td>\n",
       "      <td>NaN</td>\n",
       "      <td>...</td>\n",
       "      <td>3.251465</td>\n",
       "      <td>8.042550</td>\n",
       "      <td>0.263000</td>\n",
       "      <td>NaN</td>\n",
       "      <td>1065.144500</td>\n",
       "      <td>9.586589e+03</td>\n",
       "      <td>NaN</td>\n",
       "      <td>2.220175</td>\n",
       "      <td>2.06511</td>\n",
       "      <td>NaN</td>\n",
       "    </tr>\n",
       "    <tr>\n",
       "      <th>std</th>\n",
       "      <td>NaN</td>\n",
       "      <td>NaN</td>\n",
       "      <td>NaN</td>\n",
       "      <td>NaN</td>\n",
       "      <td>17455.384226</td>\n",
       "      <td>NaN</td>\n",
       "      <td>NaN</td>\n",
       "      <td>NaN</td>\n",
       "      <td>NaN</td>\n",
       "      <td>NaN</td>\n",
       "      <td>...</td>\n",
       "      <td>0.430466</td>\n",
       "      <td>4.674366</td>\n",
       "      <td>0.907487</td>\n",
       "      <td>NaN</td>\n",
       "      <td>7499.266485</td>\n",
       "      <td>2.269563e+05</td>\n",
       "      <td>NaN</td>\n",
       "      <td>1.058473</td>\n",
       "      <td>0.97946</td>\n",
       "      <td>NaN</td>\n",
       "    </tr>\n",
       "    <tr>\n",
       "      <th>min</th>\n",
       "      <td>NaN</td>\n",
       "      <td>NaN</td>\n",
       "      <td>NaN</td>\n",
       "      <td>NaN</td>\n",
       "      <td>24310.000000</td>\n",
       "      <td>NaN</td>\n",
       "      <td>NaN</td>\n",
       "      <td>NaN</td>\n",
       "      <td>NaN</td>\n",
       "      <td>NaN</td>\n",
       "      <td>...</td>\n",
       "      <td>2.500000</td>\n",
       "      <td>0.000000</td>\n",
       "      <td>0.000000</td>\n",
       "      <td>NaN</td>\n",
       "      <td>300.000000</td>\n",
       "      <td>5.000000e+02</td>\n",
       "      <td>NaN</td>\n",
       "      <td>0.000000</td>\n",
       "      <td>0.00000</td>\n",
       "      <td>NaN</td>\n",
       "    </tr>\n",
       "    <tr>\n",
       "      <th>25%</th>\n",
       "      <td>NaN</td>\n",
       "      <td>NaN</td>\n",
       "      <td>NaN</td>\n",
       "      <td>NaN</td>\n",
       "      <td>43357.000000</td>\n",
       "      <td>NaN</td>\n",
       "      <td>NaN</td>\n",
       "      <td>NaN</td>\n",
       "      <td>NaN</td>\n",
       "      <td>NaN</td>\n",
       "      <td>...</td>\n",
       "      <td>2.870000</td>\n",
       "      <td>3.900000</td>\n",
       "      <td>0.000000</td>\n",
       "      <td>NaN</td>\n",
       "      <td>364.000000</td>\n",
       "      <td>6.710000e+02</td>\n",
       "      <td>NaN</td>\n",
       "      <td>1.307500</td>\n",
       "      <td>1.25750</td>\n",
       "      <td>NaN</td>\n",
       "    </tr>\n",
       "    <tr>\n",
       "      <th>50%</th>\n",
       "      <td>NaN</td>\n",
       "      <td>NaN</td>\n",
       "      <td>NaN</td>\n",
       "      <td>NaN</td>\n",
       "      <td>55864.000000</td>\n",
       "      <td>NaN</td>\n",
       "      <td>NaN</td>\n",
       "      <td>NaN</td>\n",
       "      <td>NaN</td>\n",
       "      <td>NaN</td>\n",
       "      <td>...</td>\n",
       "      <td>3.270000</td>\n",
       "      <td>8.100000</td>\n",
       "      <td>0.000000</td>\n",
       "      <td>NaN</td>\n",
       "      <td>466.500000</td>\n",
       "      <td>9.925000e+02</td>\n",
       "      <td>NaN</td>\n",
       "      <td>2.250000</td>\n",
       "      <td>2.06000</td>\n",
       "      <td>NaN</td>\n",
       "    </tr>\n",
       "    <tr>\n",
       "      <th>75%</th>\n",
       "      <td>NaN</td>\n",
       "      <td>NaN</td>\n",
       "      <td>NaN</td>\n",
       "      <td>NaN</td>\n",
       "      <td>60531.000000</td>\n",
       "      <td>NaN</td>\n",
       "      <td>NaN</td>\n",
       "      <td>NaN</td>\n",
       "      <td>NaN</td>\n",
       "      <td>NaN</td>\n",
       "      <td>...</td>\n",
       "      <td>3.610000</td>\n",
       "      <td>12.100000</td>\n",
       "      <td>0.000000</td>\n",
       "      <td>NaN</td>\n",
       "      <td>769.250000</td>\n",
       "      <td>2.042000e+03</td>\n",
       "      <td>NaN</td>\n",
       "      <td>3.080000</td>\n",
       "      <td>2.86000</td>\n",
       "      <td>NaN</td>\n",
       "    </tr>\n",
       "    <tr>\n",
       "      <th>max</th>\n",
       "      <td>NaN</td>\n",
       "      <td>NaN</td>\n",
       "      <td>NaN</td>\n",
       "      <td>NaN</td>\n",
       "      <td>86553.000000</td>\n",
       "      <td>NaN</td>\n",
       "      <td>NaN</td>\n",
       "      <td>NaN</td>\n",
       "      <td>NaN</td>\n",
       "      <td>NaN</td>\n",
       "      <td>...</td>\n",
       "      <td>4.000000</td>\n",
       "      <td>17.000000</td>\n",
       "      <td>5.000000</td>\n",
       "      <td>NaN</td>\n",
       "      <td>275255.000000</td>\n",
       "      <td>9.798199e+06</td>\n",
       "      <td>NaN</td>\n",
       "      <td>4.950000</td>\n",
       "      <td>4.68000</td>\n",
       "      <td>NaN</td>\n",
       "    </tr>\n",
       "  </tbody>\n",
       "</table>\n",
       "<p>11 rows × 21 columns</p>\n",
       "</div>"
      ],
      "text/plain": [
       "       First Name Last Name Date of Birth          Address       Zipcode  \\\n",
       "count        2000      2000          2000             2000   2000.000000   \n",
       "unique        477       696          1701             2000           NaN   \n",
       "top       Michael     Smith    1997-06-28  218 Karen Roads           NaN   \n",
       "freq           42        45             4                1           NaN   \n",
       "mean          NaN       NaN           NaN              NaN  53300.740500   \n",
       "std           NaN       NaN           NaN              NaN  17455.384226   \n",
       "min           NaN       NaN           NaN              NaN  24310.000000   \n",
       "25%           NaN       NaN           NaN              NaN  43357.000000   \n",
       "50%           NaN       NaN           NaN              NaN  55864.000000   \n",
       "75%           NaN       NaN           NaN              NaN  60531.000000   \n",
       "max           NaN       NaN           NaN              NaN  86553.000000   \n",
       "\n",
       "        Gender Race / Ethnicity English Fluency Spanish Fluency    Education  \\\n",
       "count     2000             2000            2000            2000         2000   \n",
       "unique       2                3               3               3            5   \n",
       "top     Female            Black          Fluent           Basic  High School   \n",
       "freq      1201             1000            1183            1795          881   \n",
       "mean       NaN              NaN             NaN             NaN          NaN   \n",
       "std        NaN              NaN             NaN             NaN          NaN   \n",
       "min        NaN              NaN             NaN             NaN          NaN   \n",
       "25%        NaN              NaN             NaN             NaN          NaN   \n",
       "50%        NaN              NaN             NaN             NaN          NaN   \n",
       "75%        NaN              NaN             NaN             NaN          NaN   \n",
       "max        NaN              NaN             NaN             NaN          NaN   \n",
       "\n",
       "              ...         College GPA  Years of Experience  \\\n",
       "count         ...         1645.000000          2000.000000   \n",
       "unique        ...                 NaN                  NaN   \n",
       "top           ...                 NaN                  NaN   \n",
       "freq          ...                 NaN                  NaN   \n",
       "mean          ...            3.251465             8.042550   \n",
       "std           ...            0.430466             4.674366   \n",
       "min           ...            2.500000             0.000000   \n",
       "25%           ...            2.870000             3.900000   \n",
       "50%           ...            3.270000             8.100000   \n",
       "75%           ...            3.610000            12.100000   \n",
       "max           ...            4.000000            17.000000   \n",
       "\n",
       "        Years of Volunteering  Myers Briggs Type Twitter followers  \\\n",
       "count             2000.000000               2000       2000.000000   \n",
       "unique                    NaN                 16               NaN   \n",
       "top                       NaN               ISFJ               NaN   \n",
       "freq                      NaN                218               NaN   \n",
       "mean                 0.263000                NaN       1065.144500   \n",
       "std                  0.907487                NaN       7499.266485   \n",
       "min                  0.000000                NaN        300.000000   \n",
       "25%                  0.000000                NaN        364.000000   \n",
       "50%                  0.000000                NaN        466.500000   \n",
       "75%                  0.000000                NaN        769.250000   \n",
       "max                  5.000000                NaN     275255.000000   \n",
       "\n",
       "        Instagram Followers  Requires Sponsorship  \\\n",
       "count          2.000000e+03                  2000   \n",
       "unique                  NaN                     2   \n",
       "top                     NaN                 False   \n",
       "freq                    NaN                  1813   \n",
       "mean           9.586589e+03                   NaN   \n",
       "std            2.269563e+05                   NaN   \n",
       "min            5.000000e+02                   NaN   \n",
       "25%            6.710000e+02                   NaN   \n",
       "50%            9.925000e+02                   NaN   \n",
       "75%            2.042000e+03                   NaN   \n",
       "max            9.798199e+06                   NaN   \n",
       "\n",
       "       Customer Satisfaction Rating  Sales Rating             Fired  \n",
       "count                   2000.000000    2000.00000              2000  \n",
       "unique                          NaN           NaN                 2  \n",
       "top                             NaN           NaN  Current Employee  \n",
       "freq                            NaN           NaN              1844  \n",
       "mean                       2.220175       2.06511               NaN  \n",
       "std                        1.058473       0.97946               NaN  \n",
       "min                        0.000000       0.00000               NaN  \n",
       "25%                        1.307500       1.25750               NaN  \n",
       "50%                        2.250000       2.06000               NaN  \n",
       "75%                        3.080000       2.86000               NaN  \n",
       "max                        4.950000       4.68000               NaN  \n",
       "\n",
       "[11 rows x 21 columns]"
      ]
     },
     "execution_count": 233,
     "metadata": {},
     "output_type": "execute_result"
    }
   ],
   "source": [
    "df.describe(include=\"all\")"
   ]
  },
  {
   "cell_type": "code",
   "execution_count": 234,
   "metadata": {
    "deletable": false,
    "editable": false,
    "nbgrader": {
     "checksum": "f0afcc4b56553ed231f2820e4c556b75",
     "grade": false,
     "grade_id": "cell-c82a0bc350265b0e",
     "locked": true,
     "schema_version": 1,
     "solution": false
    }
   },
   "outputs": [
    {
     "name": "stdout",
     "output_type": "stream",
     "text": [
      "The columns of data are:\n"
     ]
    },
    {
     "data": {
      "text/plain": [
       "['First Name',\n",
       " 'Last Name',\n",
       " 'Date of Birth',\n",
       " 'Address',\n",
       " 'Zipcode',\n",
       " 'Gender',\n",
       " 'Race / Ethnicity',\n",
       " 'English Fluency',\n",
       " 'Spanish Fluency',\n",
       " 'Education',\n",
       " 'High School GPA',\n",
       " 'College GPA',\n",
       " 'Years of Experience',\n",
       " 'Years of Volunteering',\n",
       " 'Myers Briggs Type',\n",
       " 'Twitter followers',\n",
       " 'Instagram Followers',\n",
       " 'Requires Sponsorship',\n",
       " 'Customer Satisfaction Rating',\n",
       " 'Sales Rating',\n",
       " 'Fired']"
      ]
     },
     "execution_count": 234,
     "metadata": {},
     "output_type": "execute_result"
    }
   ],
   "source": [
    "print(\"The columns of data are:\")\n",
    "list(df.columns)"
   ]
  },
  {
   "cell_type": "markdown",
   "metadata": {
    "deletable": false,
    "editable": false,
    "nbgrader": {
     "checksum": "9c7bcfd15862ed179ed9bcac94715dd7",
     "grade": false,
     "grade_id": "cell-e51f79d4bbd14476",
     "locked": true,
     "schema_version": 1,
     "solution": false
    }
   },
   "source": [
    "Based on the data above we need to do the following:\n",
    "\n",
    "1. Split Myers Briggs into subtypes\n",
    "1. Convert categorical columns to dummy variables\n",
    "1. Calculate Age based on date of birth"
   ]
  },
  {
   "cell_type": "markdown",
   "metadata": {
    "deletable": false,
    "editable": false,
    "nbgrader": {
     "checksum": "ebe3dd221afb3a5af0743d2d674101d9",
     "grade": false,
     "grade_id": "cell-759ebf896978ca5d",
     "locked": true,
     "schema_version": 1,
     "solution": false
    }
   },
   "source": [
    "The [Myers Briggs Type Indicator](https://en.wikipedia.org/wiki/Myers%E2%80%93Briggs_Type_Indicator) (MBTI) descibes people as one of two types for each of:\n",
    "\n",
    "* extraversion (E) or introversion (I)\n",
    "* sensing (S) or intuition (N)\n",
    "* thinking (T) or feeling (F)\n",
    "* judgment (J) or perception (P)\n",
    "\n",
    "It would make more sense for us to represent people as one or the other of these instead of creating all the possible cases. That way a model can learn based on each of those factors as well as their combination. \n",
    "\n",
    "Your next task is to split the MBTI column into four columns in the dataframe:\n",
    "\n",
    "* MBTI_EI with value `E` or `I`\n",
    "* MBTI_SN with value `S` or `N`\n",
    "* MBTI_TF with value `T` or `F`\n",
    "* MBTI_JP with value `J` or `P`\n",
    "\n",
    "That correspond to the same row's Myers Briggs Type."
   ]
  },
  {
   "cell_type": "code",
   "execution_count": 235,
   "metadata": {
    "deletable": false,
    "nbgrader": {
     "checksum": "684f43b481383ae1fa1488100efe524b",
     "grade": false,
     "grade_id": "cell-b96d43f098c26707",
     "locked": false,
     "schema_version": 1,
     "solution": true
    }
   },
   "outputs": [],
   "source": [
    "df[\"MBTI_EI\"] = df[\"Myers Briggs Type\"].str[:1]\n",
    "df[\"MBTI_SN\"] = df[\"Myers Briggs Type\"].str[1:2]\n",
    "df[\"MBTI_TF\"] = df[\"Myers Briggs Type\"].str[2:3]\n",
    "df[\"MBTI_JP\"] = df[\"Myers Briggs Type\"].str[3:4]"
   ]
  },
  {
   "cell_type": "code",
   "execution_count": 236,
   "metadata": {
    "deletable": false,
    "editable": false,
    "nbgrader": {
     "checksum": "a94862251cdb730f863c4c4565ee744e",
     "grade": true,
     "grade_id": "cell-1b5cf11c2512def1",
     "locked": true,
     "points": 10,
     "schema_version": 1,
     "solution": false
    }
   },
   "outputs": [],
   "source": [
    "assert len(set(df[\"MBTI_EI\"])) == 2\n",
    "assert \"E\" in set(df[\"MBTI_EI\"]) and \"I\" in set(df[\"MBTI_EI\"])\n",
    "assert len(set(df[\"MBTI_SN\"])) == 2\n",
    "assert \"S\" in set(df[\"MBTI_SN\"]) and \"N\" in set(df[\"MBTI_SN\"])\n",
    "assert len(set(df[\"MBTI_TF\"])) == 2\n",
    "assert \"T\" in set(df[\"MBTI_TF\"]) and \"F\" in set(df[\"MBTI_TF\"])\n",
    "assert len(set(df[\"MBTI_JP\"])) == 2\n",
    "assert \"J\" in set(df[\"MBTI_JP\"]) and \"P\" in set(df[\"MBTI_JP\"])"
   ]
  },
  {
   "cell_type": "markdown",
   "metadata": {
    "deletable": false,
    "editable": false,
    "nbgrader": {
     "checksum": "3577313ae433ce752fa56e6ac7a01b96",
     "grade": false,
     "grade_id": "cell-51a7104ebad2aa72",
     "locked": true,
     "schema_version": 1,
     "solution": false
    }
   },
   "source": [
    "1. ~~Split Myers Briggs into subtypes~~\n",
    "1. Convert categorical columns to dummy variables\n",
    "1. Calculate Age based on date of birth"
   ]
  },
  {
   "cell_type": "markdown",
   "metadata": {
    "deletable": false,
    "editable": false,
    "nbgrader": {
     "checksum": "bed782daa0aaa43f260ea87cb25483a0",
     "grade": false,
     "grade_id": "cell-364e01542d424264",
     "locked": true,
     "schema_version": 1,
     "solution": false
    }
   },
   "source": [
    "Dumy variables are variables that allow us to convert a category into several binary variables. For example, if we had a color value that we were storing and we knew it could only have the values `red`, `green`, and `blue`, then instead of storing the color as those strings, we can store three binary variables: `is_red`, `is_green`, and `is_blue`. \n",
    "\n",
    "We can do this in pandas easily by using [`get_dummies`](https://pandas.pydata.org/pandas-docs/stable/generated/pandas.get_dummies.html)."
   ]
  },
  {
   "cell_type": "code",
   "execution_count": 246,
   "metadata": {
    "deletable": false,
    "nbgrader": {
     "checksum": "063af68aa6b85d9a02708f53ebc5109a",
     "grade": false,
     "grade_id": "cell-32271c292a515ef3",
     "locked": false,
     "schema_version": 1,
     "solution": true
    }
   },
   "outputs": [],
   "source": [
    "# Determine all the categorical columns and save them to categorical_columns\n",
    "# Note that this does not include the binary features\n",
    "\n",
    "categorical_columns = pd.DataFrame({\"MBTI_EI\": df[\"MBTI_EI\"], \"MBTI_SN\": df[\"MBTI_SN\"], \"MBTI_TF\": df[\"MBTI_TF\"], \"MBTI_JP\": df[\"MBTI_JP\"], \"Gender\": df[\"Gender\"], \"Race / Ethnicity\": df[\"Race / Ethnicity\"], \"English Fluency\": df[\"English Fluency\"], \"Spanish Fluency\": df[\"Spanish Fluency\"], \"Education\": df[\"Education\"], \"Fired\": df[\"Fired\"]})"
   ]
  },
  {
   "cell_type": "code",
   "execution_count": 247,
   "metadata": {
    "deletable": false,
    "editable": false,
    "nbgrader": {
     "checksum": "18a0f09a797269b018ae2cf0f3e85960",
     "grade": true,
     "grade_id": "cell-528eea88864f2926",
     "locked": true,
     "points": 10,
     "schema_version": 1,
     "solution": false
    }
   },
   "outputs": [],
   "source": [
    "assert len(categorical_columns) > 8\n",
    "for category in categorical_columns:\n",
    "    assert category in df.columns"
   ]
  },
  {
   "cell_type": "code",
   "execution_count": 248,
   "metadata": {
    "deletable": false,
    "nbgrader": {
     "checksum": "69961777da44b2bd9fc3cd9ebf08b8c4",
     "grade": false,
     "grade_id": "cell-ad307669e4346527",
     "locked": false,
     "schema_version": 1,
     "solution": true
    }
   },
   "outputs": [
    {
     "data": {
      "text/plain": [
       "Index(['First Name', 'Last Name', 'Date of Birth', 'Address', 'Zipcode',\n",
       "       'Gender', 'Race / Ethnicity', 'English Fluency', 'Spanish Fluency',\n",
       "       'Education', 'High School GPA', 'College GPA', 'Years of Experience',\n",
       "       'Years of Volunteering', 'Myers Briggs Type', 'Twitter followers',\n",
       "       'Instagram Followers', 'Requires Sponsorship',\n",
       "       'Customer Satisfaction Rating', 'Sales Rating', 'Fired', 'MBTI_EI',\n",
       "       'MBTI_SN', 'MBTI_TF', 'MBTI_JP', 'MBTI_EI_E', 'MBTI_EI_I', 'MBTI_SN_N',\n",
       "       'MBTI_SN_S', 'MBTI_TF_F', 'MBTI_TF_T', 'MBTI_JP_J', 'MBTI_JP_P',\n",
       "       'Gender_Female', 'Gender_Male', 'Race / Ethnicity_Black',\n",
       "       'Race / Ethnicity_Caucasian', 'Race / Ethnicity_Hispanic',\n",
       "       'English Fluency_Basic', 'English Fluency_Fluent',\n",
       "       'English Fluency_Proficient', 'Spanish Fluency_Basic',\n",
       "       'Spanish Fluency_Fluent', 'Spanish Fluency_Proficient',\n",
       "       'Education_Associates', 'Education_Graduate', 'Education_High School',\n",
       "       'Education_None', 'Education_Undergraduate', 'Fired_Current Employee',\n",
       "       'Fired_Fired'],\n",
       "      dtype='object')"
      ]
     },
     "execution_count": 248,
     "metadata": {},
     "output_type": "execute_result"
    }
   ],
   "source": [
    "# For every column in the categorical features\n",
    "# Calculate the dummy variables and add them to the dataframe\n",
    "\n",
    "tmp = pd.get_dummies(categorical_columns)\n",
    "df = df.join(tmp, how = \"outer\")\n",
    "df.columns"
   ]
  },
  {
   "cell_type": "code",
   "execution_count": 249,
   "metadata": {
    "deletable": false,
    "editable": false,
    "nbgrader": {
     "checksum": "20a089162c8e028bada006b2ac24c34c",
     "grade": false,
     "grade_id": "cell-d477e9bead9db0a6",
     "locked": true,
     "schema_version": 1,
     "solution": false
    }
   },
   "outputs": [],
   "source": [
    "assert len(list(df.columns)) > 45"
   ]
  },
  {
   "cell_type": "code",
   "execution_count": 250,
   "metadata": {
    "deletable": false,
    "editable": false,
    "nbgrader": {
     "checksum": "f24fb58ec9e0feb12116a391b973879f",
     "grade": false,
     "grade_id": "cell-4b43f9bb988091cf",
     "locked": true,
     "schema_version": 1,
     "solution": false
    }
   },
   "outputs": [
    {
     "name": "stdout",
     "output_type": "stream",
     "text": [
      "The current columns are:\n"
     ]
    },
    {
     "data": {
      "text/plain": [
       "['First Name',\n",
       " 'Last Name',\n",
       " 'Date of Birth',\n",
       " 'Address',\n",
       " 'Zipcode',\n",
       " 'Gender',\n",
       " 'Race / Ethnicity',\n",
       " 'English Fluency',\n",
       " 'Spanish Fluency',\n",
       " 'Education',\n",
       " 'High School GPA',\n",
       " 'College GPA',\n",
       " 'Years of Experience',\n",
       " 'Years of Volunteering',\n",
       " 'Myers Briggs Type',\n",
       " 'Twitter followers',\n",
       " 'Instagram Followers',\n",
       " 'Requires Sponsorship',\n",
       " 'Customer Satisfaction Rating',\n",
       " 'Sales Rating',\n",
       " 'Fired',\n",
       " 'MBTI_EI',\n",
       " 'MBTI_SN',\n",
       " 'MBTI_TF',\n",
       " 'MBTI_JP',\n",
       " 'MBTI_EI_E',\n",
       " 'MBTI_EI_I',\n",
       " 'MBTI_SN_N',\n",
       " 'MBTI_SN_S',\n",
       " 'MBTI_TF_F',\n",
       " 'MBTI_TF_T',\n",
       " 'MBTI_JP_J',\n",
       " 'MBTI_JP_P',\n",
       " 'Gender_Female',\n",
       " 'Gender_Male',\n",
       " 'Race / Ethnicity_Black',\n",
       " 'Race / Ethnicity_Caucasian',\n",
       " 'Race / Ethnicity_Hispanic',\n",
       " 'English Fluency_Basic',\n",
       " 'English Fluency_Fluent',\n",
       " 'English Fluency_Proficient',\n",
       " 'Spanish Fluency_Basic',\n",
       " 'Spanish Fluency_Fluent',\n",
       " 'Spanish Fluency_Proficient',\n",
       " 'Education_Associates',\n",
       " 'Education_Graduate',\n",
       " 'Education_High School',\n",
       " 'Education_None',\n",
       " 'Education_Undergraduate',\n",
       " 'Fired_Current Employee',\n",
       " 'Fired_Fired']"
      ]
     },
     "execution_count": 250,
     "metadata": {},
     "output_type": "execute_result"
    }
   ],
   "source": [
    "print(\"The current columns are:\")\n",
    "list(df.columns)"
   ]
  },
  {
   "cell_type": "code",
   "execution_count": 251,
   "metadata": {
    "deletable": false,
    "nbgrader": {
     "checksum": "6db99454a146fe855b21a4f20227e750",
     "grade": false,
     "grade_id": "cell-10890eae4243cb8d",
     "locked": false,
     "schema_version": 1,
     "solution": true
    }
   },
   "outputs": [],
   "source": [
    "# Now let's drop all the categorical features columns from the dataframe\n",
    "# So that we don't have duplicate information stored\n",
    "df = df.drop(columns = ['Race / Ethnicity', 'English Fluency', 'Spanish Fluency', 'Education', 'Myers Briggs Type',  'MBTI_EI', 'MBTI_SN', 'MBTI_TF', 'MBTI_JP',])"
   ]
  },
  {
   "cell_type": "code",
   "execution_count": 252,
   "metadata": {
    "deletable": false,
    "editable": false,
    "nbgrader": {
     "checksum": "10113a2235b4d47c0b3e356e72bbacfa",
     "grade": false,
     "grade_id": "cell-c0598d253d832ddd",
     "locked": true,
     "schema_version": 1,
     "solution": false
    }
   },
   "outputs": [
    {
     "name": "stdout",
     "output_type": "stream",
     "text": [
      "The current columns are:\n"
     ]
    },
    {
     "data": {
      "text/plain": [
       "['First Name',\n",
       " 'Last Name',\n",
       " 'Date of Birth',\n",
       " 'Address',\n",
       " 'Zipcode',\n",
       " 'Gender',\n",
       " 'High School GPA',\n",
       " 'College GPA',\n",
       " 'Years of Experience',\n",
       " 'Years of Volunteering',\n",
       " 'Twitter followers',\n",
       " 'Instagram Followers',\n",
       " 'Requires Sponsorship',\n",
       " 'Customer Satisfaction Rating',\n",
       " 'Sales Rating',\n",
       " 'Fired',\n",
       " 'MBTI_EI_E',\n",
       " 'MBTI_EI_I',\n",
       " 'MBTI_SN_N',\n",
       " 'MBTI_SN_S',\n",
       " 'MBTI_TF_F',\n",
       " 'MBTI_TF_T',\n",
       " 'MBTI_JP_J',\n",
       " 'MBTI_JP_P',\n",
       " 'Gender_Female',\n",
       " 'Gender_Male',\n",
       " 'Race / Ethnicity_Black',\n",
       " 'Race / Ethnicity_Caucasian',\n",
       " 'Race / Ethnicity_Hispanic',\n",
       " 'English Fluency_Basic',\n",
       " 'English Fluency_Fluent',\n",
       " 'English Fluency_Proficient',\n",
       " 'Spanish Fluency_Basic',\n",
       " 'Spanish Fluency_Fluent',\n",
       " 'Spanish Fluency_Proficient',\n",
       " 'Education_Associates',\n",
       " 'Education_Graduate',\n",
       " 'Education_High School',\n",
       " 'Education_None',\n",
       " 'Education_Undergraduate',\n",
       " 'Fired_Current Employee',\n",
       " 'Fired_Fired']"
      ]
     },
     "execution_count": 252,
     "metadata": {},
     "output_type": "execute_result"
    }
   ],
   "source": [
    "print(\"The current columns are:\")\n",
    "list(df.columns)"
   ]
  },
  {
   "cell_type": "code",
   "execution_count": 253,
   "metadata": {
    "deletable": false,
    "editable": false,
    "nbgrader": {
     "checksum": "7b24f92768f16089c612b609ca5ba254",
     "grade": true,
     "grade_id": "cell-a6172310793c3289",
     "locked": true,
     "points": 10,
     "schema_version": 1,
     "solution": false
    }
   },
   "outputs": [],
   "source": [
    "assert 45 > len(list(df.columns)) > 30"
   ]
  },
  {
   "cell_type": "markdown",
   "metadata": {
    "deletable": false,
    "editable": false,
    "nbgrader": {
     "checksum": "2177a2cddf2c04f3eb1aa852b4f45181",
     "grade": false,
     "grade_id": "cell-48ebecdc645e8f6a",
     "locked": true,
     "schema_version": 1,
     "solution": false
    }
   },
   "source": [
    "1. ~~Split Myers Briggs into subtypes~~\n",
    "1. ~~Convert categorical columns to dummy variables~~\n",
    "1. Calculate Age based on date of birth"
   ]
  },
  {
   "cell_type": "code",
   "execution_count": 254,
   "metadata": {
    "deletable": false,
    "editable": false,
    "nbgrader": {
     "checksum": "d6293f4b96239c9b3e12e25c419de75f",
     "grade": false,
     "grade_id": "cell-028aecaf0638bb7a",
     "locked": true,
     "schema_version": 1,
     "solution": false
    }
   },
   "outputs": [],
   "source": [
    "def calculate_age(born):\n",
    "    \"\"\"Calculates age based on date of birth using https://stackoverflow.com/a/9754466/818687\n",
    "\n",
    "    Args:\n",
    "        born (datetime): The date of birth\n",
    "\n",
    "    Returns:\n",
    "        int: The age based on date of birth\n",
    "    \"\"\"\n",
    "    # We will use this date as \"today\" to make sure we get consistent results.\n",
    "    today = datetime.datetime.strptime(\"2019-10-20\", \"%Y-%m-%d\") \n",
    "    # today = date.today() # This is what you'd normally do\n",
    "    return today.year - born.year - ((today.month, today.day) < (born.month, born.day))"
   ]
  },
  {
   "cell_type": "code",
   "execution_count": 255,
   "metadata": {
    "deletable": false,
    "nbgrader": {
     "checksum": "5b3728527c3a00344ee43f3f18d5edd1",
     "grade": false,
     "grade_id": "cell-315ed06d1f0428b4",
     "locked": false,
     "schema_version": 1,
     "solution": true
    }
   },
   "outputs": [],
   "source": [
    "# Add an \"Age\" column to the dataframe that calculates people's ages based on their date of birth\n",
    "ages = [0]*df.shape[0]\n",
    "for i in range(df.shape[0]):\n",
    "    dob = datetime.datetime.strptime(df[\"Date of Birth\"][i], \"%Y-%m-%d\") \n",
    "    ages[i] = calculate_age(dob)\n",
    "df[\"Age\"] = ages"
   ]
  },
  {
   "cell_type": "code",
   "execution_count": 256,
   "metadata": {
    "deletable": false,
    "editable": false,
    "nbgrader": {
     "checksum": "00d89dce4a5d9a9c8efff443ce81fab0",
     "grade": true,
     "grade_id": "cell-abfc46abea98fba7",
     "locked": true,
     "points": 20,
     "schema_version": 1,
     "solution": false
    }
   },
   "outputs": [],
   "source": [
    "assert df[\"Age\"].min() == 20\n",
    "assert df[\"Age\"].max() == 36\n",
    "assert df[\"Age\"].median() == 29"
   ]
  },
  {
   "cell_type": "markdown",
   "metadata": {
    "deletable": false,
    "editable": false,
    "nbgrader": {
     "checksum": "793e92cb72a271eb8c9842908586e35e",
     "grade": false,
     "grade_id": "cell-ea0c08afcc388389",
     "locked": true,
     "schema_version": 1,
     "solution": false
    }
   },
   "source": [
    "## Modelling\n",
    "\n",
    "Based on your understanding of the data, select the features that you want to use to predict:\n",
    "\n",
    "1. Customer Satisfaction\n",
    "1. Sales Performance\n",
    "1. Fired"
   ]
  },
  {
   "cell_type": "code",
   "execution_count": 257,
   "metadata": {
    "deletable": false,
    "nbgrader": {
     "checksum": "c3a21b18097115dacd3054d20435d423",
     "grade": false,
     "grade_id": "cell-449eb7f2253cca83",
     "locked": false,
     "schema_version": 1,
     "solution": true
    }
   },
   "outputs": [],
   "source": [
    "# Save the columns we are trying to predict to targets\n",
    "# Make sure that if we had a categorical column, that you use the dummy representation(s)\n",
    "targets = ['Customer Satisfaction Rating', 'Sales Rating', 'Fired_Fired']"
   ]
  },
  {
   "cell_type": "code",
   "execution_count": 258,
   "metadata": {
    "deletable": false,
    "editable": false,
    "nbgrader": {
     "checksum": "d5081927389e999a34fec741f4e5b416",
     "grade": true,
     "grade_id": "cell-458aa3767005cc6d",
     "locked": true,
     "points": 20,
     "schema_version": 1,
     "solution": false
    }
   },
   "outputs": [],
   "source": [
    "assert len(targets) == 3\n",
    "for target in targets:\n",
    "    assert target in df.columns"
   ]
  },
  {
   "cell_type": "markdown",
   "metadata": {
    "deletable": false,
    "editable": false,
    "nbgrader": {
     "checksum": "65973f6f7c1774837c7db8b4d4fc2222",
     "grade": false,
     "grade_id": "cell-001c7adb39caf635",
     "locked": true,
     "schema_version": 1,
     "solution": false
    }
   },
   "source": [
    "Your prediction will be used to rank applicants for interviews with HR. **Which features will you select to use in your model?**"
   ]
  },
  {
   "cell_type": "code",
   "execution_count": 259,
   "metadata": {
    "deletable": false,
    "editable": false,
    "nbgrader": {
     "checksum": "2ca1e6e7f83ad4da5a3185188c638880",
     "grade": false,
     "grade_id": "cell-e436c6aea590b5c0",
     "locked": true,
     "schema_version": 1,
     "solution": false
    }
   },
   "outputs": [
    {
     "name": "stdout",
     "output_type": "stream",
     "text": [
      "The available columns are:\n"
     ]
    },
    {
     "data": {
      "text/plain": [
       "['First Name',\n",
       " 'Last Name',\n",
       " 'Date of Birth',\n",
       " 'Address',\n",
       " 'Zipcode',\n",
       " 'Gender',\n",
       " 'High School GPA',\n",
       " 'College GPA',\n",
       " 'Years of Experience',\n",
       " 'Years of Volunteering',\n",
       " 'Twitter followers',\n",
       " 'Instagram Followers',\n",
       " 'Requires Sponsorship',\n",
       " 'Customer Satisfaction Rating',\n",
       " 'Sales Rating',\n",
       " 'Fired',\n",
       " 'MBTI_EI_E',\n",
       " 'MBTI_EI_I',\n",
       " 'MBTI_SN_N',\n",
       " 'MBTI_SN_S',\n",
       " 'MBTI_TF_F',\n",
       " 'MBTI_TF_T',\n",
       " 'MBTI_JP_J',\n",
       " 'MBTI_JP_P',\n",
       " 'Gender_Female',\n",
       " 'Gender_Male',\n",
       " 'Race / Ethnicity_Black',\n",
       " 'Race / Ethnicity_Caucasian',\n",
       " 'Race / Ethnicity_Hispanic',\n",
       " 'English Fluency_Basic',\n",
       " 'English Fluency_Fluent',\n",
       " 'English Fluency_Proficient',\n",
       " 'Spanish Fluency_Basic',\n",
       " 'Spanish Fluency_Fluent',\n",
       " 'Spanish Fluency_Proficient',\n",
       " 'Education_Associates',\n",
       " 'Education_Graduate',\n",
       " 'Education_High School',\n",
       " 'Education_None',\n",
       " 'Education_Undergraduate',\n",
       " 'Fired_Current Employee',\n",
       " 'Fired_Fired',\n",
       " 'Age']"
      ]
     },
     "execution_count": 259,
     "metadata": {},
     "output_type": "execute_result"
    }
   ],
   "source": [
    "print(\"The available columns are:\")\n",
    "list(df)"
   ]
  },
  {
   "cell_type": "code",
   "execution_count": 337,
   "metadata": {
    "deletable": false,
    "nbgrader": {
     "checksum": "c88e3aa7b5ddf2ca191dfb88b5408d24",
     "grade": false,
     "grade_id": "cell-bd2399d20615cbd1",
     "locked": false,
     "schema_version": 1,
     "solution": true
    }
   },
   "outputs": [],
   "source": [
    "# Enter all the features you want to use in a list and save it to rank_features\n",
    "# These are the features for the model that will rank applicants for interviews\n",
    "# YOUR CODE HERE\n",
    "rank_features = ['Years of Experience', \n",
    " 'Years of Volunteering', \n",
    " 'MBTI_EI_E',\n",
    " 'MBTI_EI_I',\n",
    " 'MBTI_SN_N',\n",
    " 'MBTI_SN_S',\n",
    " 'MBTI_TF_F',\n",
    " 'MBTI_TF_T',\n",
    " 'MBTI_JP_J',\n",
    " 'MBTI_JP_P',\n",
    " 'English Fluency_Basic',\n",
    " 'English Fluency_Fluent',\n",
    " 'English Fluency_Proficient',\n",
    " 'Spanish Fluency_Basic',\n",
    " 'Spanish Fluency_Fluent',\n",
    " 'Spanish Fluency_Proficient',\n",
    " 'Education_Associates',\n",
    " 'Education_Graduate',\n",
    " 'Education_High School',\n",
    " 'Education_None',\n",
    " 'Education_Undergraduate',\n",
    " 'Age',\n",
    " 'Twitter followers',\n",
    " 'Instagram Followers',\n",
    " 'Zipcode',\n",
    " 'Requires Sponsorship',\n",
    " 'Gender_Female']"
   ]
  },
  {
   "cell_type": "markdown",
   "metadata": {
    "deletable": false,
    "editable": false,
    "nbgrader": {
     "checksum": "734ba0669bdc3873fb75b67ef74cc737",
     "grade": false,
     "grade_id": "cell-c35210aa72f0c989",
     "locked": true,
     "schema_version": 1,
     "solution": false
    }
   },
   "source": [
    "Why did you choose the features you did?"
   ]
  },
  {
   "cell_type": "code",
   "execution_count": 338,
   "metadata": {
    "deletable": false,
    "nbgrader": {
     "checksum": "c1ba64004225b01d4be0f1704699b9b5",
     "grade": false,
     "grade_id": "cell-11725eab2a5dc436",
     "locked": false,
     "schema_version": 1,
     "solution": true
    }
   },
   "outputs": [],
   "source": [
    "## Save your reasoning in a string to the variable ranking_reason\n",
    "\n",
    "ranking_reason = \"Since this is a sales job I extracted all the information that I thought my be initally relevant to selling products. For instance, the Meyer Brigg information might be relevant.\""
   ]
  },
  {
   "cell_type": "code",
   "execution_count": 333,
   "metadata": {
    "deletable": false,
    "editable": false,
    "nbgrader": {
     "checksum": "600826aef884a21a0e2ef24b5dd1e3c3",
     "grade": true,
     "grade_id": "cell-8b0e41f067c8ef32",
     "locked": true,
     "points": 20,
     "schema_version": 1,
     "solution": false
    }
   },
   "outputs": [],
   "source": [
    "assert isinstance(ranking_reason, str)\n",
    "assert len(ranking_reason) > 20"
   ]
  },
  {
   "cell_type": "code",
   "execution_count": 339,
   "metadata": {
    "deletable": false,
    "nbgrader": {
     "checksum": "22a9f7d3af3e8f17a19ba1d79448f564",
     "grade": false,
     "grade_id": "cell-d9d5cf91c533af77",
     "locked": false,
     "schema_version": 1,
     "solution": true
    }
   },
   "outputs": [],
   "source": [
    "# Perform a train and test split on the data with the variable names:\n",
    "# rank_x_train for the training features\n",
    "# rank_x_test for the testing features\n",
    "# rank_y_train for the training targets\n",
    "# rank_y_test for the testing targets\n",
    "\n",
    "# The test dataset should be 20% of the total dataset\n",
    "\n",
    "features_df = pd.DataFrame(df, columns = rank_features)\n",
    "targets_df = pd.DataFrame(df, columns = targets)\n",
    "\n",
    "rank_x_train, rank_x_test, rank_y_train, rank_y_test = train_test_split(features_df, targets_df, test_size = 0.2, random_state = 0)"
   ]
  },
  {
   "cell_type": "code",
   "execution_count": 335,
   "metadata": {
    "deletable": false,
    "editable": false,
    "nbgrader": {
     "checksum": "9ebee3fe21ac0f9d65714b1e2df1ba26",
     "grade": true,
     "grade_id": "cell-146c7b1df2f26d90",
     "locked": true,
     "points": 10,
     "schema_version": 1,
     "solution": false
    }
   },
   "outputs": [],
   "source": [
    "assert (len(rank_x_train) / (len(rank_x_test) + len(rank_x_train))) == 0.8\n",
    "assert (len(rank_y_train) / (len(rank_y_test) + len(rank_y_train))) == 0.8\n",
    "assert len(rank_x_train) == len(rank_y_train)\n",
    "assert len(rank_x_test) == len(rank_y_test)"
   ]
  },
  {
   "cell_type": "code",
   "execution_count": 348,
   "metadata": {
    "deletable": false,
    "nbgrader": {
     "checksum": "66972422e6ee5c508599b44ea17916ca",
     "grade": true,
     "grade_id": "cell-99742e48e538f29a",
     "locked": false,
     "points": 50,
     "schema_version": 1,
     "solution": true
    }
   },
   "outputs": [
    {
     "name": "stdout",
     "output_type": "stream",
     "text": [
      "To predict Customer Satisfaction Rating I used Lasso (to induce sparsity) which resulted in a MSE of 0.8707926206634873.\n",
      "To predict Sales Rating I used Lasso (to induce sparsity) which resulted in a MSE of 0.8270857789734554.\n",
      "To predict if the appliant would be fired (Fired_Fired) I used a Support Vector Machine and determined the best parameters were {'C': 1e-05, 'random_state': 0} with an accuracy score of 0.93.\n"
     ]
    }
   ],
   "source": [
    "# Select models of your choosing, import them and perform a parameter search to train them on each of the targets\n",
    "# Determine an appropriate metric for measuring your performance and report that.\n",
    "from sklearn.linear_model import ElasticNet, LinearRegression, Lasso\n",
    "from sklearn.feature_selection import SelectKBest, mutual_info_regression, RFE\n",
    "from sklearn.model_selection import GridSearchCV\n",
    "from sklearn.svm import SVC\n",
    "\n",
    "\n",
    "csr_model = Lasso()\n",
    "csr_fit = csr_model.fit(rank_x_train, rank_y_train[\"Customer Satisfaction Rating\"])\n",
    "score1 = csr_fit.score(rank_x_train, rank_y_train[\"Customer Satisfaction Rating\"])\n",
    "print(f\"To predict Customer Satisfaction Rating I used Lasso (to induce sparsity) which resulted in a MSE of {score1}.\")\n",
    "\n",
    "sr_model = Lasso()\n",
    "sr_fit = sr_model.fit(rank_x_train, rank_y_train[\"Sales Rating\"])\n",
    "score2 = sr_fit.score(rank_x_train, rank_y_train[\"Sales Rating\"])\n",
    "print(f\"To predict Sales Rating I used Lasso (to induce sparsity) which resulted in a MSE of {score2}.\")\n",
    "\n",
    "\n",
    "\n",
    "hyperparams = {\n",
    "    \"C\": [1e-5, 1e-4, 1e-2, 1e-1, 1, 1e2, 1e3, 1e4],\n",
    "    \"random_state\": [0]\n",
    "}\n",
    "clf = GridSearchCV(SVC(), hyperparams, scoring = \"accuracy\")\n",
    "clf.fit(rank_x_train, rank_y_train[\"Fired_Fired\"])\n",
    "\n",
    "print(f\"To predict if the appliant would be fired (Fired_Fired) I used a Support Vector Machine and determined the best parameters were {clf.best_params_} with an accuracy score of {clf.best_score_}.\")\n",
    "\n",
    "#rank_x_train.iloc[0,22]\n",
    "#rank_x_train.describe()\n",
    "#rank_y_train[\"Customer Satisfaction Rating\"].describe()\n",
    "\n",
    "#n_alphas = 200\n",
    "#alphas = np.logspace(-10,-1,n_alphas)\n",
    "#l1_ratios = [0, 0.1, 0.25, 0.5, 0.75, 0.9, 1]\n",
    "#csr_elastic_coefs = {}\n",
    "#sr_elastic_coefs = {}\n",
    "#csr_r2 = {}\n",
    "#sr_r2 = {}\n",
    "#for l1_ratio in l1_ratios:\n",
    "#    crs_elastic_coefs[l1_ratio] = []\n",
    "#    sr_elastic_coefs[l1_ratio] = []\n",
    "#    for alpha in alphas:\n",
    "#        csr_fit = ElasticNet(alpha = alpha, l1_ratio = l1_ratio, fit_intercept = True)\n",
    "#        csr_fit.fit(rank_x_train, rank_y_train[\"Customer Satisfaction Rating\"])\n",
    "#        sr_fit = ElasticNet(alpha = alpha, l1_ratio = l1_ratio, fit_intercept = True)\n",
    "#        sr_fit.fit(rank_x_train, rank_y_train[\"Sales Rating\"])\n",
    "#        \n",
    "#        csr_elastic_coefs[l1_ratio].append(csr_fit.coef_)\n",
    "#        sr_elastic_coefs[l1_ratio].append(sr_fit.coef_)\n",
    "#        csr_r2.append(crs_fit.score(rank_x_train, rank_y_train[\"Customer Satisfaction Rating\"]))\n",
    "#        sr_r2.append(sr_fit.score(rank_x_train, rank_y_train[\"Sales Rating\"]))\n",
    "\n",
    "#csr_r2\n",
    "#bestK = 0\n",
    "#MSE = 10000 # set to very high number\n",
    "\n",
    "#for k in range(1, len(rank_features) ):\n",
    "#    mi_transformer = SelectKBest(mutual_info_regression, k = k).fit(rank_x_train, rank_y_train)\n",
    "#    mi_rank_x_train = mi_transformer.transform(rank_x_train)\n",
    "#    mi_rank_x_test  = mi_transformer.transform(rank_x_test)\n",
    "#    miEst = Lasso()\n",
    "#    miEst.fit(mi_rank_x_train, rank_y_train)\n",
    "#    new_MSE = miEst.score(mi_rank_x_train, rank_y_train)\n",
    "#    print(k)\n",
    "#    print(new_MSE)\n",
    "#    if new_MSE < MSE:\n",
    "#        MSE = new_MSE\n",
    "#        bestK = k\n",
    "        #print(MSE)\n",
    "        #print(k)\n",
    "        \n",
    "\n",
    "        \n",
    "        \n",
    "# You should have print messages that state something like:\n",
    "# To predict the target (target), I trained a (model) model\n",
    "# and determined the best hyperparameters as (param1 = p1), (param2 = p2)...\n",
    "# resulting in a (metric) score of (score)"
   ]
  },
  {
   "cell_type": "markdown",
   "metadata": {
    "deletable": false,
    "editable": false,
    "nbgrader": {
     "checksum": "85a0d831b7159d48d142944acc43ad3e",
     "grade": false,
     "grade_id": "cell-be0de61adb8d2930",
     "locked": true,
     "schema_version": 1,
     "solution": false
    }
   },
   "source": [
    "Would your feature choice change if HR was going to use your model to directly hire applicants without an interview? **Which features will you select to use in that model?**"
   ]
  },
  {
   "cell_type": "code",
   "execution_count": null,
   "metadata": {
    "deletable": false,
    "editable": false,
    "nbgrader": {
     "checksum": "06aae577c3325934b9dd2d521549d716",
     "grade": false,
     "grade_id": "cell-3aaedae380c7db79",
     "locked": true,
     "schema_version": 1,
     "solution": false
    }
   },
   "outputs": [],
   "source": [
    "print(\"The available columns are:\")\n",
    "list(df)"
   ]
  },
  {
   "cell_type": "code",
   "execution_count": null,
   "metadata": {
    "deletable": false,
    "nbgrader": {
     "checksum": "256a03be452a3ad9de29b793a22a7c28",
     "grade": false,
     "grade_id": "cell-c4bad209682c7022",
     "locked": false,
     "schema_version": 1,
     "solution": true
    }
   },
   "outputs": [],
   "source": [
    "# Enter all the features you want to use in a list and save it to selection_features\n",
    "# These are the features for the model that will directly hire the top applicants\n",
    "# YOUR CODE HERE\n",
    "raise NotImplementedError()"
   ]
  },
  {
   "cell_type": "markdown",
   "metadata": {
    "deletable": false,
    "editable": false,
    "nbgrader": {
     "checksum": "a6b02cbd6f7418d4619aab8525689ad3",
     "grade": false,
     "grade_id": "cell-b4b87681c2bdc21a",
     "locked": true,
     "schema_version": 1,
     "solution": false
    }
   },
   "source": [
    "Why did you choose the features you did?"
   ]
  },
  {
   "cell_type": "code",
   "execution_count": null,
   "metadata": {
    "deletable": false,
    "nbgrader": {
     "checksum": "c3a66cc8fc7852d9ab140f04b60b96fd",
     "grade": false,
     "grade_id": "cell-b95231da655a979d",
     "locked": false,
     "schema_version": 1,
     "solution": true
    }
   },
   "outputs": [],
   "source": [
    "## Save your reasoning in a string to the variable selection_reason\n",
    "\n",
    "# YOUR CODE HERE\n",
    "raise NotImplementedError()"
   ]
  },
  {
   "cell_type": "code",
   "execution_count": null,
   "metadata": {
    "deletable": false,
    "editable": false,
    "nbgrader": {
     "checksum": "0d876a0c394a9cab4f2e9432bf738b7f",
     "grade": true,
     "grade_id": "cell-34d2462a6b2f374c",
     "locked": true,
     "points": 20,
     "schema_version": 1,
     "solution": false
    }
   },
   "outputs": [],
   "source": [
    "assert isinstance(selection_reason, str)\n",
    "assert len(selection_reason) > 20"
   ]
  },
  {
   "cell_type": "markdown",
   "metadata": {
    "deletable": false,
    "editable": false,
    "nbgrader": {
     "checksum": "6e3af11ace509f21b1938998872c97b6",
     "grade": false,
     "grade_id": "cell-5d3c9cf0fe1dac76",
     "locked": true,
     "schema_version": 1,
     "solution": false
    }
   },
   "source": [
    "Why was your choice different from or the same as the ranking features?\n"
   ]
  },
  {
   "cell_type": "code",
   "execution_count": null,
   "metadata": {
    "deletable": false,
    "nbgrader": {
     "checksum": "9c5c99cff4106a3bfd1ace73635e114c",
     "grade": false,
     "grade_id": "cell-4479d690eeb487ad",
     "locked": false,
     "schema_version": 1,
     "solution": true
    }
   },
   "outputs": [],
   "source": [
    "# Save your reasoning in a string to the variable\n",
    "# same_reason if the features are the same\n",
    "# different_reason if the features are different\n",
    "# YOUR CODE HERE\n",
    "raise NotImplementedError()"
   ]
  },
  {
   "cell_type": "code",
   "execution_count": null,
   "metadata": {
    "deletable": false,
    "editable": false,
    "nbgrader": {
     "checksum": "ca728e671caaab8c76201f0e6a5811d6",
     "grade": true,
     "grade_id": "cell-f875ee0056d6eb98",
     "locked": true,
     "points": 20,
     "schema_version": 1,
     "solution": false
    }
   },
   "outputs": [],
   "source": [
    "if all([rf in selection_features for rf in rank_features]) and all([sf in rank_features for sf in selection_features]):\n",
    "    print(\"Your features for ranking and selection are the same.\")\n",
    "    assert isinstance(same_reason, str)\n",
    "    assert len(same_reason) > 20\n",
    "else:\n",
    "    print(\"Your features for ranking and selection are different.\")\n",
    "    assert isinstance(different_reason, str)\n",
    "    assert len(different_reason) > 20"
   ]
  },
  {
   "cell_type": "code",
   "execution_count": null,
   "metadata": {
    "deletable": false,
    "nbgrader": {
     "checksum": "7cee30863e806b81ba8cdc6408e2ab11",
     "grade": false,
     "grade_id": "cell-fe98928b7423b02b",
     "locked": false,
     "schema_version": 1,
     "solution": true
    }
   },
   "outputs": [],
   "source": [
    "# Perform a train and test split on the data with the variable names:\n",
    "# selection_x_train for the training features\n",
    "# selection_x_test for the testing features\n",
    "# selection_y_train for the training targets\n",
    "# selection_y_test for the testing targets\n",
    "# The test dataset should be 20% of the total dataset\n",
    "\n",
    "# YOUR CODE HERE\n",
    "raise NotImplementedError()"
   ]
  },
  {
   "cell_type": "code",
   "execution_count": null,
   "metadata": {
    "deletable": false,
    "editable": false,
    "nbgrader": {
     "checksum": "2744e59c5f90eed2d6cadcacaa17c275",
     "grade": true,
     "grade_id": "cell-be29120b1249cd74",
     "locked": true,
     "points": 10,
     "schema_version": 1,
     "solution": false
    }
   },
   "outputs": [],
   "source": [
    "assert (len(selection_x_train) / (len(selection_x_test) + len(selection_x_train))) == 0.8\n",
    "assert (len(selection_y_train) / (len(selection_y_test) + len(selection_y_train))) == 0.8\n",
    "assert len(selection_x_train) == len(selection_y_train)\n",
    "assert len(selection_x_test) == len(selection_y_test)"
   ]
  },
  {
   "cell_type": "markdown",
   "metadata": {
    "deletable": false,
    "editable": false,
    "nbgrader": {
     "checksum": "64d98f4aead8beecad6d5fea0ec538e9",
     "grade": false,
     "grade_id": "cell-3ae20ccdd5d080b7",
     "locked": true,
     "schema_version": 1,
     "solution": false
    }
   },
   "source": [
    "Now let's see if the model performs differently."
   ]
  },
  {
   "cell_type": "code",
   "execution_count": null,
   "metadata": {
    "deletable": false,
    "nbgrader": {
     "checksum": "26db92419fa8391e2fc320e109fa44d9",
     "grade": true,
     "grade_id": "cell-43f1427eb940e017",
     "locked": false,
     "points": 30,
     "schema_version": 1,
     "solution": true
    }
   },
   "outputs": [],
   "source": [
    "# Select models of your choosing, import them and perform a parameter search to train them on each of the targets\n",
    "# Determine an appropriate metric for measuring your performance and report that.\n",
    "\n",
    "# YOUR CODE HERE\n",
    "raise NotImplementedError()\n",
    "\n",
    "# You should have print messages that state something like:\n",
    "# To predict the target (target), I trained a (model) model\n",
    "# and determined the best hyperparameters as (param1 = p1), (param2 = p2)...\n",
    "# resulting in a (metric) score of (score)"
   ]
  },
  {
   "cell_type": "code",
   "execution_count": null,
   "metadata": {
    "deletable": false,
    "nbgrader": {
     "checksum": "c3ebd1bd1152d40a72177a5b9ff15be2",
     "grade": true,
     "grade_id": "cell-5df6d98d3b874670",
     "locked": false,
     "points": 20,
     "schema_version": 1,
     "solution": true
    }
   },
   "outputs": [],
   "source": [
    "# Follow this up with a comparison between the performance on your 2 models using the different features.\n",
    "# You should print something like\n",
    "# Using rank features for target (target) the model scored (score)\n",
    "# versus using the selection features where it scored (score)\n",
    "# YOUR CODE HERE\n",
    "raise NotImplementedError()\n"
   ]
  },
  {
   "cell_type": "markdown",
   "metadata": {
    "deletable": false,
    "editable": false,
    "nbgrader": {
     "checksum": "03dcba3c87298cd428ec01f9a0075d6c",
     "grade": false,
     "grade_id": "cell-4a3caccc18c17350",
     "locked": true,
     "schema_version": 1,
     "solution": false
    }
   },
   "source": [
    "## Feedback"
   ]
  },
  {
   "cell_type": "code",
   "execution_count": null,
   "metadata": {
    "deletable": false,
    "nbgrader": {
     "checksum": "687d8bbd0750d67bdc439a0a539f4563",
     "grade": false,
     "grade_id": "cell-259e62fb9f936804",
     "locked": false,
     "schema_version": 1,
     "solution": true
    }
   },
   "outputs": [],
   "source": [
    "def feedback():\n",
    "    \"\"\"Provide feedback on the contents of this exercise\n",
    "    \n",
    "    Returns:\n",
    "        string\n",
    "    \"\"\"\n",
    "    # YOUR CODE HERE\n",
    "    raise NotImplementedError()"
   ]
  },
  {
   "cell_type": "code",
   "execution_count": null,
   "metadata": {
    "deletable": false,
    "editable": false,
    "nbgrader": {
     "checksum": "a981d530666ab499761c90062b408a01",
     "grade": true,
     "grade_id": "cell-865e5f961cfd020f",
     "locked": true,
     "points": 0,
     "schema_version": 1,
     "solution": false
    }
   },
   "outputs": [],
   "source": []
  }
 ],
 "metadata": {
  "kernelspec": {
   "display_name": "Python 3",
   "language": "python",
   "name": "python3"
  },
  "language_info": {
   "codemirror_mode": {
    "name": "ipython",
    "version": 3
   },
   "file_extension": ".py",
   "mimetype": "text/x-python",
   "name": "python",
   "nbconvert_exporter": "python",
   "pygments_lexer": "ipython3",
   "version": "3.6.5"
  }
 },
 "nbformat": 4,
 "nbformat_minor": 2
}
