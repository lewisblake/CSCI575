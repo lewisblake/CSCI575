{
 "cells": [
  {
   "cell_type": "markdown",
   "metadata": {},
   "source": [
    "# CSCI-575 Theory Project\n",
    "## Lewis Blake\n",
    "### Paper: Confidence Intervals for Random Forests: The Jackknife and the Infinitesimal Jackknife\n",
    "#### Authors: Stefan Wager, Trevor Hastie, Bradley Efron\n",
    "#### Journal of Machine Learning Research 15 (2014) 1625-1651"
   ]
  },
  {
   "cell_type": "markdown",
   "metadata": {},
   "source": [
    "## AutoMPG Data Experiement\n",
    "Following is a recreation of the experiment performed in the paper on the AutoMPG data set. The AutoMPG data set is a supervised resgression problem. The goal is to predict automobile MPG based on seven feastures (e.g., weight and horsepower)."
   ]
  },
  {
   "cell_type": "markdown",
   "metadata": {},
   "source": [
    "There is an implementation of the prediction variance estimators described in the paper in the following package, `grf`. The other packages are used in the rest of the experiments. If not presently installed, uncomment the `install.packages()` lines and run the cell. Otherwise, just load the packages."
   ]
  },
  {
   "cell_type": "code",
   "execution_count": 9,
   "metadata": {},
   "outputs": [],
   "source": [
    "#install.packages(\"grf\")\n",
    "#install.packages(\"dpylr\")\n",
    "#install.packages(\"ggplot2\")\n",
    "library(grf)\n",
    "library(dplyr)\n",
    "library(ggplot2)"
   ]
  },
  {
   "cell_type": "code",
   "execution_count": 10,
   "metadata": {},
   "outputs": [],
   "source": [
    "# Load the data\n",
    "auto.mpg = read.csv(\"/Users/lewisblake/Documents/School/Mines/F19/MachineLearning/Data/TheoryProject/auto-mpg.csv\")"
   ]
  },
  {
   "cell_type": "code",
   "execution_count": 24,
   "metadata": {},
   "outputs": [
    {
     "data": {
      "text/html": [
       "<table>\n",
       "<caption>A data.frame: 6 × 9</caption>\n",
       "<thead>\n",
       "\t<tr><th scope=col>mpg</th><th scope=col>cylinders</th><th scope=col>displacement</th><th scope=col>horsepower</th><th scope=col>weight</th><th scope=col>acceleration</th><th scope=col>model.year</th><th scope=col>origin</th><th scope=col>car.name</th></tr>\n",
       "\t<tr><th scope=col>&lt;dbl&gt;</th><th scope=col>&lt;int&gt;</th><th scope=col>&lt;dbl&gt;</th><th scope=col>&lt;fct&gt;</th><th scope=col>&lt;int&gt;</th><th scope=col>&lt;dbl&gt;</th><th scope=col>&lt;int&gt;</th><th scope=col>&lt;int&gt;</th><th scope=col>&lt;fct&gt;</th></tr>\n",
       "</thead>\n",
       "<tbody>\n",
       "\t<tr><td>18</td><td>8</td><td>307</td><td>130</td><td>3504</td><td>12.0</td><td>70</td><td>1</td><td>chevrolet chevelle malibu</td></tr>\n",
       "\t<tr><td>15</td><td>8</td><td>350</td><td>165</td><td>3693</td><td>11.5</td><td>70</td><td>1</td><td>buick skylark 320        </td></tr>\n",
       "\t<tr><td>18</td><td>8</td><td>318</td><td>150</td><td>3436</td><td>11.0</td><td>70</td><td>1</td><td>plymouth satellite       </td></tr>\n",
       "\t<tr><td>16</td><td>8</td><td>304</td><td>150</td><td>3433</td><td>12.0</td><td>70</td><td>1</td><td>amc rebel sst            </td></tr>\n",
       "\t<tr><td>17</td><td>8</td><td>302</td><td>140</td><td>3449</td><td>10.5</td><td>70</td><td>1</td><td>ford torino              </td></tr>\n",
       "\t<tr><td>15</td><td>8</td><td>429</td><td>198</td><td>4341</td><td>10.0</td><td>70</td><td>1</td><td>ford galaxie 500         </td></tr>\n",
       "</tbody>\n",
       "</table>\n"
      ],
      "text/latex": [
       "A data.frame: 6 × 9\n",
       "\\begin{tabular}{r|lllllllll}\n",
       " mpg & cylinders & displacement & horsepower & weight & acceleration & model.year & origin & car.name\\\\\n",
       " <dbl> & <int> & <dbl> & <fct> & <int> & <dbl> & <int> & <int> & <fct>\\\\\n",
       "\\hline\n",
       "\t 18 & 8 & 307 & 130 & 3504 & 12.0 & 70 & 1 & chevrolet chevelle malibu\\\\\n",
       "\t 15 & 8 & 350 & 165 & 3693 & 11.5 & 70 & 1 & buick skylark 320        \\\\\n",
       "\t 18 & 8 & 318 & 150 & 3436 & 11.0 & 70 & 1 & plymouth satellite       \\\\\n",
       "\t 16 & 8 & 304 & 150 & 3433 & 12.0 & 70 & 1 & amc rebel sst            \\\\\n",
       "\t 17 & 8 & 302 & 140 & 3449 & 10.5 & 70 & 1 & ford torino              \\\\\n",
       "\t 15 & 8 & 429 & 198 & 4341 & 10.0 & 70 & 1 & ford galaxie 500         \\\\\n",
       "\\end{tabular}\n"
      ],
      "text/markdown": [
       "\n",
       "A data.frame: 6 × 9\n",
       "\n",
       "| mpg &lt;dbl&gt; | cylinders &lt;int&gt; | displacement &lt;dbl&gt; | horsepower &lt;fct&gt; | weight &lt;int&gt; | acceleration &lt;dbl&gt; | model.year &lt;int&gt; | origin &lt;int&gt; | car.name &lt;fct&gt; |\n",
       "|---|---|---|---|---|---|---|---|---|\n",
       "| 18 | 8 | 307 | 130 | 3504 | 12.0 | 70 | 1 | chevrolet chevelle malibu |\n",
       "| 15 | 8 | 350 | 165 | 3693 | 11.5 | 70 | 1 | buick skylark 320         |\n",
       "| 18 | 8 | 318 | 150 | 3436 | 11.0 | 70 | 1 | plymouth satellite        |\n",
       "| 16 | 8 | 304 | 150 | 3433 | 12.0 | 70 | 1 | amc rebel sst             |\n",
       "| 17 | 8 | 302 | 140 | 3449 | 10.5 | 70 | 1 | ford torino               |\n",
       "| 15 | 8 | 429 | 198 | 4341 | 10.0 | 70 | 1 | ford galaxie 500          |\n",
       "\n"
      ],
      "text/plain": [
       "  mpg cylinders displacement horsepower weight acceleration model.year origin\n",
       "1 18  8         307          130        3504   12.0         70         1     \n",
       "2 15  8         350          165        3693   11.5         70         1     \n",
       "3 18  8         318          150        3436   11.0         70         1     \n",
       "4 16  8         304          150        3433   12.0         70         1     \n",
       "5 17  8         302          140        3449   10.5         70         1     \n",
       "6 15  8         429          198        4341   10.0         70         1     \n",
       "  car.name                 \n",
       "1 chevrolet chevelle malibu\n",
       "2 buick skylark 320        \n",
       "3 plymouth satellite       \n",
       "4 amc rebel sst            \n",
       "5 ford torino              \n",
       "6 ford galaxie 500         "
      ]
     },
     "metadata": {},
     "output_type": "display_data"
    },
    {
     "data": {
      "text/plain": [
       "      mpg          cylinders      displacement     horsepower      weight    \n",
       " Min.   : 9.00   Min.   :3.000   Min.   : 68.0   150    : 22   Min.   :1613  \n",
       " 1st Qu.:17.50   1st Qu.:4.000   1st Qu.:104.2   90     : 20   1st Qu.:2224  \n",
       " Median :23.00   Median :4.000   Median :148.5   88     : 19   Median :2804  \n",
       " Mean   :23.51   Mean   :5.455   Mean   :193.4   110    : 18   Mean   :2970  \n",
       " 3rd Qu.:29.00   3rd Qu.:8.000   3rd Qu.:262.0   100    : 17   3rd Qu.:3608  \n",
       " Max.   :46.60   Max.   :8.000   Max.   :455.0   75     : 14   Max.   :5140  \n",
       "                                                 (Other):288                 \n",
       "  acceleration     model.year        origin                car.name  \n",
       " Min.   : 8.00   Min.   :70.00   Min.   :1.000   ford pinto    :  6  \n",
       " 1st Qu.:13.82   1st Qu.:73.00   1st Qu.:1.000   amc matador   :  5  \n",
       " Median :15.50   Median :76.00   Median :1.000   ford maverick :  5  \n",
       " Mean   :15.57   Mean   :76.01   Mean   :1.573   toyota corolla:  5  \n",
       " 3rd Qu.:17.18   3rd Qu.:79.00   3rd Qu.:2.000   amc gremlin   :  4  \n",
       " Max.   :24.80   Max.   :82.00   Max.   :3.000   amc hornet    :  4  \n",
       "                                                 (Other)       :369  "
      ]
     },
     "metadata": {},
     "output_type": "display_data"
    }
   ],
   "source": [
    "# Let's look at the head of and summarize the data.\n",
    "head(auto.mpg)\n",
    "summary(auto.mpg)"
   ]
  },
  {
   "cell_type": "code",
   "execution_count": 25,
   "metadata": {},
   "outputs": [
    {
     "name": "stdout",
     "output_type": "stream",
     "text": [
      "[1] \"There are 318 points in the training set.\"\n",
      "[1] \"There are 80 points in the test set.\"\n"
     ]
    }
   ],
   "source": [
    "# How many data points are there in the training and test data?\n",
    "print(paste0(\"There are \", length(X_train_mat[,1]), \" points in the training set.\"))\n",
    "print(paste0(\"There are \", length(X_test_mat[,1]), \" points in the test set.\"))"
   ]
  },
  {
   "cell_type": "code",
   "execution_count": 11,
   "metadata": {},
   "outputs": [],
   "source": [
    "# split the data into training and testing\n",
    "smp_size = floor(0.8 * nrow(auto.mpg))\n",
    "set.seed(123)\n",
    "train_ind = sample(seq_len(nrow(auto.mpg)), size = smp_size)\n",
    "train = auto.mpg[train_ind, ]\n",
    "test = auto.mpg[-train_ind, ]\n",
    "\n",
    "X_train = train %>% select(cylinders, displacement, horsepower, weight, acceleration, model.year, origin)\n",
    "X_test = test %>% select(cylinders, displacement, horsepower, weight, acceleration, model.year, origin)\n",
    "y_train = train %>% select(mpg)\n",
    "y_test = test %>% select(mpg)"
   ]
  },
  {
   "cell_type": "code",
   "execution_count": 12,
   "metadata": {},
   "outputs": [],
   "source": [
    "# turn everything into matrix for compatability with grf functions\n",
    "X_train_mat = as.matrix(sapply(X_train, as.numeric))  \n",
    "y_train_mat = as.matrix(sapply(y_train, as.numeric)) \n",
    "X_test_mat = as.matrix(sapply(X_test, as.numeric)) \n",
    "y_test_mat = as.matrix(sapply(y_test, as.numeric)) "
   ]
  },
  {
   "cell_type": "code",
   "execution_count": 13,
   "metadata": {},
   "outputs": [],
   "source": [
    "# train a random forest regression\n",
    "r.forest = regression_forest(X_train_mat, y_train_mat, num.trees = 10000)"
   ]
  },
  {
   "cell_type": "code",
   "execution_count": 16,
   "metadata": {},
   "outputs": [],
   "source": [
    "# predict the random forest over the training and test data\n",
    "r.forest_pred = predict(r.forest, estimate.variance = TRUE)\n",
    "r.forest_test = predict(r.forest, X_test_mat, estimate.variance = TRUE)"
   ]
  },
  {
   "cell_type": "code",
   "execution_count": 17,
   "metadata": {},
   "outputs": [
    {
     "data": {
      "text/html": [
       "<table>\n",
       "<caption>A data.frame: 6 × 4</caption>\n",
       "<thead>\n",
       "\t<tr><th scope=col>predictions</th><th scope=col>variance.estimates</th><th scope=col>debiased.error</th><th scope=col>excess.error</th></tr>\n",
       "\t<tr><th scope=col>&lt;dbl&gt;</th><th scope=col>&lt;dbl&gt;</th><th scope=col>&lt;dbl&gt;</th><th scope=col>&lt;dbl&gt;</th></tr>\n",
       "</thead>\n",
       "<tbody>\n",
       "\t<tr><td>24.86952</td><td>0.4860020</td><td>1.2768554</td><td>0.0011299634</td></tr>\n",
       "\t<tr><td>36.15057</td><td>0.9804882</td><td>1.0996458</td><td>0.0016523582</td></tr>\n",
       "\t<tr><td>16.62957</td><td>0.4196693</td><td>0.3956881</td><td>0.0006722389</td></tr>\n",
       "\t<tr><td>36.29392</td><td>1.0027780</td><td>1.9754375</td><td>0.0016124542</td></tr>\n",
       "\t<tr><td>29.80122</td><td>1.2352705</td><td>1.4348511</td><td>0.0022234478</td></tr>\n",
       "\t<tr><td>21.59951</td><td>0.6303022</td><td>0.3582070</td><td>0.0012023066</td></tr>\n",
       "</tbody>\n",
       "</table>\n"
      ],
      "text/latex": [
       "A data.frame: 6 × 4\n",
       "\\begin{tabular}{r|llll}\n",
       " predictions & variance.estimates & debiased.error & excess.error\\\\\n",
       " <dbl> & <dbl> & <dbl> & <dbl>\\\\\n",
       "\\hline\n",
       "\t 24.86952 & 0.4860020 & 1.2768554 & 0.0011299634\\\\\n",
       "\t 36.15057 & 0.9804882 & 1.0996458 & 0.0016523582\\\\\n",
       "\t 16.62957 & 0.4196693 & 0.3956881 & 0.0006722389\\\\\n",
       "\t 36.29392 & 1.0027780 & 1.9754375 & 0.0016124542\\\\\n",
       "\t 29.80122 & 1.2352705 & 1.4348511 & 0.0022234478\\\\\n",
       "\t 21.59951 & 0.6303022 & 0.3582070 & 0.0012023066\\\\\n",
       "\\end{tabular}\n"
      ],
      "text/markdown": [
       "\n",
       "A data.frame: 6 × 4\n",
       "\n",
       "| predictions &lt;dbl&gt; | variance.estimates &lt;dbl&gt; | debiased.error &lt;dbl&gt; | excess.error &lt;dbl&gt; |\n",
       "|---|---|---|---|\n",
       "| 24.86952 | 0.4860020 | 1.2768554 | 0.0011299634 |\n",
       "| 36.15057 | 0.9804882 | 1.0996458 | 0.0016523582 |\n",
       "| 16.62957 | 0.4196693 | 0.3956881 | 0.0006722389 |\n",
       "| 36.29392 | 1.0027780 | 1.9754375 | 0.0016124542 |\n",
       "| 29.80122 | 1.2352705 | 1.4348511 | 0.0022234478 |\n",
       "| 21.59951 | 0.6303022 | 0.3582070 | 0.0012023066 |\n",
       "\n"
      ],
      "text/plain": [
       "  predictions variance.estimates debiased.error excess.error\n",
       "1 24.86952    0.4860020          1.2768554      0.0011299634\n",
       "2 36.15057    0.9804882          1.0996458      0.0016523582\n",
       "3 16.62957    0.4196693          0.3956881      0.0006722389\n",
       "4 36.29392    1.0027780          1.9754375      0.0016124542\n",
       "5 29.80122    1.2352705          1.4348511      0.0022234478\n",
       "6 21.59951    0.6303022          0.3582070      0.0012023066"
      ]
     },
     "metadata": {},
     "output_type": "display_data"
    }
   ],
   "source": [
    "# check to see what predict() returns in this case since it is a 'generic' function\n",
    "head(r.forest_pred) # the column variance.estimates are the ones described in the paper."
   ]
  },
  {
   "cell_type": "markdown",
   "metadata": {},
   "source": [
    "##### Plotting Predictions\n",
    "The following plot is the predictions from the Random Forest on the AutoMPG data set trained on 318 data points and predicted over 80.\n",
    "\n",
    "Confidence intervals of one standard error for each prediction point are superimposed on each prediction point. The dotted line represents predicted MPG versus reported MPG.\n",
    "\n",
    "This plot is comprable to Figure 1 in the Wager et  al. paper."
   ]
  },
  {
   "cell_type": "code",
   "execution_count": 22,
   "metadata": {},
   "outputs": [
    {
     "data": {
      "image/png": "[encoded data removed]",
      "text/plain": [
       "plot without title"
      ]
     },
     "metadata": {
      "image/png": {
       "height": 420,
       "width": 420
      },
      "text/plain": {
       "height": 420,
       "width": 420
      }
     },
     "output_type": "display_data"
    }
   ],
   "source": [
    "## Plotting predictions\n",
    "# test\n",
    "r.forest_test$min = r.forest_test$predictions - sqrt(r.forest_test$variance.estimates)\n",
    "r.forest_test$max = r.forest_test$predictions + sqrt(r.forest_test$variance.estimates)\n",
    "r.forest_test$mpg = test$mpg\n",
    "ordered.test.df = r.forest_test[order(r.forest_test$predictions), ]\n",
    "\n",
    "ggplot(ordered.test.df, aes(x = mpg,  y = predictions)) +\n",
    "    geom_point(size = 1) +\n",
    "    geom_errorbar(aes(ymax = max, ymin = min))+\n",
    "    geom_abline(intercept = 0, lty = 3) +\n",
    "    ggtitle(\"Random Forest Predictions on the AutoMPG data set.\")"
   ]
  },
  {
   "cell_type": "markdown",
   "metadata": {},
   "source": [
    "## Spambase Data Experiement\n",
    "Following is a recreation of the experiment performed in the paper on the Spambase data set. The Spambase data set is a supervised classification problem. The goal is to predict spam email (1) from non-spam (0) based on 57 word frequency and character features."
   ]
  },
  {
   "cell_type": "markdown",
   "metadata": {},
   "source": [
    "The nutshell package to get the spambase data set. Either install if not already installed or load the package."
   ]
  },
  {
   "cell_type": "code",
   "execution_count": 29,
   "metadata": {},
   "outputs": [
    {
     "name": "stderr",
     "output_type": "stream",
     "text": [
      "Loading required package: nutshell.bbdb\n",
      "\n",
      "Loading required package: nutshell.audioscrobbler\n",
      "\n"
     ]
    }
   ],
   "source": [
    "#install.packages(\"nutshell\")\n",
    "library(nutshell)"
   ]
  },
  {
   "cell_type": "code",
   "execution_count": 30,
   "metadata": {},
   "outputs": [],
   "source": [
    "# load the spambase data\n",
    "data(spambase)"
   ]
  },
  {
   "cell_type": "code",
   "execution_count": 31,
   "metadata": {},
   "outputs": [
    {
     "data": {
      "text/html": [
       "<table>\n",
       "<caption>A data.frame: 6 × 58</caption>\n",
       "<thead>\n",
       "\t<tr><th scope=col>word_freq_make</th><th scope=col>word_freq_address</th><th scope=col>word_freq_all</th><th scope=col>word_freq_3d</th><th scope=col>word_freq_our</th><th scope=col>word_freq_over</th><th scope=col>word_freq_remove</th><th scope=col>word_freq_internet</th><th scope=col>word_freq_order</th><th scope=col>word_freq_mail</th><th scope=col>⋯</th><th scope=col>char_freq_semicolon</th><th scope=col>char_freq_left_paren</th><th scope=col>char_freq_left_bracket</th><th scope=col>char_freq_exclamation</th><th scope=col>char_freq_dollar</th><th scope=col>char_freq_pound</th><th scope=col>capital_run_length_average</th><th scope=col>capital_run_length_longest</th><th scope=col>capital_run_length_total</th><th scope=col>is_spam</th></tr>\n",
       "\t<tr><th scope=col>&lt;dbl&gt;</th><th scope=col>&lt;dbl&gt;</th><th scope=col>&lt;dbl&gt;</th><th scope=col>&lt;dbl&gt;</th><th scope=col>&lt;dbl&gt;</th><th scope=col>&lt;dbl&gt;</th><th scope=col>&lt;dbl&gt;</th><th scope=col>&lt;dbl&gt;</th><th scope=col>&lt;dbl&gt;</th><th scope=col>&lt;dbl&gt;</th><th scope=col>⋯</th><th scope=col>&lt;dbl&gt;</th><th scope=col>&lt;dbl&gt;</th><th scope=col>&lt;dbl&gt;</th><th scope=col>&lt;dbl&gt;</th><th scope=col>&lt;dbl&gt;</th><th scope=col>&lt;dbl&gt;</th><th scope=col>&lt;dbl&gt;</th><th scope=col>&lt;int&gt;</th><th scope=col>&lt;int&gt;</th><th scope=col>&lt;fct&gt;</th></tr>\n",
       "</thead>\n",
       "<tbody>\n",
       "\t<tr><td>0.00</td><td>0.64</td><td>0.64</td><td>0</td><td>0.32</td><td>0.00</td><td>0.00</td><td>0.00</td><td>0.00</td><td>0.00</td><td>⋯</td><td>0.00</td><td>0.000</td><td>0</td><td>0.778</td><td>0.000</td><td>0.000</td><td>3.756</td><td> 61</td><td> 278</td><td>1</td></tr>\n",
       "\t<tr><td>0.21</td><td>0.28</td><td>0.50</td><td>0</td><td>0.14</td><td>0.28</td><td>0.21</td><td>0.07</td><td>0.00</td><td>0.94</td><td>⋯</td><td>0.00</td><td>0.132</td><td>0</td><td>0.372</td><td>0.180</td><td>0.048</td><td>5.114</td><td>101</td><td>1028</td><td>1</td></tr>\n",
       "\t<tr><td>0.06</td><td>0.00</td><td>0.71</td><td>0</td><td>1.23</td><td>0.19</td><td>0.19</td><td>0.12</td><td>0.64</td><td>0.25</td><td>⋯</td><td>0.01</td><td>0.143</td><td>0</td><td>0.276</td><td>0.184</td><td>0.010</td><td>9.821</td><td>485</td><td>2259</td><td>1</td></tr>\n",
       "\t<tr><td>0.00</td><td>0.00</td><td>0.00</td><td>0</td><td>0.63</td><td>0.00</td><td>0.31</td><td>0.63</td><td>0.31</td><td>0.63</td><td>⋯</td><td>0.00</td><td>0.137</td><td>0</td><td>0.137</td><td>0.000</td><td>0.000</td><td>3.537</td><td> 40</td><td> 191</td><td>1</td></tr>\n",
       "\t<tr><td>0.00</td><td>0.00</td><td>0.00</td><td>0</td><td>0.63</td><td>0.00</td><td>0.31</td><td>0.63</td><td>0.31</td><td>0.63</td><td>⋯</td><td>0.00</td><td>0.135</td><td>0</td><td>0.135</td><td>0.000</td><td>0.000</td><td>3.537</td><td> 40</td><td> 191</td><td>1</td></tr>\n",
       "\t<tr><td>0.00</td><td>0.00</td><td>0.00</td><td>0</td><td>1.85</td><td>0.00</td><td>0.00</td><td>1.85</td><td>0.00</td><td>0.00</td><td>⋯</td><td>0.00</td><td>0.223</td><td>0</td><td>0.000</td><td>0.000</td><td>0.000</td><td>3.000</td><td> 15</td><td>  54</td><td>1</td></tr>\n",
       "</tbody>\n",
       "</table>\n"
      ],
      "text/latex": [
       "A data.frame: 6 × 58\n",
       "\\begin{tabular}{r|llllllllllllllllllllllllllllllllllllllllllllllllllllllllll}\n",
       " word\\_freq\\_make & word\\_freq\\_address & word\\_freq\\_all & word\\_freq\\_3d & word\\_freq\\_our & word\\_freq\\_over & word\\_freq\\_remove & word\\_freq\\_internet & word\\_freq\\_order & word\\_freq\\_mail & word\\_freq\\_receive & word\\_freq\\_will & word\\_freq\\_people & word\\_freq\\_report & word\\_freq\\_addresses & word\\_freq\\_free & word\\_freq\\_business & word\\_freq\\_email & word\\_freq\\_you & word\\_freq\\_credit & word\\_freq\\_your & word\\_freq\\_font & word\\_freq\\_000 & word\\_freq\\_money & word\\_freq\\_hp & word\\_freq\\_hpl & word\\_freq\\_george & word\\_freq\\_650 & word\\_freq\\_lab & word\\_freq\\_labs & word\\_freq\\_telnet & word\\_freq\\_857 & word\\_freq\\_data & word\\_freq\\_415 & word\\_freq\\_85 & word\\_freq\\_technology & word\\_freq\\_1999 & word\\_freq\\_parts & word\\_freq\\_pm & word\\_freq\\_direct & word\\_freq\\_cs & word\\_freq\\_meeting & word\\_freq\\_original & word\\_freq\\_project & word\\_freq\\_re & word\\_freq\\_edu & word\\_freq\\_table & word\\_freq\\_conference & char\\_freq\\_semicolon & char\\_freq\\_left\\_paren & char\\_freq\\_left\\_bracket & char\\_freq\\_exclamation & char\\_freq\\_dollar & char\\_freq\\_pound & capital\\_run\\_length\\_average & capital\\_run\\_length\\_longest & capital\\_run\\_length\\_total & is\\_spam\\\\\n",
       " <dbl> & <dbl> & <dbl> & <dbl> & <dbl> & <dbl> & <dbl> & <dbl> & <dbl> & <dbl> & <dbl> & <dbl> & <dbl> & <dbl> & <dbl> & <dbl> & <dbl> & <dbl> & <dbl> & <dbl> & <dbl> & <dbl> & <dbl> & <dbl> & <dbl> & <dbl> & <dbl> & <dbl> & <dbl> & <dbl> & <dbl> & <dbl> & <dbl> & <dbl> & <dbl> & <dbl> & <dbl> & <dbl> & <dbl> & <dbl> & <dbl> & <dbl> & <dbl> & <dbl> & <dbl> & <dbl> & <dbl> & <dbl> & <dbl> & <dbl> & <dbl> & <dbl> & <dbl> & <dbl> & <dbl> & <int> & <int> & <fct>\\\\\n",
       "\\hline\n",
       "\t 0.00 & 0.64 & 0.64 & 0 & 0.32 & 0.00 & 0.00 & 0.00 & 0.00 & 0.00 & 0.00 & 0.64 & 0.00 & 0.00 & 0.00 & 0.32 & 0.00 & 1.29 & 1.93 & 0.00 & 0.96 & 0 & 0.00 & 0.00 & 0 & 0 & 0 & 0 & 0 & 0 & 0 & 0 & 0 & 0 & 0 & 0 & 0.00 & 0 & 0 & 0.00 & 0 & 0 & 0.00 & 0 & 0.00 & 0.00 & 0 & 0 & 0.00 & 0.000 & 0 & 0.778 & 0.000 & 0.000 & 3.756 &  61 &  278 & 1\\\\\n",
       "\t 0.21 & 0.28 & 0.50 & 0 & 0.14 & 0.28 & 0.21 & 0.07 & 0.00 & 0.94 & 0.21 & 0.79 & 0.65 & 0.21 & 0.14 & 0.14 & 0.07 & 0.28 & 3.47 & 0.00 & 1.59 & 0 & 0.43 & 0.43 & 0 & 0 & 0 & 0 & 0 & 0 & 0 & 0 & 0 & 0 & 0 & 0 & 0.07 & 0 & 0 & 0.00 & 0 & 0 & 0.00 & 0 & 0.00 & 0.00 & 0 & 0 & 0.00 & 0.132 & 0 & 0.372 & 0.180 & 0.048 & 5.114 & 101 & 1028 & 1\\\\\n",
       "\t 0.06 & 0.00 & 0.71 & 0 & 1.23 & 0.19 & 0.19 & 0.12 & 0.64 & 0.25 & 0.38 & 0.45 & 0.12 & 0.00 & 1.75 & 0.06 & 0.06 & 1.03 & 1.36 & 0.32 & 0.51 & 0 & 1.16 & 0.06 & 0 & 0 & 0 & 0 & 0 & 0 & 0 & 0 & 0 & 0 & 0 & 0 & 0.00 & 0 & 0 & 0.06 & 0 & 0 & 0.12 & 0 & 0.06 & 0.06 & 0 & 0 & 0.01 & 0.143 & 0 & 0.276 & 0.184 & 0.010 & 9.821 & 485 & 2259 & 1\\\\\n",
       "\t 0.00 & 0.00 & 0.00 & 0 & 0.63 & 0.00 & 0.31 & 0.63 & 0.31 & 0.63 & 0.31 & 0.31 & 0.31 & 0.00 & 0.00 & 0.31 & 0.00 & 0.00 & 3.18 & 0.00 & 0.31 & 0 & 0.00 & 0.00 & 0 & 0 & 0 & 0 & 0 & 0 & 0 & 0 & 0 & 0 & 0 & 0 & 0.00 & 0 & 0 & 0.00 & 0 & 0 & 0.00 & 0 & 0.00 & 0.00 & 0 & 0 & 0.00 & 0.137 & 0 & 0.137 & 0.000 & 0.000 & 3.537 &  40 &  191 & 1\\\\\n",
       "\t 0.00 & 0.00 & 0.00 & 0 & 0.63 & 0.00 & 0.31 & 0.63 & 0.31 & 0.63 & 0.31 & 0.31 & 0.31 & 0.00 & 0.00 & 0.31 & 0.00 & 0.00 & 3.18 & 0.00 & 0.31 & 0 & 0.00 & 0.00 & 0 & 0 & 0 & 0 & 0 & 0 & 0 & 0 & 0 & 0 & 0 & 0 & 0.00 & 0 & 0 & 0.00 & 0 & 0 & 0.00 & 0 & 0.00 & 0.00 & 0 & 0 & 0.00 & 0.135 & 0 & 0.135 & 0.000 & 0.000 & 3.537 &  40 &  191 & 1\\\\\n",
       "\t 0.00 & 0.00 & 0.00 & 0 & 1.85 & 0.00 & 0.00 & 1.85 & 0.00 & 0.00 & 0.00 & 0.00 & 0.00 & 0.00 & 0.00 & 0.00 & 0.00 & 0.00 & 0.00 & 0.00 & 0.00 & 0 & 0.00 & 0.00 & 0 & 0 & 0 & 0 & 0 & 0 & 0 & 0 & 0 & 0 & 0 & 0 & 0.00 & 0 & 0 & 0.00 & 0 & 0 & 0.00 & 0 & 0.00 & 0.00 & 0 & 0 & 0.00 & 0.223 & 0 & 0.000 & 0.000 & 0.000 & 3.000 &  15 &   54 & 1\\\\\n",
       "\\end{tabular}\n"
      ],
      "text/markdown": [
       "\n",
       "A data.frame: 6 × 58\n",
       "\n",
       "| word_freq_make &lt;dbl&gt; | word_freq_address &lt;dbl&gt; | word_freq_all &lt;dbl&gt; | word_freq_3d &lt;dbl&gt; | word_freq_our &lt;dbl&gt; | word_freq_over &lt;dbl&gt; | word_freq_remove &lt;dbl&gt; | word_freq_internet &lt;dbl&gt; | word_freq_order &lt;dbl&gt; | word_freq_mail &lt;dbl&gt; | ⋯ ⋯ | char_freq_semicolon &lt;dbl&gt; | char_freq_left_paren &lt;dbl&gt; | char_freq_left_bracket &lt;dbl&gt; | char_freq_exclamation &lt;dbl&gt; | char_freq_dollar &lt;dbl&gt; | char_freq_pound &lt;dbl&gt; | capital_run_length_average &lt;dbl&gt; | capital_run_length_longest &lt;int&gt; | capital_run_length_total &lt;int&gt; | is_spam &lt;fct&gt; |\n",
       "|---|---|---|---|---|---|---|---|---|---|---|---|---|---|---|---|---|---|---|---|---|\n",
       "| 0.00 | 0.64 | 0.64 | 0 | 0.32 | 0.00 | 0.00 | 0.00 | 0.00 | 0.00 | ⋯ | 0.00 | 0.000 | 0 | 0.778 | 0.000 | 0.000 | 3.756 |  61 |  278 | 1 |\n",
       "| 0.21 | 0.28 | 0.50 | 0 | 0.14 | 0.28 | 0.21 | 0.07 | 0.00 | 0.94 | ⋯ | 0.00 | 0.132 | 0 | 0.372 | 0.180 | 0.048 | 5.114 | 101 | 1028 | 1 |\n",
       "| 0.06 | 0.00 | 0.71 | 0 | 1.23 | 0.19 | 0.19 | 0.12 | 0.64 | 0.25 | ⋯ | 0.01 | 0.143 | 0 | 0.276 | 0.184 | 0.010 | 9.821 | 485 | 2259 | 1 |\n",
       "| 0.00 | 0.00 | 0.00 | 0 | 0.63 | 0.00 | 0.31 | 0.63 | 0.31 | 0.63 | ⋯ | 0.00 | 0.137 | 0 | 0.137 | 0.000 | 0.000 | 3.537 |  40 |  191 | 1 |\n",
       "| 0.00 | 0.00 | 0.00 | 0 | 0.63 | 0.00 | 0.31 | 0.63 | 0.31 | 0.63 | ⋯ | 0.00 | 0.135 | 0 | 0.135 | 0.000 | 0.000 | 3.537 |  40 |  191 | 1 |\n",
       "| 0.00 | 0.00 | 0.00 | 0 | 1.85 | 0.00 | 0.00 | 1.85 | 0.00 | 0.00 | ⋯ | 0.00 | 0.223 | 0 | 0.000 | 0.000 | 0.000 | 3.000 |  15 |   54 | 1 |\n",
       "\n"
      ],
      "text/plain": [
       "  word_freq_make word_freq_address word_freq_all word_freq_3d word_freq_our\n",
       "1 0.00           0.64              0.64          0            0.32         \n",
       "2 0.21           0.28              0.50          0            0.14         \n",
       "3 0.06           0.00              0.71          0            1.23         \n",
       "4 0.00           0.00              0.00          0            0.63         \n",
       "5 0.00           0.00              0.00          0            0.63         \n",
       "6 0.00           0.00              0.00          0            1.85         \n",
       "  word_freq_over word_freq_remove word_freq_internet word_freq_order\n",
       "1 0.00           0.00             0.00               0.00           \n",
       "2 0.28           0.21             0.07               0.00           \n",
       "3 0.19           0.19             0.12               0.64           \n",
       "4 0.00           0.31             0.63               0.31           \n",
       "5 0.00           0.31             0.63               0.31           \n",
       "6 0.00           0.00             1.85               0.00           \n",
       "  word_freq_mail ⋯ char_freq_semicolon char_freq_left_paren\n",
       "1 0.00           ⋯ 0.00                0.000               \n",
       "2 0.94           ⋯ 0.00                0.132               \n",
       "3 0.25           ⋯ 0.01                0.143               \n",
       "4 0.63           ⋯ 0.00                0.137               \n",
       "5 0.63           ⋯ 0.00                0.135               \n",
       "6 0.00           ⋯ 0.00                0.223               \n",
       "  char_freq_left_bracket char_freq_exclamation char_freq_dollar char_freq_pound\n",
       "1 0                      0.778                 0.000            0.000          \n",
       "2 0                      0.372                 0.180            0.048          \n",
       "3 0                      0.276                 0.184            0.010          \n",
       "4 0                      0.137                 0.000            0.000          \n",
       "5 0                      0.135                 0.000            0.000          \n",
       "6 0                      0.000                 0.000            0.000          \n",
       "  capital_run_length_average capital_run_length_longest\n",
       "1 3.756                       61                       \n",
       "2 5.114                      101                       \n",
       "3 9.821                      485                       \n",
       "4 3.537                       40                       \n",
       "5 3.537                       40                       \n",
       "6 3.000                       15                       \n",
       "  capital_run_length_total is_spam\n",
       "1  278                     1      \n",
       "2 1028                     1      \n",
       "3 2259                     1      \n",
       "4  191                     1      \n",
       "5  191                     1      \n",
       "6   54                     1      "
      ]
     },
     "metadata": {},
     "output_type": "display_data"
    },
    {
     "data": {
      "text/plain": [
       " word_freq_make   word_freq_address word_freq_all     word_freq_3d     \n",
       " Min.   :0.0000   Min.   : 0.000    Min.   :0.0000   Min.   : 0.00000  \n",
       " 1st Qu.:0.0000   1st Qu.: 0.000    1st Qu.:0.0000   1st Qu.: 0.00000  \n",
       " Median :0.0000   Median : 0.000    Median :0.0000   Median : 0.00000  \n",
       " Mean   :0.1046   Mean   : 0.213    Mean   :0.2807   Mean   : 0.06542  \n",
       " 3rd Qu.:0.0000   3rd Qu.: 0.000    3rd Qu.:0.4200   3rd Qu.: 0.00000  \n",
       " Max.   :4.5400   Max.   :14.280    Max.   :5.1000   Max.   :42.81000  \n",
       " word_freq_our     word_freq_over   word_freq_remove word_freq_internet\n",
       " Min.   : 0.0000   Min.   :0.0000   Min.   :0.0000   Min.   : 0.0000   \n",
       " 1st Qu.: 0.0000   1st Qu.:0.0000   1st Qu.:0.0000   1st Qu.: 0.0000   \n",
       " Median : 0.0000   Median :0.0000   Median :0.0000   Median : 0.0000   \n",
       " Mean   : 0.3122   Mean   :0.0959   Mean   :0.1142   Mean   : 0.1053   \n",
       " 3rd Qu.: 0.3800   3rd Qu.:0.0000   3rd Qu.:0.0000   3rd Qu.: 0.0000   \n",
       " Max.   :10.0000   Max.   :5.8800   Max.   :7.2700   Max.   :11.1100   \n",
       " word_freq_order   word_freq_mail    word_freq_receive word_freq_will  \n",
       " Min.   :0.00000   Min.   : 0.0000   Min.   :0.00000   Min.   :0.0000  \n",
       " 1st Qu.:0.00000   1st Qu.: 0.0000   1st Qu.:0.00000   1st Qu.:0.0000  \n",
       " Median :0.00000   Median : 0.0000   Median :0.00000   Median :0.1000  \n",
       " Mean   :0.09007   Mean   : 0.2394   Mean   :0.05982   Mean   :0.5417  \n",
       " 3rd Qu.:0.00000   3rd Qu.: 0.1600   3rd Qu.:0.00000   3rd Qu.:0.8000  \n",
       " Max.   :5.26000   Max.   :18.1800   Max.   :2.61000   Max.   :9.6700  \n",
       " word_freq_people  word_freq_report   word_freq_addresses word_freq_free   \n",
       " Min.   :0.00000   Min.   : 0.00000   Min.   :0.0000      Min.   : 0.0000  \n",
       " 1st Qu.:0.00000   1st Qu.: 0.00000   1st Qu.:0.0000      1st Qu.: 0.0000  \n",
       " Median :0.00000   Median : 0.00000   Median :0.0000      Median : 0.0000  \n",
       " Mean   :0.09393   Mean   : 0.05863   Mean   :0.0492      Mean   : 0.2488  \n",
       " 3rd Qu.:0.00000   3rd Qu.: 0.00000   3rd Qu.:0.0000      3rd Qu.: 0.1000  \n",
       " Max.   :5.55000   Max.   :10.00000   Max.   :4.4100      Max.   :20.0000  \n",
       " word_freq_business word_freq_email  word_freq_you    word_freq_credit  \n",
       " Min.   :0.0000     Min.   :0.0000   Min.   : 0.000   Min.   : 0.00000  \n",
       " 1st Qu.:0.0000     1st Qu.:0.0000   1st Qu.: 0.000   1st Qu.: 0.00000  \n",
       " Median :0.0000     Median :0.0000   Median : 1.310   Median : 0.00000  \n",
       " Mean   :0.1426     Mean   :0.1847   Mean   : 1.662   Mean   : 0.08558  \n",
       " 3rd Qu.:0.0000     3rd Qu.:0.0000   3rd Qu.: 2.640   3rd Qu.: 0.00000  \n",
       " Max.   :7.1400     Max.   :9.0900   Max.   :18.750   Max.   :18.18000  \n",
       " word_freq_your    word_freq_font    word_freq_000    word_freq_money   \n",
       " Min.   : 0.0000   Min.   : 0.0000   Min.   :0.0000   Min.   : 0.00000  \n",
       " 1st Qu.: 0.0000   1st Qu.: 0.0000   1st Qu.:0.0000   1st Qu.: 0.00000  \n",
       " Median : 0.2200   Median : 0.0000   Median :0.0000   Median : 0.00000  \n",
       " Mean   : 0.8098   Mean   : 0.1212   Mean   :0.1016   Mean   : 0.09427  \n",
       " 3rd Qu.: 1.2700   3rd Qu.: 0.0000   3rd Qu.:0.0000   3rd Qu.: 0.00000  \n",
       " Max.   :11.1100   Max.   :17.1000   Max.   :5.4500   Max.   :12.50000  \n",
       "  word_freq_hp     word_freq_hpl     word_freq_george  word_freq_650   \n",
       " Min.   : 0.0000   Min.   : 0.0000   Min.   : 0.0000   Min.   :0.0000  \n",
       " 1st Qu.: 0.0000   1st Qu.: 0.0000   1st Qu.: 0.0000   1st Qu.:0.0000  \n",
       " Median : 0.0000   Median : 0.0000   Median : 0.0000   Median :0.0000  \n",
       " Mean   : 0.5495   Mean   : 0.2654   Mean   : 0.7673   Mean   :0.1248  \n",
       " 3rd Qu.: 0.0000   3rd Qu.: 0.0000   3rd Qu.: 0.0000   3rd Qu.:0.0000  \n",
       " Max.   :20.8300   Max.   :16.6600   Max.   :33.3300   Max.   :9.0900  \n",
       " word_freq_lab      word_freq_labs   word_freq_telnet   word_freq_857    \n",
       " Min.   : 0.00000   Min.   :0.0000   Min.   : 0.00000   Min.   :0.00000  \n",
       " 1st Qu.: 0.00000   1st Qu.:0.0000   1st Qu.: 0.00000   1st Qu.:0.00000  \n",
       " Median : 0.00000   Median :0.0000   Median : 0.00000   Median :0.00000  \n",
       " Mean   : 0.09892   Mean   :0.1029   Mean   : 0.06475   Mean   :0.04705  \n",
       " 3rd Qu.: 0.00000   3rd Qu.:0.0000   3rd Qu.: 0.00000   3rd Qu.:0.00000  \n",
       " Max.   :14.28000   Max.   :5.8800   Max.   :12.50000   Max.   :4.76000  \n",
       " word_freq_data     word_freq_415      word_freq_85     word_freq_technology\n",
       " Min.   : 0.00000   Min.   :0.00000   Min.   : 0.0000   Min.   :0.00000     \n",
       " 1st Qu.: 0.00000   1st Qu.:0.00000   1st Qu.: 0.0000   1st Qu.:0.00000     \n",
       " Median : 0.00000   Median :0.00000   Median : 0.0000   Median :0.00000     \n",
       " Mean   : 0.09723   Mean   :0.04784   Mean   : 0.1054   Mean   :0.09748     \n",
       " 3rd Qu.: 0.00000   3rd Qu.:0.00000   3rd Qu.: 0.0000   3rd Qu.:0.00000     \n",
       " Max.   :18.18000   Max.   :4.76000   Max.   :20.0000   Max.   :7.69000     \n",
       " word_freq_1999  word_freq_parts   word_freq_pm      word_freq_direct \n",
       " Min.   :0.000   Min.   :0.0000   Min.   : 0.00000   Min.   :0.00000  \n",
       " 1st Qu.:0.000   1st Qu.:0.0000   1st Qu.: 0.00000   1st Qu.:0.00000  \n",
       " Median :0.000   Median :0.0000   Median : 0.00000   Median :0.00000  \n",
       " Mean   :0.137   Mean   :0.0132   Mean   : 0.07863   Mean   :0.06483  \n",
       " 3rd Qu.:0.000   3rd Qu.:0.0000   3rd Qu.: 0.00000   3rd Qu.:0.00000  \n",
       " Max.   :6.890   Max.   :8.3300   Max.   :11.11000   Max.   :4.76000  \n",
       "  word_freq_cs     word_freq_meeting word_freq_original word_freq_project\n",
       " Min.   :0.00000   Min.   : 0.0000   Min.   :0.0000     Min.   : 0.0000  \n",
       " 1st Qu.:0.00000   1st Qu.: 0.0000   1st Qu.:0.0000     1st Qu.: 0.0000  \n",
       " Median :0.00000   Median : 0.0000   Median :0.0000     Median : 0.0000  \n",
       " Mean   :0.04367   Mean   : 0.1323   Mean   :0.0461     Mean   : 0.0792  \n",
       " 3rd Qu.:0.00000   3rd Qu.: 0.0000   3rd Qu.:0.0000     3rd Qu.: 0.0000  \n",
       " Max.   :7.14000   Max.   :14.2800   Max.   :3.5700     Max.   :20.0000  \n",
       "  word_freq_re     word_freq_edu     word_freq_table    word_freq_conference\n",
       " Min.   : 0.0000   Min.   : 0.0000   Min.   :0.000000   Min.   : 0.00000    \n",
       " 1st Qu.: 0.0000   1st Qu.: 0.0000   1st Qu.:0.000000   1st Qu.: 0.00000    \n",
       " Median : 0.0000   Median : 0.0000   Median :0.000000   Median : 0.00000    \n",
       " Mean   : 0.3012   Mean   : 0.1798   Mean   :0.005444   Mean   : 0.03187    \n",
       " 3rd Qu.: 0.1100   3rd Qu.: 0.0000   3rd Qu.:0.000000   3rd Qu.: 0.00000    \n",
       " Max.   :21.4200   Max.   :22.0500   Max.   :2.170000   Max.   :10.00000    \n",
       " char_freq_semicolon char_freq_left_paren char_freq_left_bracket\n",
       " Min.   :0.00000     Min.   :0.000        Min.   :0.00000       \n",
       " 1st Qu.:0.00000     1st Qu.:0.000        1st Qu.:0.00000       \n",
       " Median :0.00000     Median :0.065        Median :0.00000       \n",
       " Mean   :0.03857     Mean   :0.139        Mean   :0.01698       \n",
       " 3rd Qu.:0.00000     3rd Qu.:0.188        3rd Qu.:0.00000       \n",
       " Max.   :4.38500     Max.   :9.752        Max.   :4.08100       \n",
       " char_freq_exclamation char_freq_dollar  char_freq_pound   \n",
       " Min.   : 0.0000       Min.   :0.00000   Min.   : 0.00000  \n",
       " 1st Qu.: 0.0000       1st Qu.:0.00000   1st Qu.: 0.00000  \n",
       " Median : 0.0000       Median :0.00000   Median : 0.00000  \n",
       " Mean   : 0.2691       Mean   :0.07581   Mean   : 0.04424  \n",
       " 3rd Qu.: 0.3150       3rd Qu.:0.05200   3rd Qu.: 0.00000  \n",
       " Max.   :32.4780       Max.   :6.00300   Max.   :19.82900  \n",
       " capital_run_length_average capital_run_length_longest capital_run_length_total\n",
       " Min.   :   1.000           Min.   :   1.00            Min.   :    1.0         \n",
       " 1st Qu.:   1.588           1st Qu.:   6.00            1st Qu.:   35.0         \n",
       " Median :   2.276           Median :  15.00            Median :   95.0         \n",
       " Mean   :   5.191           Mean   :  52.17            Mean   :  283.3         \n",
       " 3rd Qu.:   3.706           3rd Qu.:  43.00            3rd Qu.:  266.0         \n",
       " Max.   :1102.500           Max.   :9989.00            Max.   :15841.0         \n",
       " is_spam \n",
       " 0:2788  \n",
       " 1:1813  \n",
       "         \n",
       "         \n",
       "         \n",
       "         "
      ]
     },
     "metadata": {},
     "output_type": "display_data"
    }
   ],
   "source": [
    "# See the head of and summarize the spambase data.\n",
    "head(spambase)\n",
    "summary(spambase)"
   ]
  },
  {
   "cell_type": "code",
   "execution_count": 33,
   "metadata": {},
   "outputs": [],
   "source": [
    "# split the data into training and testing\n",
    "split_size = floor(0.8 * nrow(spambase))\n",
    "set.seed(123)\n",
    "sb_train_ind = sample(seq_len(nrow(spambase)), size = split_size)\n",
    "sb_train = spambase[sb_train_ind, ]\n",
    "sb_test = spambase[-sb_train_ind, ]\n",
    "# the target is_spam is the 58th column\n",
    "X_train_sb = sb_train[,1:57] \n",
    "y_train_sb = sb_train[,58]\n",
    "X_test_sb = sb_test[,1:57]\n",
    "y_test_sb = sb_test[,58]"
   ]
  },
  {
   "cell_type": "code",
   "execution_count": 34,
   "metadata": {},
   "outputs": [],
   "source": [
    "# turn everything into matrix for compatability with grf functions\n",
    "X_train_mat_sb = as.matrix(sapply(X_train_sb, as.numeric))  \n",
    "y_train_mat_sb = as.matrix(sapply(y_train_sb, as.numeric)) \n",
    "X_test_mat_sb = as.matrix(sapply(X_test_sb, as.numeric)) \n",
    "y_test_mat_sb = as.matrix(sapply(y_test_sb, as.numeric)) "
   ]
  },
  {
   "cell_type": "code",
   "execution_count": 40,
   "metadata": {},
   "outputs": [],
   "source": [
    "# train a random forest\n",
    "c.forest = regression_forest(X_train_mat_sb, y_train_mat_sb, num.trees = 10000)"
   ]
  },
  {
   "cell_type": "code",
   "execution_count": 42,
   "metadata": {},
   "outputs": [],
   "source": [
    "# predict the random forest over the training and test data\n",
    "c.forest_pred = predict(c.forest, estimate.variance = TRUE)\n",
    "c.forest_test = predict(c.forest, X_test_mat_sb, estimate.variance = TRUE)"
   ]
  },
  {
   "cell_type": "code",
   "execution_count": 44,
   "metadata": {},
   "outputs": [
    {
     "data": {
      "text/html": [
       "<table>\n",
       "<caption>A data.frame: 6 × 2</caption>\n",
       "<thead>\n",
       "\t<tr><th scope=col>predictions</th><th scope=col>variance.estimates</th></tr>\n",
       "\t<tr><th scope=col>&lt;dbl&gt;</th><th scope=col>&lt;dbl&gt;</th></tr>\n",
       "</thead>\n",
       "<tbody>\n",
       "\t<tr><td>1.920534</td><td>0.0001425762</td></tr>\n",
       "\t<tr><td>1.309362</td><td>0.0045880897</td></tr>\n",
       "\t<tr><td>1.230825</td><td>0.0019576435</td></tr>\n",
       "\t<tr><td>1.747004</td><td>0.0038020701</td></tr>\n",
       "\t<tr><td>1.683123</td><td>0.0006767731</td></tr>\n",
       "\t<tr><td>1.779222</td><td>0.0030354298</td></tr>\n",
       "</tbody>\n",
       "</table>\n"
      ],
      "text/latex": [
       "A data.frame: 6 × 2\n",
       "\\begin{tabular}{r|ll}\n",
       " predictions & variance.estimates\\\\\n",
       " <dbl> & <dbl>\\\\\n",
       "\\hline\n",
       "\t 1.920534 & 0.0001425762\\\\\n",
       "\t 1.309362 & 0.0045880897\\\\\n",
       "\t 1.230825 & 0.0019576435\\\\\n",
       "\t 1.747004 & 0.0038020701\\\\\n",
       "\t 1.683123 & 0.0006767731\\\\\n",
       "\t 1.779222 & 0.0030354298\\\\\n",
       "\\end{tabular}\n"
      ],
      "text/markdown": [
       "\n",
       "A data.frame: 6 × 2\n",
       "\n",
       "| predictions &lt;dbl&gt; | variance.estimates &lt;dbl&gt; |\n",
       "|---|---|\n",
       "| 1.920534 | 0.0001425762 |\n",
       "| 1.309362 | 0.0045880897 |\n",
       "| 1.230825 | 0.0019576435 |\n",
       "| 1.747004 | 0.0038020701 |\n",
       "| 1.683123 | 0.0006767731 |\n",
       "| 1.779222 | 0.0030354298 |\n",
       "\n"
      ],
      "text/plain": [
       "  predictions variance.estimates\n",
       "1 1.920534    0.0001425762      \n",
       "2 1.309362    0.0045880897      \n",
       "3 1.230825    0.0019576435      \n",
       "4 1.747004    0.0038020701      \n",
       "5 1.683123    0.0006767731      \n",
       "6 1.779222    0.0030354298      "
      ]
     },
     "metadata": {},
     "output_type": "display_data"
    },
    {
     "data": {
      "text/plain": [
       "  predictions    variance.estimates \n",
       " Min.   :1.001   Min.   :7.940e-07  \n",
       " 1st Qu.:1.048   1st Qu.:1.157e-04  \n",
       " Median :1.198   Median :5.070e-04  \n",
       " Mean   :1.398   Mean   :1.369e-03  \n",
       " 3rd Qu.:1.856   3rd Qu.:1.729e-03  \n",
       " Max.   :1.999   Max.   :1.410e-02  "
      ]
     },
     "metadata": {},
     "output_type": "display_data"
    }
   ],
   "source": [
    "# check the predictions\n",
    "head(c.forest_test)\n",
    "summary(c.forest_test)"
   ]
  },
  {
   "cell_type": "code",
   "execution_count": null,
   "metadata": {},
   "outputs": [],
   "source": [
    "## Plotting predictions\n",
    "# test\n",
    "c.forest_test$min = c.forest_test$predictions - sqrt(c.forest_test$variance.estimates)\n",
    "c.forest_test$max = c.forest_test$predictions + sqrt(c.forest_test$variance.estimates)\n",
    "c.forest_test$is_spam = sb_test\n",
    "ordered.test.df.sb = r.forest_test[order(c.forest_test$predictions), ]\n",
    "\n",
    "ggplot(ordered.test.df.sb, aes(x = ,  y = predictions)) +\n",
    "    ggtitle(\"Random Forest Predictions on the Spambase data set.\")"
   ]
  }
 ],
 "metadata": {
  "kernelspec": {
   "display_name": "R",
   "language": "R",
   "name": "ir"
  },
  "language_info": {
   "codemirror_mode": "r",
   "file_extension": ".r",
   "mimetype": "text/x-r-source",
   "name": "R",
   "pygments_lexer": "r",
   "version": "3.5.1"
  }
 },
 "nbformat": 4,
 "nbformat_minor": 2
}
