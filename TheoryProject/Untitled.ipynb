{
 "cells": [
  {
   "cell_type": "markdown",
   "metadata": {},
   "source": [
    "# CSCI-575 Theory Project\n",
    "## Lewis Blake\n",
    "### Paper: Confidence Intervals for Random Forests: The Jackknife and the Infinitesimal Jackknife\n",
    "#### Authors: Stefan Wager, Trevor Hastie, Bradley Efron\n",
    "#### Journal of Machine Learning Research 15 (2014) 1625-1651"
   ]
  },
  {
   "cell_type": "markdown",
   "metadata": {},
   "source": [
    "## AutoMPG Data Experiement\n",
    "Following is a recreation of the experiment performed in the paper on the AutoMPG data set. The AutoMPG data set is a supervised resgression problem "
   ]
  },
  {
   "cell_type": "code",
   "execution_count": null,
   "metadata": {},
   "outputs": [],
   "source": []
  }
 ],
 "metadata": {
  "kernelspec": {
   "display_name": "R",
   "language": "R",
   "name": "ir"
  },
  "language_info": {
   "codemirror_mode": "r",
   "file_extension": ".r",
   "mimetype": "text/x-r-source",
   "name": "R",
   "pygments_lexer": "r",
   "version": "3.5.1"
  }
 },
 "nbformat": 4,
 "nbformat_minor": 2
}
